{
 "cells": [
  {
   "cell_type": "markdown",
   "metadata": {},
   "source": [
    "# Telco Churn Predictions"
   ]
  },
  {
   "cell_type": "markdown",
   "metadata": {},
   "source": [
    "### Question: Why are customers churning? "
   ]
  },
  {
   "cell_type": "markdown",
   "metadata": {},
   "source": [
    "### Goals: Predict which customers are going to churn and what features are causing churn.\n",
    "(Baseline of 60% churn***)"
   ]
  },
  {
   "cell_type": "markdown",
   "metadata": {},
   "source": [
    "### Additional questons:\n",
    "- Could the month in which they sign up influence churn?\n",
    "- If a cohort(s) is identified by tenure, is there a cohort who has a higher rate of churn than others?\n",
    "- Are there features that indicate a higher rate of churn?\n",
    "- Is there a price threshhold for specific services where likihood of churn increases once customers get past that point? What is that price point and for what services?\n",
    "- Are the rates comparable for customers who have month-to-month contracts at the 12-month mark vs the customers who have 1-year contracts at their 12-month mark?"
   ]
  },
  {
   "cell_type": "markdown",
   "metadata": {},
   "source": [
    "### Data Dictionary\n",
    "\n",
    "Choices made and why\n",
    "what columns mean\n",
    "combined columns and why\n",
    "dropped columns and why\n",
    "changed dtypes"
   ]
  },
  {
   "cell_type": "markdown",
   "metadata": {},
   "source": [
    "## Imports"
   ]
  },
  {
   "cell_type": "markdown",
   "metadata": {},
   "source": [
    "- Import all the neccessary libraries needed to create models that will predict churn."
   ]
  },
  {
   "cell_type": "code",
   "execution_count": 63,
   "metadata": {},
   "outputs": [],
   "source": [
    "import warnings\n",
    "warnings.filterwarnings('ignore')\n",
    "import pandas as pd\n",
    "import numpy as np\n",
    "import matplotlib.pyplot as plt\n",
    "%matplotlib inline\n",
    "import seaborn as sns\n",
    "\n",
    "from sklearn.model_selection import train_test_split\n",
    "from sklearn.linear_model import LogisticRegression\n",
    "from sklearn.tree import DecisionTreeClassifier\n",
    "from sklearn.tree import export_graphviz\n",
    "from sklearn.metrics import classification_report\n",
    "from sklearn.metrics import confusion_matrix\n",
    "from sklearn.impute import SimpleImputer\n",
    "from sklearn.preprocessing import LabelEncoder, OneHotEncoder, MinMaxScaler\n",
    "from sklearn.feature_selection import SelectKBest, f_regression\n",
    "from sklearn.ensemble import RandomForestClassifier\n",
    "\n",
    "from util import get_db_url\n",
    "import acquire\n",
    "import prepare\n",
    "import feature_selection"
   ]
  },
  {
   "cell_type": "markdown",
   "metadata": {},
   "source": [
    "- I will use the acquire.py file to get the data. I will look through the data in this notebook and clean up anything that I feel needs to be cleande up: fill or drop null values, change data types, etc.\n",
    "\n",
    "**Tasks: check for nulls, look at dtypes, handle customer_id column.**"
   ]
  },
  {
   "cell_type": "code",
   "execution_count": 2,
   "metadata": {},
   "outputs": [
    {
     "data": {
      "text/html": [
       "<div>\n",
       "<style scoped>\n",
       "    .dataframe tbody tr th:only-of-type {\n",
       "        vertical-align: middle;\n",
       "    }\n",
       "\n",
       "    .dataframe tbody tr th {\n",
       "        vertical-align: top;\n",
       "    }\n",
       "\n",
       "    .dataframe thead th {\n",
       "        text-align: right;\n",
       "    }\n",
       "</style>\n",
       "<table border=\"1\" class=\"dataframe\">\n",
       "  <thead>\n",
       "    <tr style=\"text-align: right;\">\n",
       "      <th></th>\n",
       "      <th>payment_type_id</th>\n",
       "      <th>internet_service_type_id</th>\n",
       "      <th>contract_type_id</th>\n",
       "      <th>customer_id</th>\n",
       "      <th>gender</th>\n",
       "      <th>senior_citizen</th>\n",
       "      <th>partner</th>\n",
       "      <th>dependents</th>\n",
       "      <th>tenure</th>\n",
       "      <th>phone_service</th>\n",
       "      <th>...</th>\n",
       "      <th>tech_support</th>\n",
       "      <th>streaming_tv</th>\n",
       "      <th>streaming_movies</th>\n",
       "      <th>paperless_billing</th>\n",
       "      <th>monthly_charges</th>\n",
       "      <th>total_charges</th>\n",
       "      <th>churn</th>\n",
       "      <th>contract_type</th>\n",
       "      <th>internet_service_type</th>\n",
       "      <th>payment_type</th>\n",
       "    </tr>\n",
       "  </thead>\n",
       "  <tbody>\n",
       "    <tr>\n",
       "      <th>0</th>\n",
       "      <td>2</td>\n",
       "      <td>1</td>\n",
       "      <td>1</td>\n",
       "      <td>0003-MKNFE</td>\n",
       "      <td>Male</td>\n",
       "      <td>0</td>\n",
       "      <td>No</td>\n",
       "      <td>No</td>\n",
       "      <td>9</td>\n",
       "      <td>Yes</td>\n",
       "      <td>...</td>\n",
       "      <td>No</td>\n",
       "      <td>No</td>\n",
       "      <td>Yes</td>\n",
       "      <td>No</td>\n",
       "      <td>59.9</td>\n",
       "      <td>542.40</td>\n",
       "      <td>No</td>\n",
       "      <td>Month-to-month</td>\n",
       "      <td>DSL</td>\n",
       "      <td>Mailed check</td>\n",
       "    </tr>\n",
       "    <tr>\n",
       "      <th>1</th>\n",
       "      <td>4</td>\n",
       "      <td>1</td>\n",
       "      <td>1</td>\n",
       "      <td>0013-MHZWF</td>\n",
       "      <td>Female</td>\n",
       "      <td>0</td>\n",
       "      <td>No</td>\n",
       "      <td>Yes</td>\n",
       "      <td>9</td>\n",
       "      <td>Yes</td>\n",
       "      <td>...</td>\n",
       "      <td>Yes</td>\n",
       "      <td>Yes</td>\n",
       "      <td>Yes</td>\n",
       "      <td>Yes</td>\n",
       "      <td>69.4</td>\n",
       "      <td>571.45</td>\n",
       "      <td>No</td>\n",
       "      <td>Month-to-month</td>\n",
       "      <td>DSL</td>\n",
       "      <td>Credit card (automatic)</td>\n",
       "    </tr>\n",
       "    <tr>\n",
       "      <th>2</th>\n",
       "      <td>1</td>\n",
       "      <td>1</td>\n",
       "      <td>1</td>\n",
       "      <td>0015-UOCOJ</td>\n",
       "      <td>Female</td>\n",
       "      <td>1</td>\n",
       "      <td>No</td>\n",
       "      <td>No</td>\n",
       "      <td>7</td>\n",
       "      <td>Yes</td>\n",
       "      <td>...</td>\n",
       "      <td>No</td>\n",
       "      <td>No</td>\n",
       "      <td>No</td>\n",
       "      <td>Yes</td>\n",
       "      <td>48.2</td>\n",
       "      <td>340.35</td>\n",
       "      <td>No</td>\n",
       "      <td>Month-to-month</td>\n",
       "      <td>DSL</td>\n",
       "      <td>Electronic check</td>\n",
       "    </tr>\n",
       "    <tr>\n",
       "      <th>3</th>\n",
       "      <td>1</td>\n",
       "      <td>1</td>\n",
       "      <td>1</td>\n",
       "      <td>0023-HGHWL</td>\n",
       "      <td>Male</td>\n",
       "      <td>1</td>\n",
       "      <td>No</td>\n",
       "      <td>No</td>\n",
       "      <td>1</td>\n",
       "      <td>No</td>\n",
       "      <td>...</td>\n",
       "      <td>No</td>\n",
       "      <td>No</td>\n",
       "      <td>No</td>\n",
       "      <td>Yes</td>\n",
       "      <td>25.1</td>\n",
       "      <td>25.10</td>\n",
       "      <td>Yes</td>\n",
       "      <td>Month-to-month</td>\n",
       "      <td>DSL</td>\n",
       "      <td>Electronic check</td>\n",
       "    </tr>\n",
       "    <tr>\n",
       "      <th>4</th>\n",
       "      <td>3</td>\n",
       "      <td>1</td>\n",
       "      <td>1</td>\n",
       "      <td>0032-PGELS</td>\n",
       "      <td>Female</td>\n",
       "      <td>0</td>\n",
       "      <td>Yes</td>\n",
       "      <td>Yes</td>\n",
       "      <td>1</td>\n",
       "      <td>No</td>\n",
       "      <td>...</td>\n",
       "      <td>No</td>\n",
       "      <td>No</td>\n",
       "      <td>No</td>\n",
       "      <td>No</td>\n",
       "      <td>30.5</td>\n",
       "      <td>30.50</td>\n",
       "      <td>Yes</td>\n",
       "      <td>Month-to-month</td>\n",
       "      <td>DSL</td>\n",
       "      <td>Bank transfer (automatic)</td>\n",
       "    </tr>\n",
       "  </tbody>\n",
       "</table>\n",
       "<p>5 rows × 24 columns</p>\n",
       "</div>"
      ],
      "text/plain": [
       "   payment_type_id  internet_service_type_id  contract_type_id customer_id  \\\n",
       "0                2                         1                 1  0003-MKNFE   \n",
       "1                4                         1                 1  0013-MHZWF   \n",
       "2                1                         1                 1  0015-UOCOJ   \n",
       "3                1                         1                 1  0023-HGHWL   \n",
       "4                3                         1                 1  0032-PGELS   \n",
       "\n",
       "   gender  senior_citizen partner dependents  tenure phone_service  ...  \\\n",
       "0    Male               0      No         No       9           Yes  ...   \n",
       "1  Female               0      No        Yes       9           Yes  ...   \n",
       "2  Female               1      No         No       7           Yes  ...   \n",
       "3    Male               1      No         No       1            No  ...   \n",
       "4  Female               0     Yes        Yes       1            No  ...   \n",
       "\n",
       "  tech_support streaming_tv streaming_movies paperless_billing  \\\n",
       "0           No           No              Yes                No   \n",
       "1          Yes          Yes              Yes               Yes   \n",
       "2           No           No               No               Yes   \n",
       "3           No           No               No               Yes   \n",
       "4           No           No               No                No   \n",
       "\n",
       "  monthly_charges total_charges churn   contract_type  internet_service_type  \\\n",
       "0            59.9        542.40    No  Month-to-month                    DSL   \n",
       "1            69.4        571.45    No  Month-to-month                    DSL   \n",
       "2            48.2        340.35    No  Month-to-month                    DSL   \n",
       "3            25.1         25.10   Yes  Month-to-month                    DSL   \n",
       "4            30.5         30.50   Yes  Month-to-month                    DSL   \n",
       "\n",
       "                payment_type  \n",
       "0               Mailed check  \n",
       "1    Credit card (automatic)  \n",
       "2           Electronic check  \n",
       "3           Electronic check  \n",
       "4  Bank transfer (automatic)  \n",
       "\n",
       "[5 rows x 24 columns]"
      ]
     },
     "execution_count": 2,
     "metadata": {},
     "output_type": "execute_result"
    }
   ],
   "source": [
    "df = acquire.acquire_telco()\n",
    "df.head()"
   ]
  },
  {
   "cell_type": "code",
   "execution_count": 3,
   "metadata": {},
   "outputs": [
    {
     "data": {
      "text/plain": [
       "(7032, 24)"
      ]
     },
     "execution_count": 3,
     "metadata": {},
     "output_type": "execute_result"
    }
   ],
   "source": [
    "df.shape"
   ]
  },
  {
   "cell_type": "code",
   "execution_count": 4,
   "metadata": {},
   "outputs": [
    {
     "name": "stdout",
     "output_type": "stream",
     "text": [
      "<class 'pandas.core.frame.DataFrame'>\n",
      "Int64Index: 7032 entries, 0 to 7042\n",
      "Data columns (total 24 columns):\n",
      "payment_type_id             7032 non-null int64\n",
      "internet_service_type_id    7032 non-null int64\n",
      "contract_type_id            7032 non-null int64\n",
      "customer_id                 7032 non-null object\n",
      "gender                      7032 non-null object\n",
      "senior_citizen              7032 non-null int64\n",
      "partner                     7032 non-null object\n",
      "dependents                  7032 non-null object\n",
      "tenure                      7032 non-null int64\n",
      "phone_service               7032 non-null object\n",
      "multiple_lines              7032 non-null object\n",
      "online_security             7032 non-null object\n",
      "online_backup               7032 non-null object\n",
      "device_protection           7032 non-null object\n",
      "tech_support                7032 non-null object\n",
      "streaming_tv                7032 non-null object\n",
      "streaming_movies            7032 non-null object\n",
      "paperless_billing           7032 non-null object\n",
      "monthly_charges             7032 non-null float64\n",
      "total_charges               7032 non-null float64\n",
      "churn                       7032 non-null object\n",
      "contract_type               7032 non-null object\n",
      "internet_service_type       7032 non-null object\n",
      "payment_type                7032 non-null object\n",
      "dtypes: float64(2), int64(5), object(17)\n",
      "memory usage: 1.3+ MB\n"
     ]
    }
   ],
   "source": [
    "df.info()"
   ]
  },
  {
   "cell_type": "markdown",
   "metadata": {},
   "source": [
    "**From looking at this table:**\n",
    "- Change total_charges column into float.\n",
    "- Change churn column into numeric values to run through a model."
   ]
  },
  {
   "cell_type": "code",
   "execution_count": 5,
   "metadata": {},
   "outputs": [
    {
     "data": {
      "text/html": [
       "<div>\n",
       "<style scoped>\n",
       "    .dataframe tbody tr th:only-of-type {\n",
       "        vertical-align: middle;\n",
       "    }\n",
       "\n",
       "    .dataframe tbody tr th {\n",
       "        vertical-align: top;\n",
       "    }\n",
       "\n",
       "    .dataframe thead th {\n",
       "        text-align: right;\n",
       "    }\n",
       "</style>\n",
       "<table border=\"1\" class=\"dataframe\">\n",
       "  <thead>\n",
       "    <tr style=\"text-align: right;\">\n",
       "      <th></th>\n",
       "      <th>count</th>\n",
       "      <th>mean</th>\n",
       "      <th>std</th>\n",
       "      <th>min</th>\n",
       "      <th>25%</th>\n",
       "      <th>50%</th>\n",
       "      <th>75%</th>\n",
       "      <th>max</th>\n",
       "    </tr>\n",
       "  </thead>\n",
       "  <tbody>\n",
       "    <tr>\n",
       "      <th>payment_type_id</th>\n",
       "      <td>7032.0</td>\n",
       "      <td>2.315557</td>\n",
       "      <td>1.149523</td>\n",
       "      <td>1.00</td>\n",
       "      <td>1.0000</td>\n",
       "      <td>2.000</td>\n",
       "      <td>3.0000</td>\n",
       "      <td>4.00</td>\n",
       "    </tr>\n",
       "    <tr>\n",
       "      <th>internet_service_type_id</th>\n",
       "      <td>7032.0</td>\n",
       "      <td>1.872582</td>\n",
       "      <td>0.737271</td>\n",
       "      <td>1.00</td>\n",
       "      <td>1.0000</td>\n",
       "      <td>2.000</td>\n",
       "      <td>2.0000</td>\n",
       "      <td>3.00</td>\n",
       "    </tr>\n",
       "    <tr>\n",
       "      <th>contract_type_id</th>\n",
       "      <td>7032.0</td>\n",
       "      <td>1.688567</td>\n",
       "      <td>0.832934</td>\n",
       "      <td>1.00</td>\n",
       "      <td>1.0000</td>\n",
       "      <td>1.000</td>\n",
       "      <td>2.0000</td>\n",
       "      <td>3.00</td>\n",
       "    </tr>\n",
       "    <tr>\n",
       "      <th>senior_citizen</th>\n",
       "      <td>7032.0</td>\n",
       "      <td>0.162400</td>\n",
       "      <td>0.368844</td>\n",
       "      <td>0.00</td>\n",
       "      <td>0.0000</td>\n",
       "      <td>0.000</td>\n",
       "      <td>0.0000</td>\n",
       "      <td>1.00</td>\n",
       "    </tr>\n",
       "    <tr>\n",
       "      <th>tenure</th>\n",
       "      <td>7032.0</td>\n",
       "      <td>32.421786</td>\n",
       "      <td>24.545260</td>\n",
       "      <td>1.00</td>\n",
       "      <td>9.0000</td>\n",
       "      <td>29.000</td>\n",
       "      <td>55.0000</td>\n",
       "      <td>72.00</td>\n",
       "    </tr>\n",
       "    <tr>\n",
       "      <th>monthly_charges</th>\n",
       "      <td>7032.0</td>\n",
       "      <td>64.798208</td>\n",
       "      <td>30.085974</td>\n",
       "      <td>18.25</td>\n",
       "      <td>35.5875</td>\n",
       "      <td>70.350</td>\n",
       "      <td>89.8625</td>\n",
       "      <td>118.75</td>\n",
       "    </tr>\n",
       "    <tr>\n",
       "      <th>total_charges</th>\n",
       "      <td>7032.0</td>\n",
       "      <td>2283.300441</td>\n",
       "      <td>2266.771362</td>\n",
       "      <td>18.80</td>\n",
       "      <td>401.4500</td>\n",
       "      <td>1397.475</td>\n",
       "      <td>3794.7375</td>\n",
       "      <td>8684.80</td>\n",
       "    </tr>\n",
       "  </tbody>\n",
       "</table>\n",
       "</div>"
      ],
      "text/plain": [
       "                           count         mean          std    min       25%  \\\n",
       "payment_type_id           7032.0     2.315557     1.149523   1.00    1.0000   \n",
       "internet_service_type_id  7032.0     1.872582     0.737271   1.00    1.0000   \n",
       "contract_type_id          7032.0     1.688567     0.832934   1.00    1.0000   \n",
       "senior_citizen            7032.0     0.162400     0.368844   0.00    0.0000   \n",
       "tenure                    7032.0    32.421786    24.545260   1.00    9.0000   \n",
       "monthly_charges           7032.0    64.798208    30.085974  18.25   35.5875   \n",
       "total_charges             7032.0  2283.300441  2266.771362  18.80  401.4500   \n",
       "\n",
       "                               50%        75%      max  \n",
       "payment_type_id              2.000     3.0000     4.00  \n",
       "internet_service_type_id     2.000     2.0000     3.00  \n",
       "contract_type_id             1.000     2.0000     3.00  \n",
       "senior_citizen               0.000     0.0000     1.00  \n",
       "tenure                      29.000    55.0000    72.00  \n",
       "monthly_charges             70.350    89.8625   118.75  \n",
       "total_charges             1397.475  3794.7375  8684.80  "
      ]
     },
     "execution_count": 5,
     "metadata": {},
     "output_type": "execute_result"
    }
   ],
   "source": [
    "df.describe().T"
   ]
  },
  {
   "cell_type": "markdown",
   "metadata": {},
   "source": [
    "- Check the data for any null values using .value_counts()."
   ]
  },
  {
   "cell_type": "code",
   "execution_count": 6,
   "metadata": {},
   "outputs": [
    {
     "data": {
      "text/plain": [
       "No     5163\n",
       "Yes    1869\n",
       "Name: churn, dtype: int64"
      ]
     },
     "execution_count": 6,
     "metadata": {},
     "output_type": "execute_result"
    }
   ],
   "source": [
    "df.churn.value_counts()"
   ]
  },
  {
   "cell_type": "code",
   "execution_count": 7,
   "metadata": {},
   "outputs": [
    {
     "data": {
      "text/plain": [
       "0"
      ]
     },
     "execution_count": 7,
     "metadata": {},
     "output_type": "execute_result"
    }
   ],
   "source": [
    "df.monthly_charges.value_counts()\n",
    "df.monthly_charges.isnull().sum()"
   ]
  },
  {
   "cell_type": "markdown",
   "metadata": {},
   "source": [
    "- Looking at the .value_counts() for total charges, I saw that there were 11 null values, so I went in and took care of those empty values by turning them into np.nan's, then double checked the work."
   ]
  },
  {
   "cell_type": "code",
   "execution_count": 8,
   "metadata": {},
   "outputs": [
    {
     "data": {
      "text/plain": [
       "20.20      11\n",
       "19.75       9\n",
       "20.05       8\n",
       "19.90       8\n",
       "19.65       8\n",
       "19.55       7\n",
       "45.30       7\n",
       "20.15       6\n",
       "20.25       6\n",
       "19.45       6\n",
       "20.45       5\n",
       "20.30       5\n",
       "69.65       4\n",
       "69.90       4\n",
       "19.40       4\n",
       "70.60       4\n",
       "20.50       4\n",
       "20.40       4\n",
       "19.50       4\n",
       "49.90       4\n",
       "69.95       4\n",
       "19.95       4\n",
       "19.30       4\n",
       "75.30       4\n",
       "44.00       4\n",
       "19.20       4\n",
       "19.85       4\n",
       "74.70       4\n",
       "50.15       4\n",
       "69.60       4\n",
       "           ..\n",
       "1834.15     1\n",
       "999.80      1\n",
       "8333.95     1\n",
       "7171.70     1\n",
       "3726.15     1\n",
       "80.05       1\n",
       "456.85      1\n",
       "96.05       1\n",
       "1399.35     1\n",
       "2497.35     1\n",
       "7069.30     1\n",
       "688.65      1\n",
       "6471.85     1\n",
       "552.10      1\n",
       "3242.50     1\n",
       "3252.00     1\n",
       "183.75      1\n",
       "6886.25     1\n",
       "7108.20     1\n",
       "78.45       1\n",
       "1171.30     1\n",
       "3181.80     1\n",
       "2540.10     1\n",
       "3580.95     1\n",
       "6470.10     1\n",
       "3143.65     1\n",
       "1110.50     1\n",
       "1098.85     1\n",
       "156.10      1\n",
       "30.50       1\n",
       "Name: total_charges, Length: 6530, dtype: int64"
      ]
     },
     "execution_count": 8,
     "metadata": {},
     "output_type": "execute_result"
    }
   ],
   "source": [
    "df.total_charges.value_counts()\n",
    "df.total_charges.replace(r'^\\s*$', np.nan, regex=True, inplace=True)\n",
    "df.total_charges.value_counts(dropna=False)"
   ]
  },
  {
   "cell_type": "markdown",
   "metadata": {},
   "source": [
    "- Since there were only 11 np.nan values in the total charges, I opted to just drop the 11 rows from the dataframe, since I am working with over 7,000 rows."
   ]
  },
  {
   "cell_type": "code",
   "execution_count": 9,
   "metadata": {},
   "outputs": [
    {
     "name": "stdout",
     "output_type": "stream",
     "text": [
      "<class 'pandas.core.frame.DataFrame'>\n",
      "Int64Index: 7032 entries, 0 to 7042\n",
      "Data columns (total 24 columns):\n",
      "payment_type_id             7032 non-null int64\n",
      "internet_service_type_id    7032 non-null int64\n",
      "contract_type_id            7032 non-null int64\n",
      "customer_id                 7032 non-null object\n",
      "gender                      7032 non-null object\n",
      "senior_citizen              7032 non-null int64\n",
      "partner                     7032 non-null object\n",
      "dependents                  7032 non-null object\n",
      "tenure                      7032 non-null int64\n",
      "phone_service               7032 non-null object\n",
      "multiple_lines              7032 non-null object\n",
      "online_security             7032 non-null object\n",
      "online_backup               7032 non-null object\n",
      "device_protection           7032 non-null object\n",
      "tech_support                7032 non-null object\n",
      "streaming_tv                7032 non-null object\n",
      "streaming_movies            7032 non-null object\n",
      "paperless_billing           7032 non-null object\n",
      "monthly_charges             7032 non-null float64\n",
      "total_charges               7032 non-null float64\n",
      "churn                       7032 non-null object\n",
      "contract_type               7032 non-null object\n",
      "internet_service_type       7032 non-null object\n",
      "payment_type                7032 non-null object\n",
      "dtypes: float64(2), int64(5), object(17)\n",
      "memory usage: 1.3+ MB\n"
     ]
    }
   ],
   "source": [
    "df = df.dropna()\n",
    "df.info()"
   ]
  },
  {
   "cell_type": "markdown",
   "metadata": {},
   "source": [
    "- I will now change the total_charges from an object to a float, since it is money."
   ]
  },
  {
   "cell_type": "code",
   "execution_count": 10,
   "metadata": {},
   "outputs": [
    {
     "data": {
      "text/plain": [
       "dtype('float64')"
      ]
     },
     "execution_count": 10,
     "metadata": {},
     "output_type": "execute_result"
    }
   ],
   "source": [
    "df.total_charges.dtype\n",
    "df['total_charges'] = df['total_charges'].astype(float)\n",
    "df.total_charges.dtype"
   ]
  },
  {
   "cell_type": "markdown",
   "metadata": {},
   "source": [
    "**Task: Look into customer_id column.**"
   ]
  },
  {
   "cell_type": "markdown",
   "metadata": {},
   "source": [
    "## Baseline Model: Decision Tree"
   ]
  },
  {
   "cell_type": "markdown",
   "metadata": {},
   "source": [
    "- After preparing the data, I will create a new baseline dataframe and pick random numeric features to create a baseline model to predict churn. In order to do this, I need need to encode my churn column into 0's and 1's to depict either churned or not churned.\n",
    "\n",
    "**Task: Encode churn column.**"
   ]
  },
  {
   "cell_type": "code",
   "execution_count": 11,
   "metadata": {},
   "outputs": [
    {
     "data": {
      "text/html": [
       "<div>\n",
       "<style scoped>\n",
       "    .dataframe tbody tr th:only-of-type {\n",
       "        vertical-align: middle;\n",
       "    }\n",
       "\n",
       "    .dataframe tbody tr th {\n",
       "        vertical-align: top;\n",
       "    }\n",
       "\n",
       "    .dataframe thead th {\n",
       "        text-align: right;\n",
       "    }\n",
       "</style>\n",
       "<table border=\"1\" class=\"dataframe\">\n",
       "  <thead>\n",
       "    <tr style=\"text-align: right;\">\n",
       "      <th></th>\n",
       "      <th>payment_type_id</th>\n",
       "      <th>internet_service_type_id</th>\n",
       "      <th>contract_type_id</th>\n",
       "      <th>customer_id</th>\n",
       "      <th>gender</th>\n",
       "      <th>senior_citizen</th>\n",
       "      <th>partner</th>\n",
       "      <th>dependents</th>\n",
       "      <th>tenure</th>\n",
       "      <th>phone_service</th>\n",
       "      <th>...</th>\n",
       "      <th>tech_support</th>\n",
       "      <th>streaming_tv</th>\n",
       "      <th>streaming_movies</th>\n",
       "      <th>paperless_billing</th>\n",
       "      <th>monthly_charges</th>\n",
       "      <th>total_charges</th>\n",
       "      <th>churn</th>\n",
       "      <th>contract_type</th>\n",
       "      <th>internet_service_type</th>\n",
       "      <th>payment_type</th>\n",
       "    </tr>\n",
       "  </thead>\n",
       "  <tbody>\n",
       "    <tr>\n",
       "      <th>0</th>\n",
       "      <td>2</td>\n",
       "      <td>1</td>\n",
       "      <td>1</td>\n",
       "      <td>0003-MKNFE</td>\n",
       "      <td>Male</td>\n",
       "      <td>0</td>\n",
       "      <td>No</td>\n",
       "      <td>No</td>\n",
       "      <td>9</td>\n",
       "      <td>Yes</td>\n",
       "      <td>...</td>\n",
       "      <td>No</td>\n",
       "      <td>No</td>\n",
       "      <td>Yes</td>\n",
       "      <td>No</td>\n",
       "      <td>59.9</td>\n",
       "      <td>542.40</td>\n",
       "      <td>No</td>\n",
       "      <td>Month-to-month</td>\n",
       "      <td>DSL</td>\n",
       "      <td>Mailed check</td>\n",
       "    </tr>\n",
       "    <tr>\n",
       "      <th>1</th>\n",
       "      <td>4</td>\n",
       "      <td>1</td>\n",
       "      <td>1</td>\n",
       "      <td>0013-MHZWF</td>\n",
       "      <td>Female</td>\n",
       "      <td>0</td>\n",
       "      <td>No</td>\n",
       "      <td>Yes</td>\n",
       "      <td>9</td>\n",
       "      <td>Yes</td>\n",
       "      <td>...</td>\n",
       "      <td>Yes</td>\n",
       "      <td>Yes</td>\n",
       "      <td>Yes</td>\n",
       "      <td>Yes</td>\n",
       "      <td>69.4</td>\n",
       "      <td>571.45</td>\n",
       "      <td>No</td>\n",
       "      <td>Month-to-month</td>\n",
       "      <td>DSL</td>\n",
       "      <td>Credit card (automatic)</td>\n",
       "    </tr>\n",
       "    <tr>\n",
       "      <th>2</th>\n",
       "      <td>1</td>\n",
       "      <td>1</td>\n",
       "      <td>1</td>\n",
       "      <td>0015-UOCOJ</td>\n",
       "      <td>Female</td>\n",
       "      <td>1</td>\n",
       "      <td>No</td>\n",
       "      <td>No</td>\n",
       "      <td>7</td>\n",
       "      <td>Yes</td>\n",
       "      <td>...</td>\n",
       "      <td>No</td>\n",
       "      <td>No</td>\n",
       "      <td>No</td>\n",
       "      <td>Yes</td>\n",
       "      <td>48.2</td>\n",
       "      <td>340.35</td>\n",
       "      <td>No</td>\n",
       "      <td>Month-to-month</td>\n",
       "      <td>DSL</td>\n",
       "      <td>Electronic check</td>\n",
       "    </tr>\n",
       "    <tr>\n",
       "      <th>3</th>\n",
       "      <td>1</td>\n",
       "      <td>1</td>\n",
       "      <td>1</td>\n",
       "      <td>0023-HGHWL</td>\n",
       "      <td>Male</td>\n",
       "      <td>1</td>\n",
       "      <td>No</td>\n",
       "      <td>No</td>\n",
       "      <td>1</td>\n",
       "      <td>No</td>\n",
       "      <td>...</td>\n",
       "      <td>No</td>\n",
       "      <td>No</td>\n",
       "      <td>No</td>\n",
       "      <td>Yes</td>\n",
       "      <td>25.1</td>\n",
       "      <td>25.10</td>\n",
       "      <td>Yes</td>\n",
       "      <td>Month-to-month</td>\n",
       "      <td>DSL</td>\n",
       "      <td>Electronic check</td>\n",
       "    </tr>\n",
       "    <tr>\n",
       "      <th>4</th>\n",
       "      <td>3</td>\n",
       "      <td>1</td>\n",
       "      <td>1</td>\n",
       "      <td>0032-PGELS</td>\n",
       "      <td>Female</td>\n",
       "      <td>0</td>\n",
       "      <td>Yes</td>\n",
       "      <td>Yes</td>\n",
       "      <td>1</td>\n",
       "      <td>No</td>\n",
       "      <td>...</td>\n",
       "      <td>No</td>\n",
       "      <td>No</td>\n",
       "      <td>No</td>\n",
       "      <td>No</td>\n",
       "      <td>30.5</td>\n",
       "      <td>30.50</td>\n",
       "      <td>Yes</td>\n",
       "      <td>Month-to-month</td>\n",
       "      <td>DSL</td>\n",
       "      <td>Bank transfer (automatic)</td>\n",
       "    </tr>\n",
       "  </tbody>\n",
       "</table>\n",
       "<p>5 rows × 24 columns</p>\n",
       "</div>"
      ],
      "text/plain": [
       "   payment_type_id  internet_service_type_id  contract_type_id customer_id  \\\n",
       "0                2                         1                 1  0003-MKNFE   \n",
       "1                4                         1                 1  0013-MHZWF   \n",
       "2                1                         1                 1  0015-UOCOJ   \n",
       "3                1                         1                 1  0023-HGHWL   \n",
       "4                3                         1                 1  0032-PGELS   \n",
       "\n",
       "   gender  senior_citizen partner dependents  tenure phone_service  ...  \\\n",
       "0    Male               0      No         No       9           Yes  ...   \n",
       "1  Female               0      No        Yes       9           Yes  ...   \n",
       "2  Female               1      No         No       7           Yes  ...   \n",
       "3    Male               1      No         No       1            No  ...   \n",
       "4  Female               0     Yes        Yes       1            No  ...   \n",
       "\n",
       "  tech_support streaming_tv streaming_movies paperless_billing  \\\n",
       "0           No           No              Yes                No   \n",
       "1          Yes          Yes              Yes               Yes   \n",
       "2           No           No               No               Yes   \n",
       "3           No           No               No               Yes   \n",
       "4           No           No               No                No   \n",
       "\n",
       "  monthly_charges total_charges churn   contract_type  internet_service_type  \\\n",
       "0            59.9        542.40    No  Month-to-month                    DSL   \n",
       "1            69.4        571.45    No  Month-to-month                    DSL   \n",
       "2            48.2        340.35    No  Month-to-month                    DSL   \n",
       "3            25.1         25.10   Yes  Month-to-month                    DSL   \n",
       "4            30.5         30.50   Yes  Month-to-month                    DSL   \n",
       "\n",
       "                payment_type  \n",
       "0               Mailed check  \n",
       "1    Credit card (automatic)  \n",
       "2           Electronic check  \n",
       "3           Electronic check  \n",
       "4  Bank transfer (automatic)  \n",
       "\n",
       "[5 rows x 24 columns]"
      ]
     },
     "execution_count": 11,
     "metadata": {},
     "output_type": "execute_result"
    }
   ],
   "source": [
    "df_base = df\n",
    "df_base.head()"
   ]
  },
  {
   "cell_type": "code",
   "execution_count": 12,
   "metadata": {},
   "outputs": [
    {
     "data": {
      "text/plain": [
       "0    0\n",
       "1    0\n",
       "2    0\n",
       "3    1\n",
       "4    1\n",
       "Name: churn, dtype: int64"
      ]
     },
     "execution_count": 12,
     "metadata": {},
     "output_type": "execute_result"
    }
   ],
   "source": [
    "base_encoder = LabelEncoder()\n",
    "df_base.churn = base_encoder.fit_transform(df_base.churn)\n",
    "df_base.churn.head()"
   ]
  },
  {
   "cell_type": "markdown",
   "metadata": {},
   "source": [
    "- The dtype for the churn column has now been changed from object to an integer."
   ]
  },
  {
   "cell_type": "code",
   "execution_count": 13,
   "metadata": {},
   "outputs": [
    {
     "data": {
      "text/plain": [
       "dtype('int64')"
      ]
     },
     "execution_count": 13,
     "metadata": {},
     "output_type": "execute_result"
    }
   ],
   "source": [
    "df_base.churn.dtype"
   ]
  },
  {
   "cell_type": "markdown",
   "metadata": {},
   "source": [
    "- I will define what columns I want to be my features (X) and churn as my target (y)."
   ]
  },
  {
   "cell_type": "code",
   "execution_count": 14,
   "metadata": {},
   "outputs": [],
   "source": [
    "X = df_base[['tenure', 'monthly_charges', 'total_charges']]\n",
    "y = df_base[['churn']]"
   ]
  },
  {
   "cell_type": "markdown",
   "metadata": {},
   "source": [
    "- I will split the data into train and test, and then run the data through a decision tree model to create a baseline model.\n",
    "- After I plug the data into the model, I will look at the predicted churn values, and the probabilities of the customer either churning or not churning."
   ]
  },
  {
   "cell_type": "code",
   "execution_count": 15,
   "metadata": {},
   "outputs": [],
   "source": [
    "X_train, X_test, y_train, y_test = train_test_split(X, y, train_size=.7, random_state=123)"
   ]
  },
  {
   "cell_type": "code",
   "execution_count": 16,
   "metadata": {},
   "outputs": [
    {
     "data": {
      "text/plain": [
       "DecisionTreeClassifier(class_weight=None, criterion='entropy', max_depth=4,\n",
       "                       max_features=None, max_leaf_nodes=None,\n",
       "                       min_impurity_decrease=0.0, min_impurity_split=None,\n",
       "                       min_samples_leaf=1, min_samples_split=2,\n",
       "                       min_weight_fraction_leaf=0.0, presort=False,\n",
       "                       random_state=123, splitter='best')"
      ]
     },
     "execution_count": 16,
     "metadata": {},
     "output_type": "execute_result"
    }
   ],
   "source": [
    "clf = DecisionTreeClassifier(criterion='entropy', max_depth=4, random_state=123)\n",
    "clf.fit(X_train, y_train)"
   ]
  },
  {
   "cell_type": "code",
   "execution_count": 17,
   "metadata": {},
   "outputs": [
    {
     "data": {
      "text/plain": [
       "array([1, 0, 0, ..., 0, 0, 1])"
      ]
     },
     "execution_count": 17,
     "metadata": {},
     "output_type": "execute_result"
    }
   ],
   "source": [
    "y_pred = clf.predict(X_train)\n",
    "y_pred"
   ]
  },
  {
   "cell_type": "code",
   "execution_count": 18,
   "metadata": {},
   "outputs": [
    {
     "data": {
      "text/plain": [
       "array([[0.36346516, 0.63653484],\n",
       "       [0.91964286, 0.08035714],\n",
       "       [0.87067395, 0.12932605],\n",
       "       ...,\n",
       "       [0.87067395, 0.12932605],\n",
       "       [0.63268156, 0.36731844],\n",
       "       [0.36346516, 0.63653484]])"
      ]
     },
     "execution_count": 18,
     "metadata": {},
     "output_type": "execute_result"
    }
   ],
   "source": [
    "y_pred_proba = clf.predict_proba(X_train)\n",
    "y_pred_proba"
   ]
  },
  {
   "cell_type": "markdown",
   "metadata": {},
   "source": [
    "#### Evaluate the Baseline Model"
   ]
  },
  {
   "cell_type": "code",
   "execution_count": 19,
   "metadata": {},
   "outputs": [
    {
     "name": "stdout",
     "output_type": "stream",
     "text": [
      "Accuracy of Decision Tree classifier on training set: 0.79\n"
     ]
    }
   ],
   "source": [
    "print('Accuracy of Decision Tree classifier on training set: {:.2f}'\n",
    "     .format(clf.score(X_train, y_train)))"
   ]
  },
  {
   "cell_type": "code",
   "execution_count": 20,
   "metadata": {},
   "outputs": [
    {
     "data": {
      "text/plain": [
       "array([[3298,  327],\n",
       "       [ 684,  613]])"
      ]
     },
     "execution_count": 20,
     "metadata": {},
     "output_type": "execute_result"
    }
   ],
   "source": [
    "confusion_matrix(y_train, y_pred)"
   ]
  },
  {
   "cell_type": "code",
   "execution_count": 21,
   "metadata": {},
   "outputs": [
    {
     "name": "stdout",
     "output_type": "stream",
     "text": [
      "              precision    recall  f1-score   support\n",
      "\n",
      "           0       0.83      0.91      0.87      3625\n",
      "           1       0.65      0.47      0.55      1297\n",
      "\n",
      "    accuracy                           0.79      4922\n",
      "   macro avg       0.74      0.69      0.71      4922\n",
      "weighted avg       0.78      0.79      0.78      4922\n",
      "\n"
     ]
    }
   ],
   "source": [
    "print(classification_report(y_train, y_pred))"
   ]
  },
  {
   "cell_type": "code",
   "execution_count": 22,
   "metadata": {},
   "outputs": [
    {
     "name": "stdout",
     "output_type": "stream",
     "text": [
      "Accuracy of Decision Tree classifier on test set: 0.79\n"
     ]
    }
   ],
   "source": [
    "print('Accuracy of Decision Tree classifier on test set: {:.2f}'\n",
    "     .format(clf.score(X_test, y_test)))"
   ]
  },
  {
   "cell_type": "markdown",
   "metadata": {},
   "source": [
    "### Takeaways:\n",
    "- The accuracy score for the data chosen to run through this model is 84%. This baseline is better than the firt baseline, 60%.\n",
    "\n",
    "**Tasks: Create a new model with more/different features, encoded data and scaled data.**"
   ]
  },
  {
   "cell_type": "markdown",
   "metadata": {},
   "source": [
    "## Baseline Model 2: Decision Tree using Encoded Data"
   ]
  },
  {
   "cell_type": "markdown",
   "metadata": {},
   "source": [
    "- I will create a new dataframe with the cleaned up data and then encode the dtypes that are objects to turn them into numeric values to have more features to run through a model. I will set the customer id column as the index, to move it to the side, but keep it for reference.\n",
    "\n",
    "**Task: Encode features run through a new model.**"
   ]
  },
  {
   "cell_type": "code",
   "execution_count": 23,
   "metadata": {
    "scrolled": true
   },
   "outputs": [
    {
     "data": {
      "text/html": [
       "<div>\n",
       "<style scoped>\n",
       "    .dataframe tbody tr th:only-of-type {\n",
       "        vertical-align: middle;\n",
       "    }\n",
       "\n",
       "    .dataframe tbody tr th {\n",
       "        vertical-align: top;\n",
       "    }\n",
       "\n",
       "    .dataframe thead th {\n",
       "        text-align: right;\n",
       "    }\n",
       "</style>\n",
       "<table border=\"1\" class=\"dataframe\">\n",
       "  <thead>\n",
       "    <tr style=\"text-align: right;\">\n",
       "      <th></th>\n",
       "      <th>payment_type_id</th>\n",
       "      <th>internet_service_type_id</th>\n",
       "      <th>contract_type_id</th>\n",
       "      <th>gender</th>\n",
       "      <th>senior_citizen</th>\n",
       "      <th>partner</th>\n",
       "      <th>dependents</th>\n",
       "      <th>tenure</th>\n",
       "      <th>phone_service</th>\n",
       "      <th>multiple_lines</th>\n",
       "      <th>...</th>\n",
       "      <th>tech_support</th>\n",
       "      <th>streaming_tv</th>\n",
       "      <th>streaming_movies</th>\n",
       "      <th>paperless_billing</th>\n",
       "      <th>monthly_charges</th>\n",
       "      <th>total_charges</th>\n",
       "      <th>churn</th>\n",
       "      <th>contract_type</th>\n",
       "      <th>internet_service_type</th>\n",
       "      <th>payment_type</th>\n",
       "    </tr>\n",
       "    <tr>\n",
       "      <th>customer_id</th>\n",
       "      <th></th>\n",
       "      <th></th>\n",
       "      <th></th>\n",
       "      <th></th>\n",
       "      <th></th>\n",
       "      <th></th>\n",
       "      <th></th>\n",
       "      <th></th>\n",
       "      <th></th>\n",
       "      <th></th>\n",
       "      <th></th>\n",
       "      <th></th>\n",
       "      <th></th>\n",
       "      <th></th>\n",
       "      <th></th>\n",
       "      <th></th>\n",
       "      <th></th>\n",
       "      <th></th>\n",
       "      <th></th>\n",
       "      <th></th>\n",
       "      <th></th>\n",
       "    </tr>\n",
       "  </thead>\n",
       "  <tbody>\n",
       "    <tr>\n",
       "      <th>0003-MKNFE</th>\n",
       "      <td>2</td>\n",
       "      <td>1</td>\n",
       "      <td>1</td>\n",
       "      <td>Male</td>\n",
       "      <td>0</td>\n",
       "      <td>No</td>\n",
       "      <td>No</td>\n",
       "      <td>9</td>\n",
       "      <td>Yes</td>\n",
       "      <td>Yes</td>\n",
       "      <td>...</td>\n",
       "      <td>No</td>\n",
       "      <td>No</td>\n",
       "      <td>Yes</td>\n",
       "      <td>No</td>\n",
       "      <td>59.9</td>\n",
       "      <td>542.40</td>\n",
       "      <td>0</td>\n",
       "      <td>Month-to-month</td>\n",
       "      <td>DSL</td>\n",
       "      <td>Mailed check</td>\n",
       "    </tr>\n",
       "    <tr>\n",
       "      <th>0013-MHZWF</th>\n",
       "      <td>4</td>\n",
       "      <td>1</td>\n",
       "      <td>1</td>\n",
       "      <td>Female</td>\n",
       "      <td>0</td>\n",
       "      <td>No</td>\n",
       "      <td>Yes</td>\n",
       "      <td>9</td>\n",
       "      <td>Yes</td>\n",
       "      <td>No</td>\n",
       "      <td>...</td>\n",
       "      <td>Yes</td>\n",
       "      <td>Yes</td>\n",
       "      <td>Yes</td>\n",
       "      <td>Yes</td>\n",
       "      <td>69.4</td>\n",
       "      <td>571.45</td>\n",
       "      <td>0</td>\n",
       "      <td>Month-to-month</td>\n",
       "      <td>DSL</td>\n",
       "      <td>Credit card (automatic)</td>\n",
       "    </tr>\n",
       "    <tr>\n",
       "      <th>0015-UOCOJ</th>\n",
       "      <td>1</td>\n",
       "      <td>1</td>\n",
       "      <td>1</td>\n",
       "      <td>Female</td>\n",
       "      <td>1</td>\n",
       "      <td>No</td>\n",
       "      <td>No</td>\n",
       "      <td>7</td>\n",
       "      <td>Yes</td>\n",
       "      <td>No</td>\n",
       "      <td>...</td>\n",
       "      <td>No</td>\n",
       "      <td>No</td>\n",
       "      <td>No</td>\n",
       "      <td>Yes</td>\n",
       "      <td>48.2</td>\n",
       "      <td>340.35</td>\n",
       "      <td>0</td>\n",
       "      <td>Month-to-month</td>\n",
       "      <td>DSL</td>\n",
       "      <td>Electronic check</td>\n",
       "    </tr>\n",
       "    <tr>\n",
       "      <th>0023-HGHWL</th>\n",
       "      <td>1</td>\n",
       "      <td>1</td>\n",
       "      <td>1</td>\n",
       "      <td>Male</td>\n",
       "      <td>1</td>\n",
       "      <td>No</td>\n",
       "      <td>No</td>\n",
       "      <td>1</td>\n",
       "      <td>No</td>\n",
       "      <td>No phone service</td>\n",
       "      <td>...</td>\n",
       "      <td>No</td>\n",
       "      <td>No</td>\n",
       "      <td>No</td>\n",
       "      <td>Yes</td>\n",
       "      <td>25.1</td>\n",
       "      <td>25.10</td>\n",
       "      <td>1</td>\n",
       "      <td>Month-to-month</td>\n",
       "      <td>DSL</td>\n",
       "      <td>Electronic check</td>\n",
       "    </tr>\n",
       "    <tr>\n",
       "      <th>0032-PGELS</th>\n",
       "      <td>3</td>\n",
       "      <td>1</td>\n",
       "      <td>1</td>\n",
       "      <td>Female</td>\n",
       "      <td>0</td>\n",
       "      <td>Yes</td>\n",
       "      <td>Yes</td>\n",
       "      <td>1</td>\n",
       "      <td>No</td>\n",
       "      <td>No phone service</td>\n",
       "      <td>...</td>\n",
       "      <td>No</td>\n",
       "      <td>No</td>\n",
       "      <td>No</td>\n",
       "      <td>No</td>\n",
       "      <td>30.5</td>\n",
       "      <td>30.50</td>\n",
       "      <td>1</td>\n",
       "      <td>Month-to-month</td>\n",
       "      <td>DSL</td>\n",
       "      <td>Bank transfer (automatic)</td>\n",
       "    </tr>\n",
       "  </tbody>\n",
       "</table>\n",
       "<p>5 rows × 23 columns</p>\n",
       "</div>"
      ],
      "text/plain": [
       "             payment_type_id  internet_service_type_id  contract_type_id  \\\n",
       "customer_id                                                                \n",
       "0003-MKNFE                 2                         1                 1   \n",
       "0013-MHZWF                 4                         1                 1   \n",
       "0015-UOCOJ                 1                         1                 1   \n",
       "0023-HGHWL                 1                         1                 1   \n",
       "0032-PGELS                 3                         1                 1   \n",
       "\n",
       "             gender  senior_citizen partner dependents  tenure phone_service  \\\n",
       "customer_id                                                                    \n",
       "0003-MKNFE     Male               0      No         No       9           Yes   \n",
       "0013-MHZWF   Female               0      No        Yes       9           Yes   \n",
       "0015-UOCOJ   Female               1      No         No       7           Yes   \n",
       "0023-HGHWL     Male               1      No         No       1            No   \n",
       "0032-PGELS   Female               0     Yes        Yes       1            No   \n",
       "\n",
       "               multiple_lines  ... tech_support streaming_tv streaming_movies  \\\n",
       "customer_id                    ...                                              \n",
       "0003-MKNFE                Yes  ...           No           No              Yes   \n",
       "0013-MHZWF                 No  ...          Yes          Yes              Yes   \n",
       "0015-UOCOJ                 No  ...           No           No               No   \n",
       "0023-HGHWL   No phone service  ...           No           No               No   \n",
       "0032-PGELS   No phone service  ...           No           No               No   \n",
       "\n",
       "            paperless_billing monthly_charges total_charges churn  \\\n",
       "customer_id                                                         \n",
       "0003-MKNFE                 No            59.9        542.40     0   \n",
       "0013-MHZWF                Yes            69.4        571.45     0   \n",
       "0015-UOCOJ                Yes            48.2        340.35     0   \n",
       "0023-HGHWL                Yes            25.1         25.10     1   \n",
       "0032-PGELS                 No            30.5         30.50     1   \n",
       "\n",
       "              contract_type  internet_service_type               payment_type  \n",
       "customer_id                                                                    \n",
       "0003-MKNFE   Month-to-month                    DSL               Mailed check  \n",
       "0013-MHZWF   Month-to-month                    DSL    Credit card (automatic)  \n",
       "0015-UOCOJ   Month-to-month                    DSL           Electronic check  \n",
       "0023-HGHWL   Month-to-month                    DSL           Electronic check  \n",
       "0032-PGELS   Month-to-month                    DSL  Bank transfer (automatic)  \n",
       "\n",
       "[5 rows x 23 columns]"
      ]
     },
     "execution_count": 23,
     "metadata": {},
     "output_type": "execute_result"
    }
   ],
   "source": [
    "df_telco = df\n",
    "df_telco.set_index('customer_id', inplace=True)\n",
    "df_telco.head()"
   ]
  },
  {
   "cell_type": "code",
   "execution_count": 24,
   "metadata": {},
   "outputs": [],
   "source": [
    "# df_telco['family'] = (df.partner == True) | (df.dependents == True)\n",
    "# df_telco.head()"
   ]
  },
  {
   "cell_type": "markdown",
   "metadata": {},
   "source": [
    "- I will encode all columns that make sense for me to change with a Label Encoder in order to run more features through a model.\n",
    "- I will also drop the columns contract typem internet service type and payment type, since they are repeats of the type id columns.\n",
    "\n",
    "**Task: Establish what each number corresponds to after encoding the columns.**"
   ]
  },
  {
   "cell_type": "code",
   "execution_count": 25,
   "metadata": {},
   "outputs": [
    {
     "name": "stdout",
     "output_type": "stream",
     "text": [
      "Train data shape: (4922, 23)\n",
      "Test data shape: (2110, 23)\n"
     ]
    }
   ],
   "source": [
    "train, test = train_test_split(df, train_size=.7, random_state=123)\n",
    "print('Train data shape:', train.shape)\n",
    "print('Test data shape:', test.shape)"
   ]
  },
  {
   "cell_type": "code",
   "execution_count": 26,
   "metadata": {},
   "outputs": [],
   "source": [
    "def encode(train, test):\n",
    "    encoder = LabelEncoder()\n",
    "    train = train.drop(columns=['contract_type', 'internet_service_type','payment_type'])\n",
    "    test = test.drop(columns=['contract_type', 'internet_service_type', 'payment_type'])\n",
    "    encode_list = ['gender','partner', 'dependents', 'phone_service','multiple_lines', 'online_security', 'online_backup','device_protection','tech_support','streaming_tv', \\\n",
    "                  'streaming_movies', 'paperless_billing', 'churn']\n",
    "    for c in encode_list:\n",
    "        train[c] = encoder.fit_transform(train[c])\n",
    "        test[c] = encoder.transform(test[c])\n",
    "    return train, test"
   ]
  },
  {
   "cell_type": "code",
   "execution_count": 27,
   "metadata": {},
   "outputs": [
    {
     "data": {
      "text/html": [
       "<div>\n",
       "<style scoped>\n",
       "    .dataframe tbody tr th:only-of-type {\n",
       "        vertical-align: middle;\n",
       "    }\n",
       "\n",
       "    .dataframe tbody tr th {\n",
       "        vertical-align: top;\n",
       "    }\n",
       "\n",
       "    .dataframe thead th {\n",
       "        text-align: right;\n",
       "    }\n",
       "</style>\n",
       "<table border=\"1\" class=\"dataframe\">\n",
       "  <thead>\n",
       "    <tr style=\"text-align: right;\">\n",
       "      <th></th>\n",
       "      <th>payment_type_id</th>\n",
       "      <th>internet_service_type_id</th>\n",
       "      <th>contract_type_id</th>\n",
       "      <th>gender</th>\n",
       "      <th>senior_citizen</th>\n",
       "      <th>partner</th>\n",
       "      <th>dependents</th>\n",
       "      <th>tenure</th>\n",
       "      <th>phone_service</th>\n",
       "      <th>multiple_lines</th>\n",
       "      <th>online_security</th>\n",
       "      <th>online_backup</th>\n",
       "      <th>device_protection</th>\n",
       "      <th>tech_support</th>\n",
       "      <th>streaming_tv</th>\n",
       "      <th>streaming_movies</th>\n",
       "      <th>paperless_billing</th>\n",
       "      <th>monthly_charges</th>\n",
       "      <th>total_charges</th>\n",
       "      <th>churn</th>\n",
       "    </tr>\n",
       "    <tr>\n",
       "      <th>customer_id</th>\n",
       "      <th></th>\n",
       "      <th></th>\n",
       "      <th></th>\n",
       "      <th></th>\n",
       "      <th></th>\n",
       "      <th></th>\n",
       "      <th></th>\n",
       "      <th></th>\n",
       "      <th></th>\n",
       "      <th></th>\n",
       "      <th></th>\n",
       "      <th></th>\n",
       "      <th></th>\n",
       "      <th></th>\n",
       "      <th></th>\n",
       "      <th></th>\n",
       "      <th></th>\n",
       "      <th></th>\n",
       "      <th></th>\n",
       "      <th></th>\n",
       "    </tr>\n",
       "  </thead>\n",
       "  <tbody>\n",
       "    <tr>\n",
       "      <th>3866-MDTUB</th>\n",
       "      <td>1</td>\n",
       "      <td>1</td>\n",
       "      <td>1</td>\n",
       "      <td>0</td>\n",
       "      <td>0</td>\n",
       "      <td>0</td>\n",
       "      <td>0</td>\n",
       "      <td>2</td>\n",
       "      <td>1</td>\n",
       "      <td>0</td>\n",
       "      <td>2</td>\n",
       "      <td>0</td>\n",
       "      <td>0</td>\n",
       "      <td>0</td>\n",
       "      <td>2</td>\n",
       "      <td>2</td>\n",
       "      <td>1</td>\n",
       "      <td>70.75</td>\n",
       "      <td>146.90</td>\n",
       "      <td>1</td>\n",
       "    </tr>\n",
       "    <tr>\n",
       "      <th>5555-RNPGT</th>\n",
       "      <td>4</td>\n",
       "      <td>3</td>\n",
       "      <td>1</td>\n",
       "      <td>1</td>\n",
       "      <td>0</td>\n",
       "      <td>0</td>\n",
       "      <td>1</td>\n",
       "      <td>10</td>\n",
       "      <td>1</td>\n",
       "      <td>2</td>\n",
       "      <td>1</td>\n",
       "      <td>1</td>\n",
       "      <td>1</td>\n",
       "      <td>1</td>\n",
       "      <td>1</td>\n",
       "      <td>1</td>\n",
       "      <td>0</td>\n",
       "      <td>24.80</td>\n",
       "      <td>223.90</td>\n",
       "      <td>0</td>\n",
       "    </tr>\n",
       "    <tr>\n",
       "      <th>3727-OWVYD</th>\n",
       "      <td>2</td>\n",
       "      <td>1</td>\n",
       "      <td>2</td>\n",
       "      <td>1</td>\n",
       "      <td>0</td>\n",
       "      <td>0</td>\n",
       "      <td>0</td>\n",
       "      <td>35</td>\n",
       "      <td>1</td>\n",
       "      <td>0</td>\n",
       "      <td>2</td>\n",
       "      <td>2</td>\n",
       "      <td>2</td>\n",
       "      <td>0</td>\n",
       "      <td>0</td>\n",
       "      <td>0</td>\n",
       "      <td>0</td>\n",
       "      <td>61.20</td>\n",
       "      <td>2021.20</td>\n",
       "      <td>0</td>\n",
       "    </tr>\n",
       "    <tr>\n",
       "      <th>2270-CHBFN</th>\n",
       "      <td>4</td>\n",
       "      <td>2</td>\n",
       "      <td>1</td>\n",
       "      <td>0</td>\n",
       "      <td>0</td>\n",
       "      <td>1</td>\n",
       "      <td>0</td>\n",
       "      <td>44</td>\n",
       "      <td>1</td>\n",
       "      <td>2</td>\n",
       "      <td>2</td>\n",
       "      <td>2</td>\n",
       "      <td>2</td>\n",
       "      <td>2</td>\n",
       "      <td>0</td>\n",
       "      <td>0</td>\n",
       "      <td>1</td>\n",
       "      <td>95.10</td>\n",
       "      <td>4060.55</td>\n",
       "      <td>0</td>\n",
       "    </tr>\n",
       "    <tr>\n",
       "      <th>6892-XPFPU</th>\n",
       "      <td>1</td>\n",
       "      <td>2</td>\n",
       "      <td>1</td>\n",
       "      <td>1</td>\n",
       "      <td>1</td>\n",
       "      <td>1</td>\n",
       "      <td>0</td>\n",
       "      <td>24</td>\n",
       "      <td>1</td>\n",
       "      <td>2</td>\n",
       "      <td>0</td>\n",
       "      <td>2</td>\n",
       "      <td>2</td>\n",
       "      <td>0</td>\n",
       "      <td>2</td>\n",
       "      <td>2</td>\n",
       "      <td>1</td>\n",
       "      <td>104.25</td>\n",
       "      <td>2433.90</td>\n",
       "      <td>1</td>\n",
       "    </tr>\n",
       "  </tbody>\n",
       "</table>\n",
       "</div>"
      ],
      "text/plain": [
       "             payment_type_id  internet_service_type_id  contract_type_id  \\\n",
       "customer_id                                                                \n",
       "3866-MDTUB                 1                         1                 1   \n",
       "5555-RNPGT                 4                         3                 1   \n",
       "3727-OWVYD                 2                         1                 2   \n",
       "2270-CHBFN                 4                         2                 1   \n",
       "6892-XPFPU                 1                         2                 1   \n",
       "\n",
       "             gender  senior_citizen  partner  dependents  tenure  \\\n",
       "customer_id                                                        \n",
       "3866-MDTUB        0               0        0           0       2   \n",
       "5555-RNPGT        1               0        0           1      10   \n",
       "3727-OWVYD        1               0        0           0      35   \n",
       "2270-CHBFN        0               0        1           0      44   \n",
       "6892-XPFPU        1               1        1           0      24   \n",
       "\n",
       "             phone_service  multiple_lines  online_security  online_backup  \\\n",
       "customer_id                                                                  \n",
       "3866-MDTUB               1               0                2              0   \n",
       "5555-RNPGT               1               2                1              1   \n",
       "3727-OWVYD               1               0                2              2   \n",
       "2270-CHBFN               1               2                2              2   \n",
       "6892-XPFPU               1               2                0              2   \n",
       "\n",
       "             device_protection  tech_support  streaming_tv  streaming_movies  \\\n",
       "customer_id                                                                    \n",
       "3866-MDTUB                   0             0             2                 2   \n",
       "5555-RNPGT                   1             1             1                 1   \n",
       "3727-OWVYD                   2             0             0                 0   \n",
       "2270-CHBFN                   2             2             0                 0   \n",
       "6892-XPFPU                   2             0             2                 2   \n",
       "\n",
       "             paperless_billing  monthly_charges  total_charges  churn  \n",
       "customer_id                                                            \n",
       "3866-MDTUB                   1            70.75         146.90      1  \n",
       "5555-RNPGT                   0            24.80         223.90      0  \n",
       "3727-OWVYD                   0            61.20        2021.20      0  \n",
       "2270-CHBFN                   1            95.10        4060.55      0  \n",
       "6892-XPFPU                   1           104.25        2433.90      1  "
      ]
     },
     "execution_count": 27,
     "metadata": {},
     "output_type": "execute_result"
    }
   ],
   "source": [
    "train_encode, test_encode = encode(train, test)\n",
    "train_encode.head()"
   ]
  },
  {
   "cell_type": "code",
   "execution_count": 28,
   "metadata": {},
   "outputs": [],
   "source": [
    "X = train_encode.drop(['churn'],axis=1)\n",
    "y = train_encode[['churn']]\n",
    "X_test = test_encode.drop(['churn'],axis=1)\n",
    "y_test = test_encode[['churn']]"
   ]
  },
  {
   "cell_type": "code",
   "execution_count": 29,
   "metadata": {},
   "outputs": [
    {
     "data": {
      "text/plain": [
       "DecisionTreeClassifier(class_weight=None, criterion='entropy', max_depth=4,\n",
       "                       max_features=None, max_leaf_nodes=None,\n",
       "                       min_impurity_decrease=0.0, min_impurity_split=None,\n",
       "                       min_samples_leaf=1, min_samples_split=2,\n",
       "                       min_weight_fraction_leaf=0.0, presort=False,\n",
       "                       random_state=123, splitter='best')"
      ]
     },
     "execution_count": 29,
     "metadata": {},
     "output_type": "execute_result"
    }
   ],
   "source": [
    "clf = DecisionTreeClassifier(criterion='entropy', max_depth=4, random_state=123)\n",
    "clf.fit(X, y)"
   ]
  },
  {
   "cell_type": "code",
   "execution_count": 30,
   "metadata": {},
   "outputs": [
    {
     "data": {
      "text/plain": [
       "array([0, 0, 0, ..., 0, 0, 0])"
      ]
     },
     "execution_count": 30,
     "metadata": {},
     "output_type": "execute_result"
    }
   ],
   "source": [
    "y_pred = clf.predict(X)\n",
    "y_pred"
   ]
  },
  {
   "cell_type": "code",
   "execution_count": 31,
   "metadata": {},
   "outputs": [
    {
     "data": {
      "text/plain": [
       "array([[0.82075472, 0.17924528],\n",
       "       [0.82075472, 0.17924528],\n",
       "       [0.9       , 0.1       ],\n",
       "       ...,\n",
       "       [0.9       , 0.1       ],\n",
       "       [0.82075472, 0.17924528],\n",
       "       [0.51969504, 0.48030496]])"
      ]
     },
     "execution_count": 31,
     "metadata": {},
     "output_type": "execute_result"
    }
   ],
   "source": [
    "y_pred_proba = clf.predict_proba(X)\n",
    "y_pred_proba"
   ]
  },
  {
   "cell_type": "markdown",
   "metadata": {},
   "source": [
    "#### Evaluate Baseline Model 2"
   ]
  },
  {
   "cell_type": "code",
   "execution_count": 32,
   "metadata": {},
   "outputs": [
    {
     "name": "stdout",
     "output_type": "stream",
     "text": [
      "Accuracy of Decision Tree classifier on training set: 0.79\n"
     ]
    }
   ],
   "source": [
    "print('Accuracy of Decision Tree classifier on training set: {:.2f}'\n",
    "     .format(clf.score(X, y)))"
   ]
  },
  {
   "cell_type": "code",
   "execution_count": 33,
   "metadata": {},
   "outputs": [
    {
     "name": "stdout",
     "output_type": "stream",
     "text": [
      "[[3368  257]\n",
      " [ 776  521]]\n"
     ]
    }
   ],
   "source": [
    "print(confusion_matrix(y, y_pred))"
   ]
  },
  {
   "cell_type": "code",
   "execution_count": 34,
   "metadata": {},
   "outputs": [
    {
     "name": "stdout",
     "output_type": "stream",
     "text": [
      "              precision    recall  f1-score   support\n",
      "\n",
      "           0       0.81      0.93      0.87      3625\n",
      "           1       0.67      0.40      0.50      1297\n",
      "\n",
      "    accuracy                           0.79      4922\n",
      "   macro avg       0.74      0.67      0.68      4922\n",
      "weighted avg       0.78      0.79      0.77      4922\n",
      "\n"
     ]
    }
   ],
   "source": [
    "print(classification_report(y, y_pred))"
   ]
  },
  {
   "cell_type": "code",
   "execution_count": 35,
   "metadata": {},
   "outputs": [
    {
     "name": "stdout",
     "output_type": "stream",
     "text": [
      "Accuracy of Decision Tree classifier on test set: 0.77\n"
     ]
    }
   ],
   "source": [
    "print('Accuracy of Decision Tree classifier on test set: {:.2f}'\n",
    "     .format(clf.score(X_test, y_test)))"
   ]
  },
  {
   "cell_type": "markdown",
   "metadata": {},
   "source": [
    "### Takeaways:\n",
    "- The accuracy of this model is extremely similar to the the accuracy of the first baseline model I ran, with only three features. I will continue with this baseline model 2 moving forward in order to work with more features."
   ]
  },
  {
   "cell_type": "markdown",
   "metadata": {},
   "source": [
    "## Exploratory Analysis"
   ]
  },
  {
   "cell_type": "markdown",
   "metadata": {},
   "source": [
    "- Using the encoded data, I will now look at the correlation between all features to then find the best features to use in my predictive model.\n",
    "\n",
    "- I will begin by looking at the distribution of churn."
   ]
  },
  {
   "cell_type": "code",
   "execution_count": 36,
   "metadata": {},
   "outputs": [
    {
     "data": {
      "image/png": "[encoded data removed]",
      "text/plain": [
       "<Figure size 432x288 with 1 Axes>"
      ]
     },
     "metadata": {
      "needs_background": "light"
     },
     "output_type": "display_data"
    }
   ],
   "source": [
    "y.churn.value_counts().sort_index().plot(kind = \"bar\",alpha = .5)\n",
    "plt.title(\"Distirbution of Churn\")\n",
    "plt.grid(b = True , which = \"major\")"
   ]
  },
  {
   "cell_type": "markdown",
   "metadata": {},
   "source": [
    "- Takeaway: Significantly less people have churned (1) vs. people who have not churned (0)."
   ]
  },
  {
   "cell_type": "code",
   "execution_count": 37,
   "metadata": {},
   "outputs": [
    {
     "data": {
      "text/plain": [
       "<matplotlib.axes._subplots.AxesSubplot at 0x1c22464c88>"
      ]
     },
     "execution_count": 37,
     "metadata": {},
     "output_type": "execute_result"
    },
    {
     "data": {
      "image/png": "[encoded data removed]",
      "text/plain": [
       "<Figure size 1152x720 with 2 Axes>"
      ]
     },
     "metadata": {
      "needs_background": "light"
     },
     "output_type": "display_data"
    }
   ],
   "source": [
    "plt.figure(figsize=(16,10))\n",
    "sns.heatmap(train_encode.corr(), annot=True)"
   ]
  },
  {
   "cell_type": "markdown",
   "metadata": {},
   "source": [
    "- Takeaway: This heatmap allows me to get a better idea of how features are correlated to each other.\n",
    "- total charges and tenure\n",
    "- tenure and contract id type\n",
    "- monthly charges and total charges"
   ]
  },
  {
   "cell_type": "markdown",
   "metadata": {},
   "source": [
    "#### Question 1: Could the month in which they sign up influence churn?"
   ]
  },
  {
   "cell_type": "code",
   "execution_count": 38,
   "metadata": {},
   "outputs": [
    {
     "data": {
      "text/html": [
       "<style  type=\"text/css\" >\n",
       "    #T_2cb03b32_fa7f_11e9_bf16_acde48001122row0_col0 {\n",
       "            background-color:  #ffffcc;\n",
       "            color:  #000000;\n",
       "        }    #T_2cb03b32_fa7f_11e9_bf16_acde48001122row0_col1 {\n",
       "            background-color:  #fffcc5;\n",
       "            color:  #000000;\n",
       "        }    #T_2cb03b32_fa7f_11e9_bf16_acde48001122row0_col2 {\n",
       "            background-color:  #feda78;\n",
       "            color:  #000000;\n",
       "        }    #T_2cb03b32_fa7f_11e9_bf16_acde48001122row0_col3 {\n",
       "            background-color:  #fff9bd;\n",
       "            color:  #000000;\n",
       "        }    #T_2cb03b32_fa7f_11e9_bf16_acde48001122row0_col4 {\n",
       "            background-color:  #fff6b6;\n",
       "            color:  #000000;\n",
       "        }    #T_2cb03b32_fa7f_11e9_bf16_acde48001122row0_col5 {\n",
       "            background-color:  #fd9740;\n",
       "            color:  #000000;\n",
       "        }    #T_2cb03b32_fa7f_11e9_bf16_acde48001122row0_col6 {\n",
       "            background-color:  #feb04b;\n",
       "            color:  #000000;\n",
       "        }    #T_2cb03b32_fa7f_11e9_bf16_acde48001122row0_col7 {\n",
       "            background-color:  #fd7234;\n",
       "            color:  #000000;\n",
       "        }    #T_2cb03b32_fa7f_11e9_bf16_acde48001122row0_col8 {\n",
       "            background-color:  #fead4a;\n",
       "            color:  #000000;\n",
       "        }    #T_2cb03b32_fa7f_11e9_bf16_acde48001122row0_col9 {\n",
       "            background-color:  #fec863;\n",
       "            color:  #000000;\n",
       "        }    #T_2cb03b32_fa7f_11e9_bf16_acde48001122row0_col10 {\n",
       "            background-color:  #fd7234;\n",
       "            color:  #000000;\n",
       "        }    #T_2cb03b32_fa7f_11e9_bf16_acde48001122row0_col11 {\n",
       "            background-color:  #fd923e;\n",
       "            color:  #000000;\n",
       "        }    #T_2cb03b32_fa7f_11e9_bf16_acde48001122row0_col12 {\n",
       "            background-color:  #fea446;\n",
       "            color:  #000000;\n",
       "        }    #T_2cb03b32_fa7f_11e9_bf16_acde48001122row0_col13 {\n",
       "            background-color:  #fc6330;\n",
       "            color:  #000000;\n",
       "        }    #T_2cb03b32_fa7f_11e9_bf16_acde48001122row0_col14 {\n",
       "            background-color:  #fd8c3c;\n",
       "            color:  #000000;\n",
       "        }    #T_2cb03b32_fa7f_11e9_bf16_acde48001122row0_col15 {\n",
       "            background-color:  #f94828;\n",
       "            color:  #000000;\n",
       "        }    #T_2cb03b32_fa7f_11e9_bf16_acde48001122row0_col16 {\n",
       "            background-color:  #f54026;\n",
       "            color:  #f1f1f1;\n",
       "        }    #T_2cb03b32_fa7f_11e9_bf16_acde48001122row0_col17 {\n",
       "            background-color:  #f23924;\n",
       "            color:  #f1f1f1;\n",
       "        }    #T_2cb03b32_fa7f_11e9_bf16_acde48001122row0_col18 {\n",
       "            background-color:  #fc612f;\n",
       "            color:  #000000;\n",
       "        }    #T_2cb03b32_fa7f_11e9_bf16_acde48001122row0_col19 {\n",
       "            background-color:  #f54026;\n",
       "            color:  #f1f1f1;\n",
       "        }    #T_2cb03b32_fa7f_11e9_bf16_acde48001122row0_col20 {\n",
       "            background-color:  #fc6430;\n",
       "            color:  #000000;\n",
       "        }    #T_2cb03b32_fa7f_11e9_bf16_acde48001122row0_col21 {\n",
       "            background-color:  #f94828;\n",
       "            color:  #000000;\n",
       "        }    #T_2cb03b32_fa7f_11e9_bf16_acde48001122row0_col22 {\n",
       "            background-color:  #c20325;\n",
       "            color:  #f1f1f1;\n",
       "        }    #T_2cb03b32_fa7f_11e9_bf16_acde48001122row0_col23 {\n",
       "            background-color:  #f74327;\n",
       "            color:  #f1f1f1;\n",
       "        }    #T_2cb03b32_fa7f_11e9_bf16_acde48001122row0_col24 {\n",
       "            background-color:  #f43d25;\n",
       "            color:  #f1f1f1;\n",
       "        }    #T_2cb03b32_fa7f_11e9_bf16_acde48001122row0_col25 {\n",
       "            background-color:  #dc151e;\n",
       "            color:  #f1f1f1;\n",
       "        }    #T_2cb03b32_fa7f_11e9_bf16_acde48001122row0_col26 {\n",
       "            background-color:  #c90823;\n",
       "            color:  #f1f1f1;\n",
       "        }    #T_2cb03b32_fa7f_11e9_bf16_acde48001122row0_col27 {\n",
       "            background-color:  #e8241f;\n",
       "            color:  #f1f1f1;\n",
       "        }    #T_2cb03b32_fa7f_11e9_bf16_acde48001122row0_col28 {\n",
       "            background-color:  #ed3022;\n",
       "            color:  #f1f1f1;\n",
       "        }    #T_2cb03b32_fa7f_11e9_bf16_acde48001122row0_col29 {\n",
       "            background-color:  #ef3323;\n",
       "            color:  #f1f1f1;\n",
       "        }    #T_2cb03b32_fa7f_11e9_bf16_acde48001122row0_col30 {\n",
       "            background-color:  #f43d25;\n",
       "            color:  #f1f1f1;\n",
       "        }    #T_2cb03b32_fa7f_11e9_bf16_acde48001122row0_col31 {\n",
       "            background-color:  #fc572c;\n",
       "            color:  #000000;\n",
       "        }    #T_2cb03b32_fa7f_11e9_bf16_acde48001122row0_col32 {\n",
       "            background-color:  #dd161d;\n",
       "            color:  #f1f1f1;\n",
       "        }    #T_2cb03b32_fa7f_11e9_bf16_acde48001122row0_col33 {\n",
       "            background-color:  #d6111f;\n",
       "            color:  #f1f1f1;\n",
       "        }    #T_2cb03b32_fa7f_11e9_bf16_acde48001122row0_col34 {\n",
       "            background-color:  #d51020;\n",
       "            color:  #f1f1f1;\n",
       "        }    #T_2cb03b32_fa7f_11e9_bf16_acde48001122row0_col35 {\n",
       "            background-color:  #f43d25;\n",
       "            color:  #f1f1f1;\n",
       "        }    #T_2cb03b32_fa7f_11e9_bf16_acde48001122row0_col36 {\n",
       "            background-color:  #d6111f;\n",
       "            color:  #f1f1f1;\n",
       "        }    #T_2cb03b32_fa7f_11e9_bf16_acde48001122row0_col37 {\n",
       "            background-color:  #ed3022;\n",
       "            color:  #f1f1f1;\n",
       "        }    #T_2cb03b32_fa7f_11e9_bf16_acde48001122row0_col38 {\n",
       "            background-color:  #fc572c;\n",
       "            color:  #000000;\n",
       "        }    #T_2cb03b32_fa7f_11e9_bf16_acde48001122row0_col39 {\n",
       "            background-color:  #e41c1d;\n",
       "            color:  #f1f1f1;\n",
       "        }    #T_2cb03b32_fa7f_11e9_bf16_acde48001122row0_col40 {\n",
       "            background-color:  #d7121f;\n",
       "            color:  #f1f1f1;\n",
       "        }    #T_2cb03b32_fa7f_11e9_bf16_acde48001122row0_col41 {\n",
       "            background-color:  #e9261f;\n",
       "            color:  #f1f1f1;\n",
       "        }    #T_2cb03b32_fa7f_11e9_bf16_acde48001122row0_col42 {\n",
       "            background-color:  #fa4a29;\n",
       "            color:  #000000;\n",
       "        }    #T_2cb03b32_fa7f_11e9_bf16_acde48001122row0_col43 {\n",
       "            background-color:  #c10325;\n",
       "            color:  #f1f1f1;\n",
       "        }    #T_2cb03b32_fa7f_11e9_bf16_acde48001122row0_col44 {\n",
       "            background-color:  #b90026;\n",
       "            color:  #f1f1f1;\n",
       "        }    #T_2cb03b32_fa7f_11e9_bf16_acde48001122row0_col45 {\n",
       "            background-color:  #df171d;\n",
       "            color:  #f1f1f1;\n",
       "        }    #T_2cb03b32_fa7f_11e9_bf16_acde48001122row0_col46 {\n",
       "            background-color:  #e92720;\n",
       "            color:  #f1f1f1;\n",
       "        }    #T_2cb03b32_fa7f_11e9_bf16_acde48001122row0_col47 {\n",
       "            background-color:  #c70723;\n",
       "            color:  #f1f1f1;\n",
       "        }    #T_2cb03b32_fa7f_11e9_bf16_acde48001122row0_col48 {\n",
       "            background-color:  #f54026;\n",
       "            color:  #f1f1f1;\n",
       "        }    #T_2cb03b32_fa7f_11e9_bf16_acde48001122row0_col49 {\n",
       "            background-color:  #c80723;\n",
       "            color:  #f1f1f1;\n",
       "        }    #T_2cb03b32_fa7f_11e9_bf16_acde48001122row0_col50 {\n",
       "            background-color:  #d41020;\n",
       "            color:  #f1f1f1;\n",
       "        }    #T_2cb03b32_fa7f_11e9_bf16_acde48001122row0_col51 {\n",
       "            background-color:  #b60026;\n",
       "            color:  #f1f1f1;\n",
       "        }    #T_2cb03b32_fa7f_11e9_bf16_acde48001122row0_col52 {\n",
       "            background-color:  #d7121f;\n",
       "            color:  #f1f1f1;\n",
       "        }    #T_2cb03b32_fa7f_11e9_bf16_acde48001122row0_col53 {\n",
       "            background-color:  #e1191d;\n",
       "            color:  #f1f1f1;\n",
       "        }    #T_2cb03b32_fa7f_11e9_bf16_acde48001122row0_col54 {\n",
       "            background-color:  #c80723;\n",
       "            color:  #f1f1f1;\n",
       "        }    #T_2cb03b32_fa7f_11e9_bf16_acde48001122row0_col55 {\n",
       "            background-color:  #b90026;\n",
       "            color:  #f1f1f1;\n",
       "        }    #T_2cb03b32_fa7f_11e9_bf16_acde48001122row0_col56 {\n",
       "            background-color:  #bd0026;\n",
       "            color:  #f1f1f1;\n",
       "        }    #T_2cb03b32_fa7f_11e9_bf16_acde48001122row0_col57 {\n",
       "            background-color:  #e6211e;\n",
       "            color:  #f1f1f1;\n",
       "        }    #T_2cb03b32_fa7f_11e9_bf16_acde48001122row0_col58 {\n",
       "            background-color:  #ca0923;\n",
       "            color:  #f1f1f1;\n",
       "        }    #T_2cb03b32_fa7f_11e9_bf16_acde48001122row0_col59 {\n",
       "            background-color:  #a80026;\n",
       "            color:  #f1f1f1;\n",
       "        }    #T_2cb03b32_fa7f_11e9_bf16_acde48001122row0_col60 {\n",
       "            background-color:  #c00225;\n",
       "            color:  #f1f1f1;\n",
       "        }    #T_2cb03b32_fa7f_11e9_bf16_acde48001122row0_col61 {\n",
       "            background-color:  #9d0026;\n",
       "            color:  #f1f1f1;\n",
       "        }    #T_2cb03b32_fa7f_11e9_bf16_acde48001122row0_col62 {\n",
       "            background-color:  #b20026;\n",
       "            color:  #f1f1f1;\n",
       "        }    #T_2cb03b32_fa7f_11e9_bf16_acde48001122row0_col63 {\n",
       "            background-color:  #9d0026;\n",
       "            color:  #f1f1f1;\n",
       "        }    #T_2cb03b32_fa7f_11e9_bf16_acde48001122row0_col64 {\n",
       "            background-color:  #ae0026;\n",
       "            color:  #f1f1f1;\n",
       "        }    #T_2cb03b32_fa7f_11e9_bf16_acde48001122row0_col65 {\n",
       "            background-color:  #c50624;\n",
       "            color:  #f1f1f1;\n",
       "        }    #T_2cb03b32_fa7f_11e9_bf16_acde48001122row0_col66 {\n",
       "            background-color:  #c30424;\n",
       "            color:  #f1f1f1;\n",
       "        }    #T_2cb03b32_fa7f_11e9_bf16_acde48001122row0_col67 {\n",
       "            background-color:  #b40026;\n",
       "            color:  #f1f1f1;\n",
       "        }    #T_2cb03b32_fa7f_11e9_bf16_acde48001122row0_col68 {\n",
       "            background-color:  #9d0026;\n",
       "            color:  #f1f1f1;\n",
       "        }    #T_2cb03b32_fa7f_11e9_bf16_acde48001122row0_col69 {\n",
       "            background-color:  #b20026;\n",
       "            color:  #f1f1f1;\n",
       "        }    #T_2cb03b32_fa7f_11e9_bf16_acde48001122row0_col70 {\n",
       "            background-color:  #8f0026;\n",
       "            color:  #f1f1f1;\n",
       "        }    #T_2cb03b32_fa7f_11e9_bf16_acde48001122row0_col71 {\n",
       "            background-color:  #860026;\n",
       "            color:  #f1f1f1;\n",
       "        }    #T_2cb03b32_fa7f_11e9_bf16_acde48001122row0_col72 {\n",
       "            background-color:  #f84628;\n",
       "            color:  #000000;\n",
       "        }    #T_2cb03b32_fa7f_11e9_bf16_acde48001122row1_col0 {\n",
       "            background-color:  #fd9a42;\n",
       "            color:  #000000;\n",
       "        }    #T_2cb03b32_fa7f_11e9_bf16_acde48001122row1_col1 {\n",
       "            background-color:  #ffffcc;\n",
       "            color:  #000000;\n",
       "        }    #T_2cb03b32_fa7f_11e9_bf16_acde48001122row1_col2 {\n",
       "            background-color:  #ffffcc;\n",
       "            color:  #000000;\n",
       "        }    #T_2cb03b32_fa7f_11e9_bf16_acde48001122row1_col3 {\n",
       "            background-color:  #ffffcc;\n",
       "            color:  #000000;\n",
       "        }    #T_2cb03b32_fa7f_11e9_bf16_acde48001122row1_col4 {\n",
       "            background-color:  #ffffcc;\n",
       "            color:  #000000;\n",
       "        }    #T_2cb03b32_fa7f_11e9_bf16_acde48001122row1_col5 {\n",
       "            background-color:  #ffffcc;\n",
       "            color:  #000000;\n",
       "        }    #T_2cb03b32_fa7f_11e9_bf16_acde48001122row1_col6 {\n",
       "            background-color:  #ffffcc;\n",
       "            color:  #000000;\n",
       "        }    #T_2cb03b32_fa7f_11e9_bf16_acde48001122row1_col7 {\n",
       "            background-color:  #ffffcc;\n",
       "            color:  #000000;\n",
       "        }    #T_2cb03b32_fa7f_11e9_bf16_acde48001122row1_col8 {\n",
       "            background-color:  #ffffcc;\n",
       "            color:  #000000;\n",
       "        }    #T_2cb03b32_fa7f_11e9_bf16_acde48001122row1_col9 {\n",
       "            background-color:  #ffffcc;\n",
       "            color:  #000000;\n",
       "        }    #T_2cb03b32_fa7f_11e9_bf16_acde48001122row1_col10 {\n",
       "            background-color:  #ffffcc;\n",
       "            color:  #000000;\n",
       "        }    #T_2cb03b32_fa7f_11e9_bf16_acde48001122row1_col11 {\n",
       "            background-color:  #ffffcc;\n",
       "            color:  #000000;\n",
       "        }    #T_2cb03b32_fa7f_11e9_bf16_acde48001122row1_col12 {\n",
       "            background-color:  #ffffcc;\n",
       "            color:  #000000;\n",
       "        }    #T_2cb03b32_fa7f_11e9_bf16_acde48001122row1_col13 {\n",
       "            background-color:  #ffffcc;\n",
       "            color:  #000000;\n",
       "        }    #T_2cb03b32_fa7f_11e9_bf16_acde48001122row1_col14 {\n",
       "            background-color:  #ffffcc;\n",
       "            color:  #000000;\n",
       "        }    #T_2cb03b32_fa7f_11e9_bf16_acde48001122row1_col15 {\n",
       "            background-color:  #ffffcc;\n",
       "            color:  #000000;\n",
       "        }    #T_2cb03b32_fa7f_11e9_bf16_acde48001122row1_col16 {\n",
       "            background-color:  #ffffcc;\n",
       "            color:  #000000;\n",
       "        }    #T_2cb03b32_fa7f_11e9_bf16_acde48001122row1_col17 {\n",
       "            background-color:  #ffffcc;\n",
       "            color:  #000000;\n",
       "        }    #T_2cb03b32_fa7f_11e9_bf16_acde48001122row1_col18 {\n",
       "            background-color:  #ffffcc;\n",
       "            color:  #000000;\n",
       "        }    #T_2cb03b32_fa7f_11e9_bf16_acde48001122row1_col19 {\n",
       "            background-color:  #ffffcc;\n",
       "            color:  #000000;\n",
       "        }    #T_2cb03b32_fa7f_11e9_bf16_acde48001122row1_col20 {\n",
       "            background-color:  #ffffcc;\n",
       "            color:  #000000;\n",
       "        }    #T_2cb03b32_fa7f_11e9_bf16_acde48001122row1_col21 {\n",
       "            background-color:  #ffffcc;\n",
       "            color:  #000000;\n",
       "        }    #T_2cb03b32_fa7f_11e9_bf16_acde48001122row1_col22 {\n",
       "            background-color:  #ffffcc;\n",
       "            color:  #000000;\n",
       "        }    #T_2cb03b32_fa7f_11e9_bf16_acde48001122row1_col23 {\n",
       "            background-color:  #ffffcc;\n",
       "            color:  #000000;\n",
       "        }    #T_2cb03b32_fa7f_11e9_bf16_acde48001122row1_col24 {\n",
       "            background-color:  #ffffcc;\n",
       "            color:  #000000;\n",
       "        }    #T_2cb03b32_fa7f_11e9_bf16_acde48001122row1_col25 {\n",
       "            background-color:  #ffffcc;\n",
       "            color:  #000000;\n",
       "        }    #T_2cb03b32_fa7f_11e9_bf16_acde48001122row1_col26 {\n",
       "            background-color:  #ffffcc;\n",
       "            color:  #000000;\n",
       "        }    #T_2cb03b32_fa7f_11e9_bf16_acde48001122row1_col27 {\n",
       "            background-color:  #ffffcc;\n",
       "            color:  #000000;\n",
       "        }    #T_2cb03b32_fa7f_11e9_bf16_acde48001122row1_col28 {\n",
       "            background-color:  #ffffcc;\n",
       "            color:  #000000;\n",
       "        }    #T_2cb03b32_fa7f_11e9_bf16_acde48001122row1_col29 {\n",
       "            background-color:  #ffffcc;\n",
       "            color:  #000000;\n",
       "        }    #T_2cb03b32_fa7f_11e9_bf16_acde48001122row1_col30 {\n",
       "            background-color:  #ffffcc;\n",
       "            color:  #000000;\n",
       "        }    #T_2cb03b32_fa7f_11e9_bf16_acde48001122row1_col31 {\n",
       "            background-color:  #ffffcc;\n",
       "            color:  #000000;\n",
       "        }    #T_2cb03b32_fa7f_11e9_bf16_acde48001122row1_col32 {\n",
       "            background-color:  #ffffcc;\n",
       "            color:  #000000;\n",
       "        }    #T_2cb03b32_fa7f_11e9_bf16_acde48001122row1_col33 {\n",
       "            background-color:  #ffffcc;\n",
       "            color:  #000000;\n",
       "        }    #T_2cb03b32_fa7f_11e9_bf16_acde48001122row1_col34 {\n",
       "            background-color:  #ffffcc;\n",
       "            color:  #000000;\n",
       "        }    #T_2cb03b32_fa7f_11e9_bf16_acde48001122row1_col35 {\n",
       "            background-color:  #ffffcc;\n",
       "            color:  #000000;\n",
       "        }    #T_2cb03b32_fa7f_11e9_bf16_acde48001122row1_col36 {\n",
       "            background-color:  #ffffcc;\n",
       "            color:  #000000;\n",
       "        }    #T_2cb03b32_fa7f_11e9_bf16_acde48001122row1_col37 {\n",
       "            background-color:  #ffffcc;\n",
       "            color:  #000000;\n",
       "        }    #T_2cb03b32_fa7f_11e9_bf16_acde48001122row1_col38 {\n",
       "            background-color:  #ffffcc;\n",
       "            color:  #000000;\n",
       "        }    #T_2cb03b32_fa7f_11e9_bf16_acde48001122row1_col39 {\n",
       "            background-color:  #ffffcc;\n",
       "            color:  #000000;\n",
       "        }    #T_2cb03b32_fa7f_11e9_bf16_acde48001122row1_col40 {\n",
       "            background-color:  #ffffcc;\n",
       "            color:  #000000;\n",
       "        }    #T_2cb03b32_fa7f_11e9_bf16_acde48001122row1_col41 {\n",
       "            background-color:  #ffffcc;\n",
       "            color:  #000000;\n",
       "        }    #T_2cb03b32_fa7f_11e9_bf16_acde48001122row1_col42 {\n",
       "            background-color:  #ffffcc;\n",
       "            color:  #000000;\n",
       "        }    #T_2cb03b32_fa7f_11e9_bf16_acde48001122row1_col43 {\n",
       "            background-color:  #ffffcc;\n",
       "            color:  #000000;\n",
       "        }    #T_2cb03b32_fa7f_11e9_bf16_acde48001122row1_col44 {\n",
       "            background-color:  #ffffcc;\n",
       "            color:  #000000;\n",
       "        }    #T_2cb03b32_fa7f_11e9_bf16_acde48001122row1_col45 {\n",
       "            background-color:  #ffffcc;\n",
       "            color:  #000000;\n",
       "        }    #T_2cb03b32_fa7f_11e9_bf16_acde48001122row1_col46 {\n",
       "            background-color:  #ffffcc;\n",
       "            color:  #000000;\n",
       "        }    #T_2cb03b32_fa7f_11e9_bf16_acde48001122row1_col47 {\n",
       "            background-color:  #ffffcc;\n",
       "            color:  #000000;\n",
       "        }    #T_2cb03b32_fa7f_11e9_bf16_acde48001122row1_col48 {\n",
       "            background-color:  #ffffcc;\n",
       "            color:  #000000;\n",
       "        }    #T_2cb03b32_fa7f_11e9_bf16_acde48001122row1_col49 {\n",
       "            background-color:  #ffffcc;\n",
       "            color:  #000000;\n",
       "        }    #T_2cb03b32_fa7f_11e9_bf16_acde48001122row1_col50 {\n",
       "            background-color:  #ffffcc;\n",
       "            color:  #000000;\n",
       "        }    #T_2cb03b32_fa7f_11e9_bf16_acde48001122row1_col51 {\n",
       "            background-color:  #ffffcc;\n",
       "            color:  #000000;\n",
       "        }    #T_2cb03b32_fa7f_11e9_bf16_acde48001122row1_col52 {\n",
       "            background-color:  #ffffcc;\n",
       "            color:  #000000;\n",
       "        }    #T_2cb03b32_fa7f_11e9_bf16_acde48001122row1_col53 {\n",
       "            background-color:  #ffffcc;\n",
       "            color:  #000000;\n",
       "        }    #T_2cb03b32_fa7f_11e9_bf16_acde48001122row1_col54 {\n",
       "            background-color:  #ffffcc;\n",
       "            color:  #000000;\n",
       "        }    #T_2cb03b32_fa7f_11e9_bf16_acde48001122row1_col55 {\n",
       "            background-color:  #ffffcc;\n",
       "            color:  #000000;\n",
       "        }    #T_2cb03b32_fa7f_11e9_bf16_acde48001122row1_col56 {\n",
       "            background-color:  #ffffcc;\n",
       "            color:  #000000;\n",
       "        }    #T_2cb03b32_fa7f_11e9_bf16_acde48001122row1_col57 {\n",
       "            background-color:  #ffffcc;\n",
       "            color:  #000000;\n",
       "        }    #T_2cb03b32_fa7f_11e9_bf16_acde48001122row1_col58 {\n",
       "            background-color:  #ffffcc;\n",
       "            color:  #000000;\n",
       "        }    #T_2cb03b32_fa7f_11e9_bf16_acde48001122row1_col59 {\n",
       "            background-color:  #ffffcc;\n",
       "            color:  #000000;\n",
       "        }    #T_2cb03b32_fa7f_11e9_bf16_acde48001122row1_col60 {\n",
       "            background-color:  #ffffcc;\n",
       "            color:  #000000;\n",
       "        }    #T_2cb03b32_fa7f_11e9_bf16_acde48001122row1_col61 {\n",
       "            background-color:  #ffffcc;\n",
       "            color:  #000000;\n",
       "        }    #T_2cb03b32_fa7f_11e9_bf16_acde48001122row1_col62 {\n",
       "            background-color:  #ffffcc;\n",
       "            color:  #000000;\n",
       "        }    #T_2cb03b32_fa7f_11e9_bf16_acde48001122row1_col63 {\n",
       "            background-color:  #ffffcc;\n",
       "            color:  #000000;\n",
       "        }    #T_2cb03b32_fa7f_11e9_bf16_acde48001122row1_col64 {\n",
       "            background-color:  #ffffcc;\n",
       "            color:  #000000;\n",
       "        }    #T_2cb03b32_fa7f_11e9_bf16_acde48001122row1_col65 {\n",
       "            background-color:  #ffffcc;\n",
       "            color:  #000000;\n",
       "        }    #T_2cb03b32_fa7f_11e9_bf16_acde48001122row1_col66 {\n",
       "            background-color:  #ffffcc;\n",
       "            color:  #000000;\n",
       "        }    #T_2cb03b32_fa7f_11e9_bf16_acde48001122row1_col67 {\n",
       "            background-color:  #ffffcc;\n",
       "            color:  #000000;\n",
       "        }    #T_2cb03b32_fa7f_11e9_bf16_acde48001122row1_col68 {\n",
       "            background-color:  #ffffcc;\n",
       "            color:  #000000;\n",
       "        }    #T_2cb03b32_fa7f_11e9_bf16_acde48001122row1_col69 {\n",
       "            background-color:  #ffffcc;\n",
       "            color:  #000000;\n",
       "        }    #T_2cb03b32_fa7f_11e9_bf16_acde48001122row1_col70 {\n",
       "            background-color:  #ffffcc;\n",
       "            color:  #000000;\n",
       "        }    #T_2cb03b32_fa7f_11e9_bf16_acde48001122row1_col71 {\n",
       "            background-color:  #ffffcc;\n",
       "            color:  #000000;\n",
       "        }    #T_2cb03b32_fa7f_11e9_bf16_acde48001122row1_col72 {\n",
       "            background-color:  #ffffcc;\n",
       "            color:  #000000;\n",
       "        }    #T_2cb03b32_fa7f_11e9_bf16_acde48001122row2_col0 {\n",
       "            background-color:  #800026;\n",
       "            color:  #f1f1f1;\n",
       "        }    #T_2cb03b32_fa7f_11e9_bf16_acde48001122row2_col1 {\n",
       "            background-color:  #800026;\n",
       "            color:  #f1f1f1;\n",
       "        }    #T_2cb03b32_fa7f_11e9_bf16_acde48001122row2_col2 {\n",
       "            background-color:  #800026;\n",
       "            color:  #f1f1f1;\n",
       "        }    #T_2cb03b32_fa7f_11e9_bf16_acde48001122row2_col3 {\n",
       "            background-color:  #800026;\n",
       "            color:  #f1f1f1;\n",
       "        }    #T_2cb03b32_fa7f_11e9_bf16_acde48001122row2_col4 {\n",
       "            background-color:  #800026;\n",
       "            color:  #f1f1f1;\n",
       "        }    #T_2cb03b32_fa7f_11e9_bf16_acde48001122row2_col5 {\n",
       "            background-color:  #800026;\n",
       "            color:  #f1f1f1;\n",
       "        }    #T_2cb03b32_fa7f_11e9_bf16_acde48001122row2_col6 {\n",
       "            background-color:  #800026;\n",
       "            color:  #f1f1f1;\n",
       "        }    #T_2cb03b32_fa7f_11e9_bf16_acde48001122row2_col7 {\n",
       "            background-color:  #800026;\n",
       "            color:  #f1f1f1;\n",
       "        }    #T_2cb03b32_fa7f_11e9_bf16_acde48001122row2_col8 {\n",
       "            background-color:  #800026;\n",
       "            color:  #f1f1f1;\n",
       "        }    #T_2cb03b32_fa7f_11e9_bf16_acde48001122row2_col9 {\n",
       "            background-color:  #800026;\n",
       "            color:  #f1f1f1;\n",
       "        }    #T_2cb03b32_fa7f_11e9_bf16_acde48001122row2_col10 {\n",
       "            background-color:  #800026;\n",
       "            color:  #f1f1f1;\n",
       "        }    #T_2cb03b32_fa7f_11e9_bf16_acde48001122row2_col11 {\n",
       "            background-color:  #800026;\n",
       "            color:  #f1f1f1;\n",
       "        }    #T_2cb03b32_fa7f_11e9_bf16_acde48001122row2_col12 {\n",
       "            background-color:  #800026;\n",
       "            color:  #f1f1f1;\n",
       "        }    #T_2cb03b32_fa7f_11e9_bf16_acde48001122row2_col13 {\n",
       "            background-color:  #800026;\n",
       "            color:  #f1f1f1;\n",
       "        }    #T_2cb03b32_fa7f_11e9_bf16_acde48001122row2_col14 {\n",
       "            background-color:  #800026;\n",
       "            color:  #f1f1f1;\n",
       "        }    #T_2cb03b32_fa7f_11e9_bf16_acde48001122row2_col15 {\n",
       "            background-color:  #800026;\n",
       "            color:  #f1f1f1;\n",
       "        }    #T_2cb03b32_fa7f_11e9_bf16_acde48001122row2_col16 {\n",
       "            background-color:  #800026;\n",
       "            color:  #f1f1f1;\n",
       "        }    #T_2cb03b32_fa7f_11e9_bf16_acde48001122row2_col17 {\n",
       "            background-color:  #800026;\n",
       "            color:  #f1f1f1;\n",
       "        }    #T_2cb03b32_fa7f_11e9_bf16_acde48001122row2_col18 {\n",
       "            background-color:  #800026;\n",
       "            color:  #f1f1f1;\n",
       "        }    #T_2cb03b32_fa7f_11e9_bf16_acde48001122row2_col19 {\n",
       "            background-color:  #800026;\n",
       "            color:  #f1f1f1;\n",
       "        }    #T_2cb03b32_fa7f_11e9_bf16_acde48001122row2_col20 {\n",
       "            background-color:  #800026;\n",
       "            color:  #f1f1f1;\n",
       "        }    #T_2cb03b32_fa7f_11e9_bf16_acde48001122row2_col21 {\n",
       "            background-color:  #800026;\n",
       "            color:  #f1f1f1;\n",
       "        }    #T_2cb03b32_fa7f_11e9_bf16_acde48001122row2_col22 {\n",
       "            background-color:  #800026;\n",
       "            color:  #f1f1f1;\n",
       "        }    #T_2cb03b32_fa7f_11e9_bf16_acde48001122row2_col23 {\n",
       "            background-color:  #800026;\n",
       "            color:  #f1f1f1;\n",
       "        }    #T_2cb03b32_fa7f_11e9_bf16_acde48001122row2_col24 {\n",
       "            background-color:  #800026;\n",
       "            color:  #f1f1f1;\n",
       "        }    #T_2cb03b32_fa7f_11e9_bf16_acde48001122row2_col25 {\n",
       "            background-color:  #800026;\n",
       "            color:  #f1f1f1;\n",
       "        }    #T_2cb03b32_fa7f_11e9_bf16_acde48001122row2_col26 {\n",
       "            background-color:  #800026;\n",
       "            color:  #f1f1f1;\n",
       "        }    #T_2cb03b32_fa7f_11e9_bf16_acde48001122row2_col27 {\n",
       "            background-color:  #800026;\n",
       "            color:  #f1f1f1;\n",
       "        }    #T_2cb03b32_fa7f_11e9_bf16_acde48001122row2_col28 {\n",
       "            background-color:  #800026;\n",
       "            color:  #f1f1f1;\n",
       "        }    #T_2cb03b32_fa7f_11e9_bf16_acde48001122row2_col29 {\n",
       "            background-color:  #800026;\n",
       "            color:  #f1f1f1;\n",
       "        }    #T_2cb03b32_fa7f_11e9_bf16_acde48001122row2_col30 {\n",
       "            background-color:  #800026;\n",
       "            color:  #f1f1f1;\n",
       "        }    #T_2cb03b32_fa7f_11e9_bf16_acde48001122row2_col31 {\n",
       "            background-color:  #800026;\n",
       "            color:  #f1f1f1;\n",
       "        }    #T_2cb03b32_fa7f_11e9_bf16_acde48001122row2_col32 {\n",
       "            background-color:  #800026;\n",
       "            color:  #f1f1f1;\n",
       "        }    #T_2cb03b32_fa7f_11e9_bf16_acde48001122row2_col33 {\n",
       "            background-color:  #800026;\n",
       "            color:  #f1f1f1;\n",
       "        }    #T_2cb03b32_fa7f_11e9_bf16_acde48001122row2_col34 {\n",
       "            background-color:  #800026;\n",
       "            color:  #f1f1f1;\n",
       "        }    #T_2cb03b32_fa7f_11e9_bf16_acde48001122row2_col35 {\n",
       "            background-color:  #800026;\n",
       "            color:  #f1f1f1;\n",
       "        }    #T_2cb03b32_fa7f_11e9_bf16_acde48001122row2_col36 {\n",
       "            background-color:  #800026;\n",
       "            color:  #f1f1f1;\n",
       "        }    #T_2cb03b32_fa7f_11e9_bf16_acde48001122row2_col37 {\n",
       "            background-color:  #800026;\n",
       "            color:  #f1f1f1;\n",
       "        }    #T_2cb03b32_fa7f_11e9_bf16_acde48001122row2_col38 {\n",
       "            background-color:  #800026;\n",
       "            color:  #f1f1f1;\n",
       "        }    #T_2cb03b32_fa7f_11e9_bf16_acde48001122row2_col39 {\n",
       "            background-color:  #800026;\n",
       "            color:  #f1f1f1;\n",
       "        }    #T_2cb03b32_fa7f_11e9_bf16_acde48001122row2_col40 {\n",
       "            background-color:  #800026;\n",
       "            color:  #f1f1f1;\n",
       "        }    #T_2cb03b32_fa7f_11e9_bf16_acde48001122row2_col41 {\n",
       "            background-color:  #800026;\n",
       "            color:  #f1f1f1;\n",
       "        }    #T_2cb03b32_fa7f_11e9_bf16_acde48001122row2_col42 {\n",
       "            background-color:  #800026;\n",
       "            color:  #f1f1f1;\n",
       "        }    #T_2cb03b32_fa7f_11e9_bf16_acde48001122row2_col43 {\n",
       "            background-color:  #800026;\n",
       "            color:  #f1f1f1;\n",
       "        }    #T_2cb03b32_fa7f_11e9_bf16_acde48001122row2_col44 {\n",
       "            background-color:  #800026;\n",
       "            color:  #f1f1f1;\n",
       "        }    #T_2cb03b32_fa7f_11e9_bf16_acde48001122row2_col45 {\n",
       "            background-color:  #800026;\n",
       "            color:  #f1f1f1;\n",
       "        }    #T_2cb03b32_fa7f_11e9_bf16_acde48001122row2_col46 {\n",
       "            background-color:  #800026;\n",
       "            color:  #f1f1f1;\n",
       "        }    #T_2cb03b32_fa7f_11e9_bf16_acde48001122row2_col47 {\n",
       "            background-color:  #800026;\n",
       "            color:  #f1f1f1;\n",
       "        }    #T_2cb03b32_fa7f_11e9_bf16_acde48001122row2_col48 {\n",
       "            background-color:  #800026;\n",
       "            color:  #f1f1f1;\n",
       "        }    #T_2cb03b32_fa7f_11e9_bf16_acde48001122row2_col49 {\n",
       "            background-color:  #800026;\n",
       "            color:  #f1f1f1;\n",
       "        }    #T_2cb03b32_fa7f_11e9_bf16_acde48001122row2_col50 {\n",
       "            background-color:  #800026;\n",
       "            color:  #f1f1f1;\n",
       "        }    #T_2cb03b32_fa7f_11e9_bf16_acde48001122row2_col51 {\n",
       "            background-color:  #800026;\n",
       "            color:  #f1f1f1;\n",
       "        }    #T_2cb03b32_fa7f_11e9_bf16_acde48001122row2_col52 {\n",
       "            background-color:  #800026;\n",
       "            color:  #f1f1f1;\n",
       "        }    #T_2cb03b32_fa7f_11e9_bf16_acde48001122row2_col53 {\n",
       "            background-color:  #800026;\n",
       "            color:  #f1f1f1;\n",
       "        }    #T_2cb03b32_fa7f_11e9_bf16_acde48001122row2_col54 {\n",
       "            background-color:  #800026;\n",
       "            color:  #f1f1f1;\n",
       "        }    #T_2cb03b32_fa7f_11e9_bf16_acde48001122row2_col55 {\n",
       "            background-color:  #800026;\n",
       "            color:  #f1f1f1;\n",
       "        }    #T_2cb03b32_fa7f_11e9_bf16_acde48001122row2_col56 {\n",
       "            background-color:  #800026;\n",
       "            color:  #f1f1f1;\n",
       "        }    #T_2cb03b32_fa7f_11e9_bf16_acde48001122row2_col57 {\n",
       "            background-color:  #800026;\n",
       "            color:  #f1f1f1;\n",
       "        }    #T_2cb03b32_fa7f_11e9_bf16_acde48001122row2_col58 {\n",
       "            background-color:  #800026;\n",
       "            color:  #f1f1f1;\n",
       "        }    #T_2cb03b32_fa7f_11e9_bf16_acde48001122row2_col59 {\n",
       "            background-color:  #800026;\n",
       "            color:  #f1f1f1;\n",
       "        }    #T_2cb03b32_fa7f_11e9_bf16_acde48001122row2_col60 {\n",
       "            background-color:  #800026;\n",
       "            color:  #f1f1f1;\n",
       "        }    #T_2cb03b32_fa7f_11e9_bf16_acde48001122row2_col61 {\n",
       "            background-color:  #800026;\n",
       "            color:  #f1f1f1;\n",
       "        }    #T_2cb03b32_fa7f_11e9_bf16_acde48001122row2_col62 {\n",
       "            background-color:  #800026;\n",
       "            color:  #f1f1f1;\n",
       "        }    #T_2cb03b32_fa7f_11e9_bf16_acde48001122row2_col63 {\n",
       "            background-color:  #800026;\n",
       "            color:  #f1f1f1;\n",
       "        }    #T_2cb03b32_fa7f_11e9_bf16_acde48001122row2_col64 {\n",
       "            background-color:  #800026;\n",
       "            color:  #f1f1f1;\n",
       "        }    #T_2cb03b32_fa7f_11e9_bf16_acde48001122row2_col65 {\n",
       "            background-color:  #800026;\n",
       "            color:  #f1f1f1;\n",
       "        }    #T_2cb03b32_fa7f_11e9_bf16_acde48001122row2_col66 {\n",
       "            background-color:  #800026;\n",
       "            color:  #f1f1f1;\n",
       "        }    #T_2cb03b32_fa7f_11e9_bf16_acde48001122row2_col67 {\n",
       "            background-color:  #800026;\n",
       "            color:  #f1f1f1;\n",
       "        }    #T_2cb03b32_fa7f_11e9_bf16_acde48001122row2_col68 {\n",
       "            background-color:  #800026;\n",
       "            color:  #f1f1f1;\n",
       "        }    #T_2cb03b32_fa7f_11e9_bf16_acde48001122row2_col69 {\n",
       "            background-color:  #800026;\n",
       "            color:  #f1f1f1;\n",
       "        }    #T_2cb03b32_fa7f_11e9_bf16_acde48001122row2_col70 {\n",
       "            background-color:  #800026;\n",
       "            color:  #f1f1f1;\n",
       "        }    #T_2cb03b32_fa7f_11e9_bf16_acde48001122row2_col71 {\n",
       "            background-color:  #800026;\n",
       "            color:  #f1f1f1;\n",
       "        }    #T_2cb03b32_fa7f_11e9_bf16_acde48001122row2_col72 {\n",
       "            background-color:  #800026;\n",
       "            color:  #f1f1f1;\n",
       "        }</style><table id=\"T_2cb03b32_fa7f_11e9_bf16_acde48001122\" ><thead>    <tr>        <th class=\"index_name level0\" >tenure</th>        <th class=\"col_heading level0 col0\" >1</th>        <th class=\"col_heading level0 col1\" >2</th>        <th class=\"col_heading level0 col2\" >3</th>        <th class=\"col_heading level0 col3\" >4</th>        <th class=\"col_heading level0 col4\" >5</th>        <th class=\"col_heading level0 col5\" >6</th>        <th class=\"col_heading level0 col6\" >7</th>        <th class=\"col_heading level0 col7\" >8</th>        <th class=\"col_heading level0 col8\" >9</th>        <th class=\"col_heading level0 col9\" >10</th>        <th class=\"col_heading level0 col10\" >11</th>        <th class=\"col_heading level0 col11\" >12</th>        <th class=\"col_heading level0 col12\" >13</th>        <th class=\"col_heading level0 col13\" >14</th>        <th class=\"col_heading level0 col14\" >15</th>        <th class=\"col_heading level0 col15\" >16</th>        <th class=\"col_heading level0 col16\" >17</th>        <th class=\"col_heading level0 col17\" >18</th>        <th class=\"col_heading level0 col18\" >19</th>        <th class=\"col_heading level0 col19\" >20</th>        <th class=\"col_heading level0 col20\" >21</th>        <th class=\"col_heading level0 col21\" >22</th>        <th class=\"col_heading level0 col22\" >23</th>        <th class=\"col_heading level0 col23\" >24</th>        <th class=\"col_heading level0 col24\" >25</th>        <th class=\"col_heading level0 col25\" >26</th>        <th class=\"col_heading level0 col26\" >27</th>        <th class=\"col_heading level0 col27\" >28</th>        <th class=\"col_heading level0 col28\" >29</th>        <th class=\"col_heading level0 col29\" >30</th>        <th class=\"col_heading level0 col30\" >31</th>        <th class=\"col_heading level0 col31\" >32</th>        <th class=\"col_heading level0 col32\" >33</th>        <th class=\"col_heading level0 col33\" >34</th>        <th class=\"col_heading level0 col34\" >35</th>        <th class=\"col_heading level0 col35\" >36</th>        <th class=\"col_heading level0 col36\" >37</th>        <th class=\"col_heading level0 col37\" >38</th>        <th class=\"col_heading level0 col38\" >39</th>        <th class=\"col_heading level0 col39\" >40</th>        <th class=\"col_heading level0 col40\" >41</th>        <th class=\"col_heading level0 col41\" >42</th>        <th class=\"col_heading level0 col42\" >43</th>        <th class=\"col_heading level0 col43\" >44</th>        <th class=\"col_heading level0 col44\" >45</th>        <th class=\"col_heading level0 col45\" >46</th>        <th class=\"col_heading level0 col46\" >47</th>        <th class=\"col_heading level0 col47\" >48</th>        <th class=\"col_heading level0 col48\" >49</th>        <th class=\"col_heading level0 col49\" >50</th>        <th class=\"col_heading level0 col50\" >51</th>        <th class=\"col_heading level0 col51\" >52</th>        <th class=\"col_heading level0 col52\" >53</th>        <th class=\"col_heading level0 col53\" >54</th>        <th class=\"col_heading level0 col54\" >55</th>        <th class=\"col_heading level0 col55\" >56</th>        <th class=\"col_heading level0 col56\" >57</th>        <th class=\"col_heading level0 col57\" >58</th>        <th class=\"col_heading level0 col58\" >59</th>        <th class=\"col_heading level0 col59\" >60</th>        <th class=\"col_heading level0 col60\" >61</th>        <th class=\"col_heading level0 col61\" >62</th>        <th class=\"col_heading level0 col62\" >63</th>        <th class=\"col_heading level0 col63\" >64</th>        <th class=\"col_heading level0 col64\" >65</th>        <th class=\"col_heading level0 col65\" >66</th>        <th class=\"col_heading level0 col66\" >67</th>        <th class=\"col_heading level0 col67\" >68</th>        <th class=\"col_heading level0 col68\" >69</th>        <th class=\"col_heading level0 col69\" >70</th>        <th class=\"col_heading level0 col70\" >71</th>        <th class=\"col_heading level0 col71\" >72</th>        <th class=\"col_heading level0 col72\" >All</th>    </tr>    <tr>        <th class=\"index_name level0\" >churn</th>        <th class=\"blank\" ></th>        <th class=\"blank\" ></th>        <th class=\"blank\" ></th>        <th class=\"blank\" ></th>        <th class=\"blank\" ></th>        <th class=\"blank\" ></th>        <th class=\"blank\" ></th>        <th class=\"blank\" ></th>        <th class=\"blank\" ></th>        <th class=\"blank\" ></th>        <th class=\"blank\" ></th>        <th class=\"blank\" ></th>        <th class=\"blank\" ></th>        <th class=\"blank\" ></th>        <th class=\"blank\" ></th>        <th class=\"blank\" ></th>        <th class=\"blank\" ></th>        <th class=\"blank\" ></th>        <th class=\"blank\" ></th>        <th class=\"blank\" ></th>        <th class=\"blank\" ></th>        <th class=\"blank\" ></th>        <th class=\"blank\" ></th>        <th class=\"blank\" ></th>        <th class=\"blank\" ></th>        <th class=\"blank\" ></th>        <th class=\"blank\" ></th>        <th class=\"blank\" ></th>        <th class=\"blank\" ></th>        <th class=\"blank\" ></th>        <th class=\"blank\" ></th>        <th class=\"blank\" ></th>        <th class=\"blank\" ></th>        <th class=\"blank\" ></th>        <th class=\"blank\" ></th>        <th class=\"blank\" ></th>        <th class=\"blank\" ></th>        <th class=\"blank\" ></th>        <th class=\"blank\" ></th>        <th class=\"blank\" ></th>        <th class=\"blank\" ></th>        <th class=\"blank\" ></th>        <th class=\"blank\" ></th>        <th class=\"blank\" ></th>        <th class=\"blank\" ></th>        <th class=\"blank\" ></th>        <th class=\"blank\" ></th>        <th class=\"blank\" ></th>        <th class=\"blank\" ></th>        <th class=\"blank\" ></th>        <th class=\"blank\" ></th>        <th class=\"blank\" ></th>        <th class=\"blank\" ></th>        <th class=\"blank\" ></th>        <th class=\"blank\" ></th>        <th class=\"blank\" ></th>        <th class=\"blank\" ></th>        <th class=\"blank\" ></th>        <th class=\"blank\" ></th>        <th class=\"blank\" ></th>        <th class=\"blank\" ></th>        <th class=\"blank\" ></th>        <th class=\"blank\" ></th>        <th class=\"blank\" ></th>        <th class=\"blank\" ></th>        <th class=\"blank\" ></th>        <th class=\"blank\" ></th>        <th class=\"blank\" ></th>        <th class=\"blank\" ></th>        <th class=\"blank\" ></th>        <th class=\"blank\" ></th>        <th class=\"blank\" ></th>        <th class=\"blank\" ></th>    </tr></thead><tbody>\n",
       "                <tr>\n",
       "                        <th id=\"T_2cb03b32_fa7f_11e9_bf16_acde48001122level0_row0\" class=\"row_heading level0 row0\" >0</th>\n",
       "                        <td id=\"T_2cb03b32_fa7f_11e9_bf16_acde48001122row0_col0\" class=\"data row0 col0\" >146</td>\n",
       "                        <td id=\"T_2cb03b32_fa7f_11e9_bf16_acde48001122row0_col1\" class=\"data row0 col1\" >90</td>\n",
       "                        <td id=\"T_2cb03b32_fa7f_11e9_bf16_acde48001122row0_col2\" class=\"data row0 col2\" >78</td>\n",
       "                        <td id=\"T_2cb03b32_fa7f_11e9_bf16_acde48001122row0_col3\" class=\"data row0 col3\" >66</td>\n",
       "                        <td id=\"T_2cb03b32_fa7f_11e9_bf16_acde48001122row0_col4\" class=\"data row0 col4\" >47</td>\n",
       "                        <td id=\"T_2cb03b32_fa7f_11e9_bf16_acde48001122row0_col5\" class=\"data row0 col5\" >45</td>\n",
       "                        <td id=\"T_2cb03b32_fa7f_11e9_bf16_acde48001122row0_col6\" class=\"data row0 col6\" >55</td>\n",
       "                        <td id=\"T_2cb03b32_fa7f_11e9_bf16_acde48001122row0_col7\" class=\"data row0 col7\" >65</td>\n",
       "                        <td id=\"T_2cb03b32_fa7f_11e9_bf16_acde48001122row0_col8\" class=\"data row0 col8\" >46</td>\n",
       "                        <td id=\"T_2cb03b32_fa7f_11e9_bf16_acde48001122row0_col9\" class=\"data row0 col9\" >49</td>\n",
       "                        <td id=\"T_2cb03b32_fa7f_11e9_bf16_acde48001122row0_col10\" class=\"data row0 col10\" >49</td>\n",
       "                        <td id=\"T_2cb03b32_fa7f_11e9_bf16_acde48001122row0_col11\" class=\"data row0 col11\" >56</td>\n",
       "                        <td id=\"T_2cb03b32_fa7f_11e9_bf16_acde48001122row0_col12\" class=\"data row0 col12\" >45</td>\n",
       "                        <td id=\"T_2cb03b32_fa7f_11e9_bf16_acde48001122row0_col13\" class=\"data row0 col13\" >36</td>\n",
       "                        <td id=\"T_2cb03b32_fa7f_11e9_bf16_acde48001122row0_col14\" class=\"data row0 col14\" >46</td>\n",
       "                        <td id=\"T_2cb03b32_fa7f_11e9_bf16_acde48001122row0_col15\" class=\"data row0 col15\" >36</td>\n",
       "                        <td id=\"T_2cb03b32_fa7f_11e9_bf16_acde48001122row0_col16\" class=\"data row0 col16\" >44</td>\n",
       "                        <td id=\"T_2cb03b32_fa7f_11e9_bf16_acde48001122row0_col17\" class=\"data row0 col17\" >43</td>\n",
       "                        <td id=\"T_2cb03b32_fa7f_11e9_bf16_acde48001122row0_col18\" class=\"data row0 col18\" >34</td>\n",
       "                        <td id=\"T_2cb03b32_fa7f_11e9_bf16_acde48001122row0_col19\" class=\"data row0 col19\" >38</td>\n",
       "                        <td id=\"T_2cb03b32_fa7f_11e9_bf16_acde48001122row0_col20\" class=\"data row0 col20\" >31</td>\n",
       "                        <td id=\"T_2cb03b32_fa7f_11e9_bf16_acde48001122row0_col21\" class=\"data row0 col21\" >47</td>\n",
       "                        <td id=\"T_2cb03b32_fa7f_11e9_bf16_acde48001122row0_col22\" class=\"data row0 col22\" >49</td>\n",
       "                        <td id=\"T_2cb03b32_fa7f_11e9_bf16_acde48001122row0_col23\" class=\"data row0 col23\" >46</td>\n",
       "                        <td id=\"T_2cb03b32_fa7f_11e9_bf16_acde48001122row0_col24\" class=\"data row0 col24\" >48</td>\n",
       "                        <td id=\"T_2cb03b32_fa7f_11e9_bf16_acde48001122row0_col25\" class=\"data row0 col25\" >48</td>\n",
       "                        <td id=\"T_2cb03b32_fa7f_11e9_bf16_acde48001122row0_col26\" class=\"data row0 col26\" >42</td>\n",
       "                        <td id=\"T_2cb03b32_fa7f_11e9_bf16_acde48001122row0_col27\" class=\"data row0 col27\" >29</td>\n",
       "                        <td id=\"T_2cb03b32_fa7f_11e9_bf16_acde48001122row0_col28\" class=\"data row0 col28\" >43</td>\n",
       "                        <td id=\"T_2cb03b32_fa7f_11e9_bf16_acde48001122row0_col29\" class=\"data row0 col29\" >45</td>\n",
       "                        <td id=\"T_2cb03b32_fa7f_11e9_bf16_acde48001122row0_col30\" class=\"data row0 col30\" >36</td>\n",
       "                        <td id=\"T_2cb03b32_fa7f_11e9_bf16_acde48001122row0_col31\" class=\"data row0 col31\" >33</td>\n",
       "                        <td id=\"T_2cb03b32_fa7f_11e9_bf16_acde48001122row0_col32\" class=\"data row0 col32\" >39</td>\n",
       "                        <td id=\"T_2cb03b32_fa7f_11e9_bf16_acde48001122row0_col33\" class=\"data row0 col33\" >38</td>\n",
       "                        <td id=\"T_2cb03b32_fa7f_11e9_bf16_acde48001122row0_col34\" class=\"data row0 col34\" >59</td>\n",
       "                        <td id=\"T_2cb03b32_fa7f_11e9_bf16_acde48001122row0_col35\" class=\"data row0 col35\" >24</td>\n",
       "                        <td id=\"T_2cb03b32_fa7f_11e9_bf16_acde48001122row0_col36\" class=\"data row0 col36\" >38</td>\n",
       "                        <td id=\"T_2cb03b32_fa7f_11e9_bf16_acde48001122row0_col37\" class=\"data row0 col37\" >33</td>\n",
       "                        <td id=\"T_2cb03b32_fa7f_11e9_bf16_acde48001122row0_col38\" class=\"data row0 col38\" >23</td>\n",
       "                        <td id=\"T_2cb03b32_fa7f_11e9_bf16_acde48001122row0_col39\" class=\"data row0 col39\" >39</td>\n",
       "                        <td id=\"T_2cb03b32_fa7f_11e9_bf16_acde48001122row0_col40\" class=\"data row0 col40\" >42</td>\n",
       "                        <td id=\"T_2cb03b32_fa7f_11e9_bf16_acde48001122row0_col41\" class=\"data row0 col41\" >36</td>\n",
       "                        <td id=\"T_2cb03b32_fa7f_11e9_bf16_acde48001122row0_col42\" class=\"data row0 col42\" >33</td>\n",
       "                        <td id=\"T_2cb03b32_fa7f_11e9_bf16_acde48001122row0_col43\" class=\"data row0 col43\" >29</td>\n",
       "                        <td id=\"T_2cb03b32_fa7f_11e9_bf16_acde48001122row0_col44\" class=\"data row0 col44\" >42</td>\n",
       "                        <td id=\"T_2cb03b32_fa7f_11e9_bf16_acde48001122row0_col45\" class=\"data row0 col45\" >42</td>\n",
       "                        <td id=\"T_2cb03b32_fa7f_11e9_bf16_acde48001122row0_col46\" class=\"data row0 col46\" >39</td>\n",
       "                        <td id=\"T_2cb03b32_fa7f_11e9_bf16_acde48001122row0_col47\" class=\"data row0 col47\" >44</td>\n",
       "                        <td id=\"T_2cb03b32_fa7f_11e9_bf16_acde48001122row0_col48\" class=\"data row0 col48\" >38</td>\n",
       "                        <td id=\"T_2cb03b32_fa7f_11e9_bf16_acde48001122row0_col49\" class=\"data row0 col49\" >43</td>\n",
       "                        <td id=\"T_2cb03b32_fa7f_11e9_bf16_acde48001122row0_col50\" class=\"data row0 col50\" >40</td>\n",
       "                        <td id=\"T_2cb03b32_fa7f_11e9_bf16_acde48001122row0_col51\" class=\"data row0 col51\" >54</td>\n",
       "                        <td id=\"T_2cb03b32_fa7f_11e9_bf16_acde48001122row0_col52\" class=\"data row0 col52\" >42</td>\n",
       "                        <td id=\"T_2cb03b32_fa7f_11e9_bf16_acde48001122row0_col53\" class=\"data row0 col53\" >41</td>\n",
       "                        <td id=\"T_2cb03b32_fa7f_11e9_bf16_acde48001122row0_col54\" class=\"data row0 col54\" >37</td>\n",
       "                        <td id=\"T_2cb03b32_fa7f_11e9_bf16_acde48001122row0_col55\" class=\"data row0 col55\" >50</td>\n",
       "                        <td id=\"T_2cb03b32_fa7f_11e9_bf16_acde48001122row0_col56\" class=\"data row0 col56\" >39</td>\n",
       "                        <td id=\"T_2cb03b32_fa7f_11e9_bf16_acde48001122row0_col57\" class=\"data row0 col57\" >41</td>\n",
       "                        <td id=\"T_2cb03b32_fa7f_11e9_bf16_acde48001122row0_col58\" class=\"data row0 col58\" >35</td>\n",
       "                        <td id=\"T_2cb03b32_fa7f_11e9_bf16_acde48001122row0_col59\" class=\"data row0 col59\" >48</td>\n",
       "                        <td id=\"T_2cb03b32_fa7f_11e9_bf16_acde48001122row0_col60\" class=\"data row0 col60\" >44</td>\n",
       "                        <td id=\"T_2cb03b32_fa7f_11e9_bf16_acde48001122row0_col61\" class=\"data row0 col61\" >48</td>\n",
       "                        <td id=\"T_2cb03b32_fa7f_11e9_bf16_acde48001122row0_col62\" class=\"data row0 col62\" >38</td>\n",
       "                        <td id=\"T_2cb03b32_fa7f_11e9_bf16_acde48001122row0_col63\" class=\"data row0 col63\" >50</td>\n",
       "                        <td id=\"T_2cb03b32_fa7f_11e9_bf16_acde48001122row0_col64\" class=\"data row0 col64\" >42</td>\n",
       "                        <td id=\"T_2cb03b32_fa7f_11e9_bf16_acde48001122row0_col65\" class=\"data row0 col65\" >52</td>\n",
       "                        <td id=\"T_2cb03b32_fa7f_11e9_bf16_acde48001122row0_col66\" class=\"data row0 col66\" >62</td>\n",
       "                        <td id=\"T_2cb03b32_fa7f_11e9_bf16_acde48001122row0_col67\" class=\"data row0 col67\" >64</td>\n",
       "                        <td id=\"T_2cb03b32_fa7f_11e9_bf16_acde48001122row0_col68\" class=\"data row0 col68\" >64</td>\n",
       "                        <td id=\"T_2cb03b32_fa7f_11e9_bf16_acde48001122row0_col69\" class=\"data row0 col69\" >76</td>\n",
       "                        <td id=\"T_2cb03b32_fa7f_11e9_bf16_acde48001122row0_col70\" class=\"data row0 col70\" >116</td>\n",
       "                        <td id=\"T_2cb03b32_fa7f_11e9_bf16_acde48001122row0_col71\" class=\"data row0 col71\" >250</td>\n",
       "                        <td id=\"T_2cb03b32_fa7f_11e9_bf16_acde48001122row0_col72\" class=\"data row0 col72\" >3625</td>\n",
       "            </tr>\n",
       "            <tr>\n",
       "                        <th id=\"T_2cb03b32_fa7f_11e9_bf16_acde48001122level0_row1\" class=\"row_heading level0 row1\" >1</th>\n",
       "                        <td id=\"T_2cb03b32_fa7f_11e9_bf16_acde48001122row1_col0\" class=\"data row1 col0\" >267</td>\n",
       "                        <td id=\"T_2cb03b32_fa7f_11e9_bf16_acde48001122row1_col1\" class=\"data row1 col1\" >88</td>\n",
       "                        <td id=\"T_2cb03b32_fa7f_11e9_bf16_acde48001122row1_col2\" class=\"data row1 col2\" >59</td>\n",
       "                        <td id=\"T_2cb03b32_fa7f_11e9_bf16_acde48001122row1_col3\" class=\"data row1 col3\" >63</td>\n",
       "                        <td id=\"T_2cb03b32_fa7f_11e9_bf16_acde48001122row1_col4\" class=\"data row1 col4\" >44</td>\n",
       "                        <td id=\"T_2cb03b32_fa7f_11e9_bf16_acde48001122row1_col5\" class=\"data row1 col5\" >24</td>\n",
       "                        <td id=\"T_2cb03b32_fa7f_11e9_bf16_acde48001122row1_col6\" class=\"data row1 col6\" >34</td>\n",
       "                        <td id=\"T_2cb03b32_fa7f_11e9_bf16_acde48001122row1_col7\" class=\"data row1 col7\" >29</td>\n",
       "                        <td id=\"T_2cb03b32_fa7f_11e9_bf16_acde48001122row1_col8\" class=\"data row1 col8\" >28</td>\n",
       "                        <td id=\"T_2cb03b32_fa7f_11e9_bf16_acde48001122row1_col9\" class=\"data row1 col9\" >34</td>\n",
       "                        <td id=\"T_2cb03b32_fa7f_11e9_bf16_acde48001122row1_col10\" class=\"data row1 col10\" >22</td>\n",
       "                        <td id=\"T_2cb03b32_fa7f_11e9_bf16_acde48001122row1_col11\" class=\"data row1 col11\" >29</td>\n",
       "                        <td id=\"T_2cb03b32_fa7f_11e9_bf16_acde48001122row1_col12\" class=\"data row1 col12\" >26</td>\n",
       "                        <td id=\"T_2cb03b32_fa7f_11e9_bf16_acde48001122row1_col13\" class=\"data row1 col13\" >15</td>\n",
       "                        <td id=\"T_2cb03b32_fa7f_11e9_bf16_acde48001122row1_col14\" class=\"data row1 col14\" >23</td>\n",
       "                        <td id=\"T_2cb03b32_fa7f_11e9_bf16_acde48001122row1_col15\" class=\"data row1 col15\" >13</td>\n",
       "                        <td id=\"T_2cb03b32_fa7f_11e9_bf16_acde48001122row1_col16\" class=\"data row1 col16\" >15</td>\n",
       "                        <td id=\"T_2cb03b32_fa7f_11e9_bf16_acde48001122row1_col17\" class=\"data row1 col17\" >14</td>\n",
       "                        <td id=\"T_2cb03b32_fa7f_11e9_bf16_acde48001122row1_col18\" class=\"data row1 col18\" >14</td>\n",
       "                        <td id=\"T_2cb03b32_fa7f_11e9_bf16_acde48001122row1_col19\" class=\"data row1 col19\" >13</td>\n",
       "                        <td id=\"T_2cb03b32_fa7f_11e9_bf16_acde48001122row1_col20\" class=\"data row1 col20\" >13</td>\n",
       "                        <td id=\"T_2cb03b32_fa7f_11e9_bf16_acde48001122row1_col21\" class=\"data row1 col21\" >17</td>\n",
       "                        <td id=\"T_2cb03b32_fa7f_11e9_bf16_acde48001122row1_col22\" class=\"data row1 col22\" >7</td>\n",
       "                        <td id=\"T_2cb03b32_fa7f_11e9_bf16_acde48001122row1_col23\" class=\"data row1 col23\" >16</td>\n",
       "                        <td id=\"T_2cb03b32_fa7f_11e9_bf16_acde48001122row1_col24\" class=\"data row1 col24\" >16</td>\n",
       "                        <td id=\"T_2cb03b32_fa7f_11e9_bf16_acde48001122row1_col25\" class=\"data row1 col25\" >11</td>\n",
       "                        <td id=\"T_2cb03b32_fa7f_11e9_bf16_acde48001122row1_col26\" class=\"data row1 col26\" >7</td>\n",
       "                        <td id=\"T_2cb03b32_fa7f_11e9_bf16_acde48001122row1_col27\" class=\"data row1 col27\" >8</td>\n",
       "                        <td id=\"T_2cb03b32_fa7f_11e9_bf16_acde48001122row1_col28\" class=\"data row1 col28\" >13</td>\n",
       "                        <td id=\"T_2cb03b32_fa7f_11e9_bf16_acde48001122row1_col29\" class=\"data row1 col29\" >14</td>\n",
       "                        <td id=\"T_2cb03b32_fa7f_11e9_bf16_acde48001122row1_col30\" class=\"data row1 col30\" >12</td>\n",
       "                        <td id=\"T_2cb03b32_fa7f_11e9_bf16_acde48001122row1_col31\" class=\"data row1 col31\" >13</td>\n",
       "                        <td id=\"T_2cb03b32_fa7f_11e9_bf16_acde48001122row1_col32\" class=\"data row1 col32\" >9</td>\n",
       "                        <td id=\"T_2cb03b32_fa7f_11e9_bf16_acde48001122row1_col33\" class=\"data row1 col33\" >8</td>\n",
       "                        <td id=\"T_2cb03b32_fa7f_11e9_bf16_acde48001122row1_col34\" class=\"data row1 col34\" >12</td>\n",
       "                        <td id=\"T_2cb03b32_fa7f_11e9_bf16_acde48001122row1_col35\" class=\"data row1 col35\" >8</td>\n",
       "                        <td id=\"T_2cb03b32_fa7f_11e9_bf16_acde48001122row1_col36\" class=\"data row1 col36\" >8</td>\n",
       "                        <td id=\"T_2cb03b32_fa7f_11e9_bf16_acde48001122row1_col37\" class=\"data row1 col37\" >10</td>\n",
       "                        <td id=\"T_2cb03b32_fa7f_11e9_bf16_acde48001122row1_col38\" class=\"data row1 col38\" >9</td>\n",
       "                        <td id=\"T_2cb03b32_fa7f_11e9_bf16_acde48001122row1_col39\" class=\"data row1 col39\" >10</td>\n",
       "                        <td id=\"T_2cb03b32_fa7f_11e9_bf16_acde48001122row1_col40\" class=\"data row1 col40\" >9</td>\n",
       "                        <td id=\"T_2cb03b32_fa7f_11e9_bf16_acde48001122row1_col41\" class=\"data row1 col41\" >10</td>\n",
       "                        <td id=\"T_2cb03b32_fa7f_11e9_bf16_acde48001122row1_col42\" class=\"data row1 col42\" >12</td>\n",
       "                        <td id=\"T_2cb03b32_fa7f_11e9_bf16_acde48001122row1_col43\" class=\"data row1 col43\" >4</td>\n",
       "                        <td id=\"T_2cb03b32_fa7f_11e9_bf16_acde48001122row1_col44\" class=\"data row1 col44\" >5</td>\n",
       "                        <td id=\"T_2cb03b32_fa7f_11e9_bf16_acde48001122row1_col45\" class=\"data row1 col45\" >10</td>\n",
       "                        <td id=\"T_2cb03b32_fa7f_11e9_bf16_acde48001122row1_col46\" class=\"data row1 col46\" >11</td>\n",
       "                        <td id=\"T_2cb03b32_fa7f_11e9_bf16_acde48001122row1_col47\" class=\"data row1 col47\" >7</td>\n",
       "                        <td id=\"T_2cb03b32_fa7f_11e9_bf16_acde48001122row1_col48\" class=\"data row1 col48\" >13</td>\n",
       "                        <td id=\"T_2cb03b32_fa7f_11e9_bf16_acde48001122row1_col49\" class=\"data row1 col49\" >7</td>\n",
       "                        <td id=\"T_2cb03b32_fa7f_11e9_bf16_acde48001122row1_col50\" class=\"data row1 col50\" >8</td>\n",
       "                        <td id=\"T_2cb03b32_fa7f_11e9_bf16_acde48001122row1_col51\" class=\"data row1 col51\" >6</td>\n",
       "                        <td id=\"T_2cb03b32_fa7f_11e9_bf16_acde48001122row1_col52\" class=\"data row1 col52\" >9</td>\n",
       "                        <td id=\"T_2cb03b32_fa7f_11e9_bf16_acde48001122row1_col53\" class=\"data row1 col53\" >10</td>\n",
       "                        <td id=\"T_2cb03b32_fa7f_11e9_bf16_acde48001122row1_col54\" class=\"data row1 col54\" >6</td>\n",
       "                        <td id=\"T_2cb03b32_fa7f_11e9_bf16_acde48001122row1_col55\" class=\"data row1 col55\" >6</td>\n",
       "                        <td id=\"T_2cb03b32_fa7f_11e9_bf16_acde48001122row1_col56\" class=\"data row1 col56\" >5</td>\n",
       "                        <td id=\"T_2cb03b32_fa7f_11e9_bf16_acde48001122row1_col57\" class=\"data row1 col57\" >11</td>\n",
       "                        <td id=\"T_2cb03b32_fa7f_11e9_bf16_acde48001122row1_col58\" class=\"data row1 col58\" >6</td>\n",
       "                        <td id=\"T_2cb03b32_fa7f_11e9_bf16_acde48001122row1_col59\" class=\"data row1 col59\" >4</td>\n",
       "                        <td id=\"T_2cb03b32_fa7f_11e9_bf16_acde48001122row1_col60\" class=\"data row1 col60\" >6</td>\n",
       "                        <td id=\"T_2cb03b32_fa7f_11e9_bf16_acde48001122row1_col61\" class=\"data row1 col61\" >3</td>\n",
       "                        <td id=\"T_2cb03b32_fa7f_11e9_bf16_acde48001122row1_col62\" class=\"data row1 col62\" >4</td>\n",
       "                        <td id=\"T_2cb03b32_fa7f_11e9_bf16_acde48001122row1_col63\" class=\"data row1 col63\" >3</td>\n",
       "                        <td id=\"T_2cb03b32_fa7f_11e9_bf16_acde48001122row1_col64\" class=\"data row1 col64\" >4</td>\n",
       "                        <td id=\"T_2cb03b32_fa7f_11e9_bf16_acde48001122row1_col65\" class=\"data row1 col65\" >8</td>\n",
       "                        <td id=\"T_2cb03b32_fa7f_11e9_bf16_acde48001122row1_col66\" class=\"data row1 col66\" >9</td>\n",
       "                        <td id=\"T_2cb03b32_fa7f_11e9_bf16_acde48001122row1_col67\" class=\"data row1 col67\" >7</td>\n",
       "                        <td id=\"T_2cb03b32_fa7f_11e9_bf16_acde48001122row1_col68\" class=\"data row1 col68\" >4</td>\n",
       "                        <td id=\"T_2cb03b32_fa7f_11e9_bf16_acde48001122row1_col69\" class=\"data row1 col69\" >8</td>\n",
       "                        <td id=\"T_2cb03b32_fa7f_11e9_bf16_acde48001122row1_col70\" class=\"data row1 col70\" >4</td>\n",
       "                        <td id=\"T_2cb03b32_fa7f_11e9_bf16_acde48001122row1_col71\" class=\"data row1 col71\" >3</td>\n",
       "                        <td id=\"T_2cb03b32_fa7f_11e9_bf16_acde48001122row1_col72\" class=\"data row1 col72\" >1297</td>\n",
       "            </tr>\n",
       "            <tr>\n",
       "                        <th id=\"T_2cb03b32_fa7f_11e9_bf16_acde48001122level0_row2\" class=\"row_heading level0 row2\" >All</th>\n",
       "                        <td id=\"T_2cb03b32_fa7f_11e9_bf16_acde48001122row2_col0\" class=\"data row2 col0\" >413</td>\n",
       "                        <td id=\"T_2cb03b32_fa7f_11e9_bf16_acde48001122row2_col1\" class=\"data row2 col1\" >178</td>\n",
       "                        <td id=\"T_2cb03b32_fa7f_11e9_bf16_acde48001122row2_col2\" class=\"data row2 col2\" >137</td>\n",
       "                        <td id=\"T_2cb03b32_fa7f_11e9_bf16_acde48001122row2_col3\" class=\"data row2 col3\" >129</td>\n",
       "                        <td id=\"T_2cb03b32_fa7f_11e9_bf16_acde48001122row2_col4\" class=\"data row2 col4\" >91</td>\n",
       "                        <td id=\"T_2cb03b32_fa7f_11e9_bf16_acde48001122row2_col5\" class=\"data row2 col5\" >69</td>\n",
       "                        <td id=\"T_2cb03b32_fa7f_11e9_bf16_acde48001122row2_col6\" class=\"data row2 col6\" >89</td>\n",
       "                        <td id=\"T_2cb03b32_fa7f_11e9_bf16_acde48001122row2_col7\" class=\"data row2 col7\" >94</td>\n",
       "                        <td id=\"T_2cb03b32_fa7f_11e9_bf16_acde48001122row2_col8\" class=\"data row2 col8\" >74</td>\n",
       "                        <td id=\"T_2cb03b32_fa7f_11e9_bf16_acde48001122row2_col9\" class=\"data row2 col9\" >83</td>\n",
       "                        <td id=\"T_2cb03b32_fa7f_11e9_bf16_acde48001122row2_col10\" class=\"data row2 col10\" >71</td>\n",
       "                        <td id=\"T_2cb03b32_fa7f_11e9_bf16_acde48001122row2_col11\" class=\"data row2 col11\" >85</td>\n",
       "                        <td id=\"T_2cb03b32_fa7f_11e9_bf16_acde48001122row2_col12\" class=\"data row2 col12\" >71</td>\n",
       "                        <td id=\"T_2cb03b32_fa7f_11e9_bf16_acde48001122row2_col13\" class=\"data row2 col13\" >51</td>\n",
       "                        <td id=\"T_2cb03b32_fa7f_11e9_bf16_acde48001122row2_col14\" class=\"data row2 col14\" >69</td>\n",
       "                        <td id=\"T_2cb03b32_fa7f_11e9_bf16_acde48001122row2_col15\" class=\"data row2 col15\" >49</td>\n",
       "                        <td id=\"T_2cb03b32_fa7f_11e9_bf16_acde48001122row2_col16\" class=\"data row2 col16\" >59</td>\n",
       "                        <td id=\"T_2cb03b32_fa7f_11e9_bf16_acde48001122row2_col17\" class=\"data row2 col17\" >57</td>\n",
       "                        <td id=\"T_2cb03b32_fa7f_11e9_bf16_acde48001122row2_col18\" class=\"data row2 col18\" >48</td>\n",
       "                        <td id=\"T_2cb03b32_fa7f_11e9_bf16_acde48001122row2_col19\" class=\"data row2 col19\" >51</td>\n",
       "                        <td id=\"T_2cb03b32_fa7f_11e9_bf16_acde48001122row2_col20\" class=\"data row2 col20\" >44</td>\n",
       "                        <td id=\"T_2cb03b32_fa7f_11e9_bf16_acde48001122row2_col21\" class=\"data row2 col21\" >64</td>\n",
       "                        <td id=\"T_2cb03b32_fa7f_11e9_bf16_acde48001122row2_col22\" class=\"data row2 col22\" >56</td>\n",
       "                        <td id=\"T_2cb03b32_fa7f_11e9_bf16_acde48001122row2_col23\" class=\"data row2 col23\" >62</td>\n",
       "                        <td id=\"T_2cb03b32_fa7f_11e9_bf16_acde48001122row2_col24\" class=\"data row2 col24\" >64</td>\n",
       "                        <td id=\"T_2cb03b32_fa7f_11e9_bf16_acde48001122row2_col25\" class=\"data row2 col25\" >59</td>\n",
       "                        <td id=\"T_2cb03b32_fa7f_11e9_bf16_acde48001122row2_col26\" class=\"data row2 col26\" >49</td>\n",
       "                        <td id=\"T_2cb03b32_fa7f_11e9_bf16_acde48001122row2_col27\" class=\"data row2 col27\" >37</td>\n",
       "                        <td id=\"T_2cb03b32_fa7f_11e9_bf16_acde48001122row2_col28\" class=\"data row2 col28\" >56</td>\n",
       "                        <td id=\"T_2cb03b32_fa7f_11e9_bf16_acde48001122row2_col29\" class=\"data row2 col29\" >59</td>\n",
       "                        <td id=\"T_2cb03b32_fa7f_11e9_bf16_acde48001122row2_col30\" class=\"data row2 col30\" >48</td>\n",
       "                        <td id=\"T_2cb03b32_fa7f_11e9_bf16_acde48001122row2_col31\" class=\"data row2 col31\" >46</td>\n",
       "                        <td id=\"T_2cb03b32_fa7f_11e9_bf16_acde48001122row2_col32\" class=\"data row2 col32\" >48</td>\n",
       "                        <td id=\"T_2cb03b32_fa7f_11e9_bf16_acde48001122row2_col33\" class=\"data row2 col33\" >46</td>\n",
       "                        <td id=\"T_2cb03b32_fa7f_11e9_bf16_acde48001122row2_col34\" class=\"data row2 col34\" >71</td>\n",
       "                        <td id=\"T_2cb03b32_fa7f_11e9_bf16_acde48001122row2_col35\" class=\"data row2 col35\" >32</td>\n",
       "                        <td id=\"T_2cb03b32_fa7f_11e9_bf16_acde48001122row2_col36\" class=\"data row2 col36\" >46</td>\n",
       "                        <td id=\"T_2cb03b32_fa7f_11e9_bf16_acde48001122row2_col37\" class=\"data row2 col37\" >43</td>\n",
       "                        <td id=\"T_2cb03b32_fa7f_11e9_bf16_acde48001122row2_col38\" class=\"data row2 col38\" >32</td>\n",
       "                        <td id=\"T_2cb03b32_fa7f_11e9_bf16_acde48001122row2_col39\" class=\"data row2 col39\" >49</td>\n",
       "                        <td id=\"T_2cb03b32_fa7f_11e9_bf16_acde48001122row2_col40\" class=\"data row2 col40\" >51</td>\n",
       "                        <td id=\"T_2cb03b32_fa7f_11e9_bf16_acde48001122row2_col41\" class=\"data row2 col41\" >46</td>\n",
       "                        <td id=\"T_2cb03b32_fa7f_11e9_bf16_acde48001122row2_col42\" class=\"data row2 col42\" >45</td>\n",
       "                        <td id=\"T_2cb03b32_fa7f_11e9_bf16_acde48001122row2_col43\" class=\"data row2 col43\" >33</td>\n",
       "                        <td id=\"T_2cb03b32_fa7f_11e9_bf16_acde48001122row2_col44\" class=\"data row2 col44\" >47</td>\n",
       "                        <td id=\"T_2cb03b32_fa7f_11e9_bf16_acde48001122row2_col45\" class=\"data row2 col45\" >52</td>\n",
       "                        <td id=\"T_2cb03b32_fa7f_11e9_bf16_acde48001122row2_col46\" class=\"data row2 col46\" >50</td>\n",
       "                        <td id=\"T_2cb03b32_fa7f_11e9_bf16_acde48001122row2_col47\" class=\"data row2 col47\" >51</td>\n",
       "                        <td id=\"T_2cb03b32_fa7f_11e9_bf16_acde48001122row2_col48\" class=\"data row2 col48\" >51</td>\n",
       "                        <td id=\"T_2cb03b32_fa7f_11e9_bf16_acde48001122row2_col49\" class=\"data row2 col49\" >50</td>\n",
       "                        <td id=\"T_2cb03b32_fa7f_11e9_bf16_acde48001122row2_col50\" class=\"data row2 col50\" >48</td>\n",
       "                        <td id=\"T_2cb03b32_fa7f_11e9_bf16_acde48001122row2_col51\" class=\"data row2 col51\" >60</td>\n",
       "                        <td id=\"T_2cb03b32_fa7f_11e9_bf16_acde48001122row2_col52\" class=\"data row2 col52\" >51</td>\n",
       "                        <td id=\"T_2cb03b32_fa7f_11e9_bf16_acde48001122row2_col53\" class=\"data row2 col53\" >51</td>\n",
       "                        <td id=\"T_2cb03b32_fa7f_11e9_bf16_acde48001122row2_col54\" class=\"data row2 col54\" >43</td>\n",
       "                        <td id=\"T_2cb03b32_fa7f_11e9_bf16_acde48001122row2_col55\" class=\"data row2 col55\" >56</td>\n",
       "                        <td id=\"T_2cb03b32_fa7f_11e9_bf16_acde48001122row2_col56\" class=\"data row2 col56\" >44</td>\n",
       "                        <td id=\"T_2cb03b32_fa7f_11e9_bf16_acde48001122row2_col57\" class=\"data row2 col57\" >52</td>\n",
       "                        <td id=\"T_2cb03b32_fa7f_11e9_bf16_acde48001122row2_col58\" class=\"data row2 col58\" >41</td>\n",
       "                        <td id=\"T_2cb03b32_fa7f_11e9_bf16_acde48001122row2_col59\" class=\"data row2 col59\" >52</td>\n",
       "                        <td id=\"T_2cb03b32_fa7f_11e9_bf16_acde48001122row2_col60\" class=\"data row2 col60\" >50</td>\n",
       "                        <td id=\"T_2cb03b32_fa7f_11e9_bf16_acde48001122row2_col61\" class=\"data row2 col61\" >51</td>\n",
       "                        <td id=\"T_2cb03b32_fa7f_11e9_bf16_acde48001122row2_col62\" class=\"data row2 col62\" >42</td>\n",
       "                        <td id=\"T_2cb03b32_fa7f_11e9_bf16_acde48001122row2_col63\" class=\"data row2 col63\" >53</td>\n",
       "                        <td id=\"T_2cb03b32_fa7f_11e9_bf16_acde48001122row2_col64\" class=\"data row2 col64\" >46</td>\n",
       "                        <td id=\"T_2cb03b32_fa7f_11e9_bf16_acde48001122row2_col65\" class=\"data row2 col65\" >60</td>\n",
       "                        <td id=\"T_2cb03b32_fa7f_11e9_bf16_acde48001122row2_col66\" class=\"data row2 col66\" >71</td>\n",
       "                        <td id=\"T_2cb03b32_fa7f_11e9_bf16_acde48001122row2_col67\" class=\"data row2 col67\" >71</td>\n",
       "                        <td id=\"T_2cb03b32_fa7f_11e9_bf16_acde48001122row2_col68\" class=\"data row2 col68\" >68</td>\n",
       "                        <td id=\"T_2cb03b32_fa7f_11e9_bf16_acde48001122row2_col69\" class=\"data row2 col69\" >84</td>\n",
       "                        <td id=\"T_2cb03b32_fa7f_11e9_bf16_acde48001122row2_col70\" class=\"data row2 col70\" >120</td>\n",
       "                        <td id=\"T_2cb03b32_fa7f_11e9_bf16_acde48001122row2_col71\" class=\"data row2 col71\" >253</td>\n",
       "                        <td id=\"T_2cb03b32_fa7f_11e9_bf16_acde48001122row2_col72\" class=\"data row2 col72\" >4922</td>\n",
       "            </tr>\n",
       "    </tbody></table>"
      ],
      "text/plain": [
       "<pandas.io.formats.style.Styler at 0x1c22500080>"
      ]
     },
     "execution_count": 38,
     "metadata": {},
     "output_type": "execute_result"
    }
   ],
   "source": [
    "pd.crosstab(y.churn, X.tenure, margins=True).style.background_gradient(cmap='YlOrRd')"
   ]
  },
  {
   "cell_type": "code",
   "execution_count": 43,
   "metadata": {
    "scrolled": true
   },
   "outputs": [
    {
     "data": {
      "text/plain": [
       "<matplotlib.axes._subplots.AxesSubplot at 0x1c2376b2e8>"
      ]
     },
     "execution_count": 43,
     "metadata": {},
     "output_type": "execute_result"
    },
    {
     "data": {
      "image/png": "[encoded data removed]",
      "text/plain": [
       "<Figure size 720x432 with 1 Axes>"
      ]
     },
     "metadata": {
      "needs_background": "light"
     },
     "output_type": "display_data"
    }
   ],
   "source": [
    "plt.figure(figsize=(10,6))\n",
    "sns.lineplot(x='tenure', y='churn', data=train_encode)"
   ]
  },
  {
   "cell_type": "markdown",
   "metadata": {},
   "source": [
    "Takeaway: The longer a customer's tenure, the less likely they churn. This is probably due to different contract types. I will now look into this to get a better sense of contract type compared to churn rate."
   ]
  },
  {
   "cell_type": "markdown",
   "metadata": {},
   "source": [
    "#### Question 2: If a cohort(s) is identified by tenure, is there a cohort who has a higher rate of churn than others?"
   ]
  },
  {
   "cell_type": "code",
   "execution_count": 40,
   "metadata": {},
   "outputs": [
    {
     "data": {
      "text/plain": [
       "<seaborn.axisgrid.FacetGrid at 0x1c22160e10>"
      ]
     },
     "execution_count": 40,
     "metadata": {},
     "output_type": "execute_result"
    },
    {
     "data": {
      "image/png": "[encoded data removed]",
      "text/plain": [
       "<Figure size 424.75x360 with 1 Axes>"
      ]
     },
     "metadata": {
      "needs_background": "light"
     },
     "output_type": "display_data"
    }
   ],
   "source": [
    "sns.relplot(x='tenure', y='total_charges', hue='churn', data=train_encode, alpha=.25)"
   ]
  },
  {
   "cell_type": "markdown",
   "metadata": {},
   "source": [
    "Takeaway: You can see from this chart that more people tend to churn when their tenure is less than those with a larger tenure. This can be due to many different variables. I will look at more features independently to see if there is a correlation for those who have churned."
   ]
  },
  {
   "cell_type": "code",
   "execution_count": 41,
   "metadata": {},
   "outputs": [
    {
     "data": {
      "image/png": "[encoded data removed]",
      "text/plain": [
       "<Figure size 1152x360 with 2 Axes>"
      ]
     },
     "metadata": {
      "needs_background": "light"
     },
     "output_type": "display_data"
    }
   ],
   "source": [
    "features = ['dependents', 'partner']\n",
    "\n",
    "_, ax = plt.subplots(nrows=1, ncols=2, figsize=(16,5))\n",
    "\n",
    "churn_rate = train_encode.churn.mean()\n",
    "\n",
    "for i, feature in enumerate(features):\n",
    "    sns.barplot(feature, 'churn', data=train_encode, ax=ax[i], alpha=.5)\n",
    "    ax[i].set_ylabel('Churn Rate')\n",
    "    ax[i].axhline(churn_rate, ls='--', color='grey')"
   ]
  },
  {
   "cell_type": "code",
   "execution_count": null,
   "metadata": {},
   "outputs": [],
   "source": []
  },
  {
   "cell_type": "markdown",
   "metadata": {},
   "source": [
    "Melt these columns, partner and dependents, into one column, since they are extremely similar."
   ]
  },
  {
   "cell_type": "markdown",
   "metadata": {},
   "source": [
    "#### Question 3: Are there features that indicate a higher rate of churn?"
   ]
  },
  {
   "cell_type": "markdown",
   "metadata": {},
   "source": [
    "#### Question 4: Is there a price threshhold for specific services where likihood of churn increase once customers get past that point? What is that price point and for what services?"
   ]
  },
  {
   "cell_type": "markdown",
   "metadata": {},
   "source": [
    "#### Question 5: Are the rates comparable for customers who have month-to-month contracts ath their 12-month mark vs. the customers who have a 1-year contract at their 12-month mark?"
   ]
  },
  {
   "cell_type": "markdown",
   "metadata": {},
   "source": [
    "## MVP Model: Logistic Regression"
   ]
  },
  {
   "cell_type": "markdown",
   "metadata": {},
   "source": [
    "- Use SelectKBest to select the best features to use in my model to predict churn."
   ]
  },
  {
   "cell_type": "code",
   "execution_count": 42,
   "metadata": {},
   "outputs": [
    {
     "name": "stdout",
     "output_type": "stream",
     "text": [
      "4 selected features\n",
      "['contract_type_id', 'tenure', 'online_security', 'tech_support']\n"
     ]
    }
   ],
   "source": [
    "f_selector = SelectKBest(f_regression, k=4)\n",
    "\n",
    "f_selector.fit(X, y)\n",
    "\n",
    "f_support = f_selector.get_support()\n",
    "f_feature = X.loc[:,f_support].columns.tolist()\n",
    "\n",
    "print(str(len(f_feature)), 'selected features')\n",
    "print(f_feature)"
   ]
  },
  {
   "cell_type": "code",
   "execution_count": 47,
   "metadata": {},
   "outputs": [],
   "source": [
    "X_kbest = train_encode[['contract_type_id', 'tenure', 'online_security', 'tech_support']]\n",
    "y_kbest = train_encode[['churn']]"
   ]
  },
  {
   "cell_type": "code",
   "execution_count": 57,
   "metadata": {},
   "outputs": [
    {
     "data": {
      "text/plain": [
       "DecisionTreeClassifier(class_weight=None, criterion='entropy', max_depth=3,\n",
       "                       max_features=None, max_leaf_nodes=None,\n",
       "                       min_impurity_decrease=0.0, min_impurity_split=None,\n",
       "                       min_samples_leaf=1, min_samples_split=2,\n",
       "                       min_weight_fraction_leaf=0.0, presort=False,\n",
       "                       random_state=123, splitter='best')"
      ]
     },
     "execution_count": 57,
     "metadata": {},
     "output_type": "execute_result"
    }
   ],
   "source": [
    "clf = DecisionTreeClassifier(criterion='entropy', max_depth=3, random_state=123)\n",
    "clf.fit(X_kbest, y_kbest)"
   ]
  },
  {
   "cell_type": "code",
   "execution_count": 58,
   "metadata": {},
   "outputs": [
    {
     "data": {
      "text/plain": [
       "array([0, 0, 0, ..., 0, 0, 0])"
      ]
     },
     "execution_count": 58,
     "metadata": {},
     "output_type": "execute_result"
    }
   ],
   "source": [
    "y_pred = clf.predict(X_kbest)\n",
    "y_pred"
   ]
  },
  {
   "cell_type": "code",
   "execution_count": 59,
   "metadata": {},
   "outputs": [
    {
     "data": {
      "text/plain": [
       "array([[0.67567568, 0.32432432],\n",
       "       [0.81422925, 0.18577075],\n",
       "       [0.92319749, 0.07680251],\n",
       "       ...,\n",
       "       [0.92319749, 0.07680251],\n",
       "       [0.67567568, 0.32432432],\n",
       "       [0.59392265, 0.40607735]])"
      ]
     },
     "execution_count": 59,
     "metadata": {},
     "output_type": "execute_result"
    }
   ],
   "source": [
    "y_pred_proba = clf.predict_proba(X_kbest)\n",
    "y_pred_proba"
   ]
  },
  {
   "cell_type": "markdown",
   "metadata": {},
   "source": [
    "Evaluate the model"
   ]
  },
  {
   "cell_type": "code",
   "execution_count": 60,
   "metadata": {},
   "outputs": [
    {
     "data": {
      "text/plain": [
       "'0.785453067858594'"
      ]
     },
     "execution_count": 60,
     "metadata": {},
     "output_type": "execute_result"
    }
   ],
   "source": [
    "format(clf.score(X_kbest, y_kbest))"
   ]
  },
  {
   "cell_type": "code",
   "execution_count": 61,
   "metadata": {},
   "outputs": [
    {
     "name": "stdout",
     "output_type": "stream",
     "text": [
      "              precision    recall  f1-score   support\n",
      "\n",
      "           0       0.81      0.93      0.86      3625\n",
      "           1       0.67      0.37      0.48      1297\n",
      "\n",
      "    accuracy                           0.79      4922\n",
      "   macro avg       0.74      0.65      0.67      4922\n",
      "weighted avg       0.77      0.79      0.76      4922\n",
      "\n"
     ]
    }
   ],
   "source": [
    "print(classification_report(y_kbest, y_pred))"
   ]
  },
  {
   "cell_type": "code",
   "execution_count": 64,
   "metadata": {},
   "outputs": [],
   "source": [
    "rf = RandomForestClassifier(bootstrap=True, \n",
    "                            class_weight=None, \n",
    "                            criterion='gini',\n",
    "                            min_samples_leaf=3,\n",
    "                            n_estimators=10,\n",
    "                            max_depth=3, \n",
    "                            random_state=123)"
   ]
  },
  {
   "cell_type": "code",
   "execution_count": 65,
   "metadata": {},
   "outputs": [
    {
     "data": {
      "text/plain": [
       "RandomForestClassifier(bootstrap=True, class_weight=None, criterion='gini',\n",
       "                       max_depth=3, max_features='auto', max_leaf_nodes=None,\n",
       "                       min_impurity_decrease=0.0, min_impurity_split=None,\n",
       "                       min_samples_leaf=3, min_samples_split=2,\n",
       "                       min_weight_fraction_leaf=0.0, n_estimators=10,\n",
       "                       n_jobs=None, oob_score=False, random_state=123,\n",
       "                       verbose=0, warm_start=False)"
      ]
     },
     "execution_count": 65,
     "metadata": {},
     "output_type": "execute_result"
    }
   ],
   "source": [
    "rf.fit(X_kbest, y_kbest)"
   ]
  },
  {
   "cell_type": "code",
   "execution_count": 66,
   "metadata": {},
   "outputs": [
    {
     "name": "stdout",
     "output_type": "stream",
     "text": [
      "[0.47536214 0.11818429 0.20330859 0.20314498]\n"
     ]
    }
   ],
   "source": [
    "print(rf.feature_importances_)"
   ]
  },
  {
   "cell_type": "code",
   "execution_count": 68,
   "metadata": {},
   "outputs": [
    {
     "data": {
      "text/plain": [
       "array([0, 0, 0, ..., 0, 0, 0])"
      ]
     },
     "execution_count": 68,
     "metadata": {},
     "output_type": "execute_result"
    }
   ],
   "source": [
    "y_pred = rf.predict(X_kbest)\n",
    "y_pred"
   ]
  },
  {
   "cell_type": "code",
   "execution_count": 70,
   "metadata": {},
   "outputs": [
    {
     "data": {
      "text/plain": [
       "array([[0.62616318, 0.37383682],\n",
       "       [0.77823657, 0.22176343],\n",
       "       [0.89945484, 0.10054516],\n",
       "       ...,\n",
       "       [0.91651023, 0.08348977],\n",
       "       [0.71329247, 0.28670753],\n",
       "       [0.53491407, 0.46508593]])"
      ]
     },
     "execution_count": 70,
     "metadata": {},
     "output_type": "execute_result"
    }
   ],
   "source": [
    "y_pred_proba = rf.predict_proba(X_kbest)\n",
    "y_pred_proba"
   ]
  },
  {
   "cell_type": "code",
   "execution_count": 71,
   "metadata": {},
   "outputs": [
    {
     "data": {
      "text/plain": [
       "'0.7838277123120683'"
      ]
     },
     "execution_count": 71,
     "metadata": {},
     "output_type": "execute_result"
    }
   ],
   "source": [
    "format(rf.score(X_kbest, y_kbest))"
   ]
  },
  {
   "cell_type": "code",
   "execution_count": 72,
   "metadata": {},
   "outputs": [
    {
     "name": "stdout",
     "output_type": "stream",
     "text": [
      "              precision    recall  f1-score   support\n",
      "\n",
      "           0       0.80      0.95      0.87      3625\n",
      "           1       0.70      0.32      0.44      1297\n",
      "\n",
      "    accuracy                           0.78      4922\n",
      "   macro avg       0.75      0.63      0.65      4922\n",
      "weighted avg       0.77      0.78      0.75      4922\n",
      "\n"
     ]
    }
   ],
   "source": [
    "print(classification_report(y_kbest, y_pred))"
   ]
  },
  {
   "cell_type": "code",
   "execution_count": null,
   "metadata": {},
   "outputs": [],
   "source": []
  }
 ],
 "metadata": {
  "kernelspec": {
   "display_name": "Python 3",
   "language": "python",
   "name": "python3"
  },
  "language_info": {
   "codemirror_mode": {
    "name": "ipython",
    "version": 3
   },
   "file_extension": ".py",
   "mimetype": "text/x-python",
   "name": "python",
   "nbconvert_exporter": "python",
   "pygments_lexer": "ipython3",
   "version": "3.7.3"
  }
 },
 "nbformat": 4,
 "nbformat_minor": 2
}

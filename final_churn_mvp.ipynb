{
 "cells": [
  {
   "cell_type": "markdown",
   "metadata": {},
   "source": [
    "# Telco Churn Predictions"
   ]
  },
  {
   "cell_type": "markdown",
   "metadata": {},
   "source": [
    "## Question: Why are customers churning? "
   ]
  },
  {
   "cell_type": "markdown",
   "metadata": {},
   "source": [
    "### Goals: Predict which customers are going to churn and what features are causing churn.\n",
    "(Baseline of 60% churn***)"
   ]
  },
  {
   "cell_type": "markdown",
   "metadata": {},
   "source": [
    "### Data Dictionary\n",
    "(Alphabetical Order)\n",
    "\n",
    "**Churn:** whether or not a customer has defected; represented as 0 == churn, 1 == not churned \n",
    "\n",
    "**Contract Type:** type of contract a person has, represented as month-to-month, one year, two year. I will drop this column in the prepare stage since it is a duplicate of contract type id. I brought it in originally with the data in order to explore the entire dataset. \n",
    "\n",
    "**Contract Type ID:** type of contract a customer has; represented as 1 == month-to-month, 2 == 1 year, 3 == 2 year\n",
    "\n",
    "**Customer ID:** unique identifier for each customer, represented with 10 characters\n",
    "\n",
    "**Dependents:** whether a customer has any dependents or not, represented as 0 == no dependents, 1 == dependents. I dropped this column because I combined it with partner to create 'family' column. \n",
    "\n",
    "**Family:** single column combined from dependents and partner columns, represented as 0 == does not have family member, 1 == has family member\n",
    "\n",
    "**Gender:** whether a customer is male or female, represented as 0 == male, 1 == female\n",
    "\n",
    "**Internet Service Type:** type of internet service a person has, represented as DSL, Fiber Optic, None. I will drop this column in the prepare stage since it is a duplicate of internet service type id. I brought it in originally with the data in order to explore the entire dataset.\n",
    "\n",
    "**Internet Service Type ID:** type of internet service a customer has, represented as 1 == DSL, 2 == Fiber Optic, 3 == None\n",
    "\n",
    "**Monthly Charges:** amount of charges per month\n",
    "\n",
    "**Paperless Billing:** whether a customer has paperless billing or not, represented as 0 == inactive paperless billing, 1 == active paperless billing\n",
    "\n",
    "**Partner:** whether a customer has a partner or not, represented as 0 == no partner, 1 == has partner. I dropped this column to combine with dependents to create 'family' and condense the dataframe. \n",
    "\n",
    "**Payment Type:** type of payment setup for a customer represented as Electronic Check, Mail Check, Bank Transfer (auto), Credit Card (auto). I will drop this column because it is a duplicate of payment type id. I brought it in originally with the data in order to explore the entire dataset.\n",
    "\n",
    "**Payment Type ID:** type of payment setup for a customer represented as 1 == Electronic Check, 2 == Mail Check, 3 == Bank Transfer (auto), 4 == Credit Card (auto)\n",
    "\n",
    "**Phone Service:** whether a customer has phone service or not, represented as 0 == no phone service, 1 == has phone service \n",
    "\n",
    "**Senior Citizen:** whether a customer is a senior or not, represented as 0 == not a senior citizen, 1 == senior citizen\n",
    "\n",
    "**Streaming Movies:** whether a customer has streaming movies service or not, represented as 0 == not having movie streaming services, 1 == having movie streaming services. I dropped this column to create streaming service column from this column and streaming tv column.\n",
    "\n",
    "**Streaming Services:** whether a customer has a streaming service, represented as 0 == does not have a streaming service, 1 == has a streaming service.\n",
    "\n",
    "**Streaming TV:** whether a customer has streaming tv service or not, represented as 0 == not having tv streaming services, 1 == has tv streaming services. I dropped this column to create streaming service column from this column and streaming movies column.\n",
    "\n",
    "**Tech Supoort:**  whether a customer has tech support or not, represented as 0 == not having tech support, 1 == has tech support\n",
    "\n",
    "**Tenure:** number of months a customer was/or continues to be a customer\n",
    "\n",
    "**Total Charges:** amount of charges over full tenure as customer"
   ]
  },
  {
   "cell_type": "markdown",
   "metadata": {},
   "source": [
    "### Imports\n",
    "Import the necessary libraries needed to create predictive models."
   ]
  },
  {
   "cell_type": "code",
   "execution_count": 1,
   "metadata": {},
   "outputs": [],
   "source": [
    "import warnings\n",
    "warnings.filterwarnings('ignore')\n",
    "import pandas as pd\n",
    "import numpy as np\n",
    "import matplotlib.pyplot as plt\n",
    "%matplotlib inline\n",
    "import seaborn as sns\n",
    "\n",
    "from sklearn.model_selection import train_test_split\n",
    "from sklearn.linear_model import LogisticRegression\n",
    "from sklearn.tree import DecisionTreeClassifier\n",
    "from sklearn.tree import export_graphviz\n",
    "from sklearn.metrics import classification_report\n",
    "from sklearn.metrics import confusion_matrix\n",
    "from sklearn.impute import SimpleImputer\n",
    "from sklearn.preprocessing import LabelEncoder, OneHotEncoder, MinMaxScaler\n",
    "from sklearn.feature_selection import SelectKBest, f_regression\n",
    "from sklearn.ensemble import RandomForestClassifier\n",
    "\n",
    "from util import get_db_url\n",
    "import acquire\n",
    "import prepare\n",
    "import split_scale\n",
    "import feature_selection"
   ]
  },
  {
   "cell_type": "markdown",
   "metadata": {},
   "source": [
    "- I am bringing in the data using functions I created that bring in a clean, working dataframe.\n",
    "\n",
    "**Task:** Look at the dataframe information, then create a baseline model."
   ]
  },
  {
   "cell_type": "code",
   "execution_count": 2,
   "metadata": {},
   "outputs": [
    {
     "data": {
      "text/html": [
       "<div>\n",
       "<style scoped>\n",
       "    .dataframe tbody tr th:only-of-type {\n",
       "        vertical-align: middle;\n",
       "    }\n",
       "\n",
       "    .dataframe tbody tr th {\n",
       "        vertical-align: top;\n",
       "    }\n",
       "\n",
       "    .dataframe thead th {\n",
       "        text-align: right;\n",
       "    }\n",
       "</style>\n",
       "<table border=\"1\" class=\"dataframe\">\n",
       "  <thead>\n",
       "    <tr style=\"text-align: right;\">\n",
       "      <th></th>\n",
       "      <th>payment_type_id</th>\n",
       "      <th>internet_service_type_id</th>\n",
       "      <th>contract_type_id</th>\n",
       "      <th>customer_id</th>\n",
       "      <th>gender</th>\n",
       "      <th>senior_citizen</th>\n",
       "      <th>tenure</th>\n",
       "      <th>phone_service</th>\n",
       "      <th>multiple_lines</th>\n",
       "      <th>online_security</th>\n",
       "      <th>...</th>\n",
       "      <th>tech_support</th>\n",
       "      <th>paperless_billing</th>\n",
       "      <th>monthly_charges</th>\n",
       "      <th>total_charges</th>\n",
       "      <th>churn</th>\n",
       "      <th>contract_type</th>\n",
       "      <th>internet_service_type</th>\n",
       "      <th>payment_type</th>\n",
       "      <th>family</th>\n",
       "      <th>streaming_services</th>\n",
       "    </tr>\n",
       "  </thead>\n",
       "  <tbody>\n",
       "    <tr>\n",
       "      <th>0</th>\n",
       "      <td>2</td>\n",
       "      <td>1</td>\n",
       "      <td>1</td>\n",
       "      <td>0003-MKNFE</td>\n",
       "      <td>Male</td>\n",
       "      <td>0</td>\n",
       "      <td>9</td>\n",
       "      <td>Yes</td>\n",
       "      <td>Yes</td>\n",
       "      <td>No</td>\n",
       "      <td>...</td>\n",
       "      <td>No</td>\n",
       "      <td>No</td>\n",
       "      <td>59.9</td>\n",
       "      <td>542.40</td>\n",
       "      <td>No</td>\n",
       "      <td>Month-to-month</td>\n",
       "      <td>DSL</td>\n",
       "      <td>Mailed check</td>\n",
       "      <td>False</td>\n",
       "      <td>True</td>\n",
       "    </tr>\n",
       "    <tr>\n",
       "      <th>1</th>\n",
       "      <td>4</td>\n",
       "      <td>1</td>\n",
       "      <td>1</td>\n",
       "      <td>0013-MHZWF</td>\n",
       "      <td>Female</td>\n",
       "      <td>0</td>\n",
       "      <td>9</td>\n",
       "      <td>Yes</td>\n",
       "      <td>No</td>\n",
       "      <td>No</td>\n",
       "      <td>...</td>\n",
       "      <td>Yes</td>\n",
       "      <td>Yes</td>\n",
       "      <td>69.4</td>\n",
       "      <td>571.45</td>\n",
       "      <td>No</td>\n",
       "      <td>Month-to-month</td>\n",
       "      <td>DSL</td>\n",
       "      <td>Credit card (automatic)</td>\n",
       "      <td>True</td>\n",
       "      <td>True</td>\n",
       "    </tr>\n",
       "    <tr>\n",
       "      <th>2</th>\n",
       "      <td>1</td>\n",
       "      <td>1</td>\n",
       "      <td>1</td>\n",
       "      <td>0015-UOCOJ</td>\n",
       "      <td>Female</td>\n",
       "      <td>1</td>\n",
       "      <td>7</td>\n",
       "      <td>Yes</td>\n",
       "      <td>No</td>\n",
       "      <td>Yes</td>\n",
       "      <td>...</td>\n",
       "      <td>No</td>\n",
       "      <td>Yes</td>\n",
       "      <td>48.2</td>\n",
       "      <td>340.35</td>\n",
       "      <td>No</td>\n",
       "      <td>Month-to-month</td>\n",
       "      <td>DSL</td>\n",
       "      <td>Electronic check</td>\n",
       "      <td>False</td>\n",
       "      <td>False</td>\n",
       "    </tr>\n",
       "    <tr>\n",
       "      <th>3</th>\n",
       "      <td>1</td>\n",
       "      <td>1</td>\n",
       "      <td>1</td>\n",
       "      <td>0023-HGHWL</td>\n",
       "      <td>Male</td>\n",
       "      <td>1</td>\n",
       "      <td>1</td>\n",
       "      <td>No</td>\n",
       "      <td>No phone service</td>\n",
       "      <td>No</td>\n",
       "      <td>...</td>\n",
       "      <td>No</td>\n",
       "      <td>Yes</td>\n",
       "      <td>25.1</td>\n",
       "      <td>25.10</td>\n",
       "      <td>Yes</td>\n",
       "      <td>Month-to-month</td>\n",
       "      <td>DSL</td>\n",
       "      <td>Electronic check</td>\n",
       "      <td>False</td>\n",
       "      <td>False</td>\n",
       "    </tr>\n",
       "    <tr>\n",
       "      <th>4</th>\n",
       "      <td>3</td>\n",
       "      <td>1</td>\n",
       "      <td>1</td>\n",
       "      <td>0032-PGELS</td>\n",
       "      <td>Female</td>\n",
       "      <td>0</td>\n",
       "      <td>1</td>\n",
       "      <td>No</td>\n",
       "      <td>No phone service</td>\n",
       "      <td>Yes</td>\n",
       "      <td>...</td>\n",
       "      <td>No</td>\n",
       "      <td>No</td>\n",
       "      <td>30.5</td>\n",
       "      <td>30.50</td>\n",
       "      <td>Yes</td>\n",
       "      <td>Month-to-month</td>\n",
       "      <td>DSL</td>\n",
       "      <td>Bank transfer (automatic)</td>\n",
       "      <td>True</td>\n",
       "      <td>False</td>\n",
       "    </tr>\n",
       "  </tbody>\n",
       "</table>\n",
       "<p>5 rows × 22 columns</p>\n",
       "</div>"
      ],
      "text/plain": [
       "   payment_type_id  internet_service_type_id  contract_type_id customer_id  \\\n",
       "0                2                         1                 1  0003-MKNFE   \n",
       "1                4                         1                 1  0013-MHZWF   \n",
       "2                1                         1                 1  0015-UOCOJ   \n",
       "3                1                         1                 1  0023-HGHWL   \n",
       "4                3                         1                 1  0032-PGELS   \n",
       "\n",
       "   gender  senior_citizen  tenure phone_service    multiple_lines  \\\n",
       "0    Male               0       9           Yes               Yes   \n",
       "1  Female               0       9           Yes                No   \n",
       "2  Female               1       7           Yes                No   \n",
       "3    Male               1       1            No  No phone service   \n",
       "4  Female               0       1            No  No phone service   \n",
       "\n",
       "  online_security  ... tech_support paperless_billing monthly_charges  \\\n",
       "0              No  ...           No                No            59.9   \n",
       "1              No  ...          Yes               Yes            69.4   \n",
       "2             Yes  ...           No               Yes            48.2   \n",
       "3              No  ...           No               Yes            25.1   \n",
       "4             Yes  ...           No                No            30.5   \n",
       "\n",
       "  total_charges  churn   contract_type internet_service_type  \\\n",
       "0        542.40     No  Month-to-month                   DSL   \n",
       "1        571.45     No  Month-to-month                   DSL   \n",
       "2        340.35     No  Month-to-month                   DSL   \n",
       "3         25.10    Yes  Month-to-month                   DSL   \n",
       "4         30.50    Yes  Month-to-month                   DSL   \n",
       "\n",
       "                payment_type family streaming_services  \n",
       "0               Mailed check  False               True  \n",
       "1    Credit card (automatic)   True               True  \n",
       "2           Electronic check  False              False  \n",
       "3           Electronic check  False              False  \n",
       "4  Bank transfer (automatic)   True              False  \n",
       "\n",
       "[5 rows x 22 columns]"
      ]
     },
     "execution_count": 2,
     "metadata": {},
     "output_type": "execute_result"
    }
   ],
   "source": [
    "df = acquire.acquire_telco()\n",
    "df.head()"
   ]
  },
  {
   "cell_type": "code",
   "execution_count": 3,
   "metadata": {},
   "outputs": [
    {
     "data": {
      "text/plain": [
       "(7032, 22)"
      ]
     },
     "execution_count": 3,
     "metadata": {},
     "output_type": "execute_result"
    }
   ],
   "source": [
    "df.shape"
   ]
  },
  {
   "cell_type": "code",
   "execution_count": 4,
   "metadata": {},
   "outputs": [
    {
     "name": "stdout",
     "output_type": "stream",
     "text": [
      "<class 'pandas.core.frame.DataFrame'>\n",
      "Int64Index: 7032 entries, 0 to 7042\n",
      "Data columns (total 22 columns):\n",
      "payment_type_id             7032 non-null int64\n",
      "internet_service_type_id    7032 non-null int64\n",
      "contract_type_id            7032 non-null int64\n",
      "customer_id                 7032 non-null object\n",
      "gender                      7032 non-null object\n",
      "senior_citizen              7032 non-null int64\n",
      "tenure                      7032 non-null int64\n",
      "phone_service               7032 non-null object\n",
      "multiple_lines              7032 non-null object\n",
      "online_security             7032 non-null object\n",
      "online_backup               7032 non-null object\n",
      "device_protection           7032 non-null object\n",
      "tech_support                7032 non-null object\n",
      "paperless_billing           7032 non-null object\n",
      "monthly_charges             7032 non-null float64\n",
      "total_charges               7032 non-null float64\n",
      "churn                       7032 non-null object\n",
      "contract_type               7032 non-null object\n",
      "internet_service_type       7032 non-null object\n",
      "payment_type                7032 non-null object\n",
      "family                      7032 non-null bool\n",
      "streaming_services          7032 non-null bool\n",
      "dtypes: bool(2), float64(2), int64(5), object(13)\n",
      "memory usage: 1.1+ MB\n"
     ]
    }
   ],
   "source": [
    "df.info()"
   ]
  },
  {
   "cell_type": "code",
   "execution_count": 5,
   "metadata": {},
   "outputs": [
    {
     "data": {
      "text/html": [
       "<div>\n",
       "<style scoped>\n",
       "    .dataframe tbody tr th:only-of-type {\n",
       "        vertical-align: middle;\n",
       "    }\n",
       "\n",
       "    .dataframe tbody tr th {\n",
       "        vertical-align: top;\n",
       "    }\n",
       "\n",
       "    .dataframe thead th {\n",
       "        text-align: right;\n",
       "    }\n",
       "</style>\n",
       "<table border=\"1\" class=\"dataframe\">\n",
       "  <thead>\n",
       "    <tr style=\"text-align: right;\">\n",
       "      <th></th>\n",
       "      <th>count</th>\n",
       "      <th>mean</th>\n",
       "      <th>std</th>\n",
       "      <th>min</th>\n",
       "      <th>25%</th>\n",
       "      <th>50%</th>\n",
       "      <th>75%</th>\n",
       "      <th>max</th>\n",
       "    </tr>\n",
       "  </thead>\n",
       "  <tbody>\n",
       "    <tr>\n",
       "      <th>payment_type_id</th>\n",
       "      <td>7032.0</td>\n",
       "      <td>2.315557</td>\n",
       "      <td>1.149523</td>\n",
       "      <td>1.00</td>\n",
       "      <td>1.0000</td>\n",
       "      <td>2.000</td>\n",
       "      <td>3.0000</td>\n",
       "      <td>4.00</td>\n",
       "    </tr>\n",
       "    <tr>\n",
       "      <th>internet_service_type_id</th>\n",
       "      <td>7032.0</td>\n",
       "      <td>1.872582</td>\n",
       "      <td>0.737271</td>\n",
       "      <td>1.00</td>\n",
       "      <td>1.0000</td>\n",
       "      <td>2.000</td>\n",
       "      <td>2.0000</td>\n",
       "      <td>3.00</td>\n",
       "    </tr>\n",
       "    <tr>\n",
       "      <th>contract_type_id</th>\n",
       "      <td>7032.0</td>\n",
       "      <td>1.688567</td>\n",
       "      <td>0.832934</td>\n",
       "      <td>1.00</td>\n",
       "      <td>1.0000</td>\n",
       "      <td>1.000</td>\n",
       "      <td>2.0000</td>\n",
       "      <td>3.00</td>\n",
       "    </tr>\n",
       "    <tr>\n",
       "      <th>senior_citizen</th>\n",
       "      <td>7032.0</td>\n",
       "      <td>0.162400</td>\n",
       "      <td>0.368844</td>\n",
       "      <td>0.00</td>\n",
       "      <td>0.0000</td>\n",
       "      <td>0.000</td>\n",
       "      <td>0.0000</td>\n",
       "      <td>1.00</td>\n",
       "    </tr>\n",
       "    <tr>\n",
       "      <th>tenure</th>\n",
       "      <td>7032.0</td>\n",
       "      <td>32.421786</td>\n",
       "      <td>24.545260</td>\n",
       "      <td>1.00</td>\n",
       "      <td>9.0000</td>\n",
       "      <td>29.000</td>\n",
       "      <td>55.0000</td>\n",
       "      <td>72.00</td>\n",
       "    </tr>\n",
       "    <tr>\n",
       "      <th>monthly_charges</th>\n",
       "      <td>7032.0</td>\n",
       "      <td>64.798208</td>\n",
       "      <td>30.085974</td>\n",
       "      <td>18.25</td>\n",
       "      <td>35.5875</td>\n",
       "      <td>70.350</td>\n",
       "      <td>89.8625</td>\n",
       "      <td>118.75</td>\n",
       "    </tr>\n",
       "    <tr>\n",
       "      <th>total_charges</th>\n",
       "      <td>7032.0</td>\n",
       "      <td>2283.300441</td>\n",
       "      <td>2266.771362</td>\n",
       "      <td>18.80</td>\n",
       "      <td>401.4500</td>\n",
       "      <td>1397.475</td>\n",
       "      <td>3794.7375</td>\n",
       "      <td>8684.80</td>\n",
       "    </tr>\n",
       "  </tbody>\n",
       "</table>\n",
       "</div>"
      ],
      "text/plain": [
       "                           count         mean          std    min       25%  \\\n",
       "payment_type_id           7032.0     2.315557     1.149523   1.00    1.0000   \n",
       "internet_service_type_id  7032.0     1.872582     0.737271   1.00    1.0000   \n",
       "contract_type_id          7032.0     1.688567     0.832934   1.00    1.0000   \n",
       "senior_citizen            7032.0     0.162400     0.368844   0.00    0.0000   \n",
       "tenure                    7032.0    32.421786    24.545260   1.00    9.0000   \n",
       "monthly_charges           7032.0    64.798208    30.085974  18.25   35.5875   \n",
       "total_charges             7032.0  2283.300441  2266.771362  18.80  401.4500   \n",
       "\n",
       "                               50%        75%      max  \n",
       "payment_type_id              2.000     3.0000     4.00  \n",
       "internet_service_type_id     2.000     2.0000     3.00  \n",
       "contract_type_id             1.000     2.0000     3.00  \n",
       "senior_citizen               0.000     0.0000     1.00  \n",
       "tenure                      29.000    55.0000    72.00  \n",
       "monthly_charges             70.350    89.8625   118.75  \n",
       "total_charges             1397.475  3794.7375  8684.80  "
      ]
     },
     "execution_count": 5,
     "metadata": {},
     "output_type": "execute_result"
    }
   ],
   "source": [
    "df.describe().T"
   ]
  },
  {
   "cell_type": "markdown",
   "metadata": {},
   "source": [
    "#### Rate of Churn\n",
    "- Calculate the rate of churn thus far in the data for a starting point."
   ]
  },
  {
   "cell_type": "code",
   "execution_count": 47,
   "metadata": {},
   "outputs": [
    {
     "data": {
      "text/html": [
       "<div>\n",
       "<style scoped>\n",
       "    .dataframe tbody tr th:only-of-type {\n",
       "        vertical-align: middle;\n",
       "    }\n",
       "\n",
       "    .dataframe tbody tr th {\n",
       "        vertical-align: top;\n",
       "    }\n",
       "\n",
       "    .dataframe thead th {\n",
       "        text-align: right;\n",
       "    }\n",
       "</style>\n",
       "<table border=\"1\" class=\"dataframe\">\n",
       "  <thead>\n",
       "    <tr style=\"text-align: right;\">\n",
       "      <th></th>\n",
       "      <th>churn</th>\n",
       "    </tr>\n",
       "  </thead>\n",
       "  <tbody>\n",
       "    <tr>\n",
       "      <th>No</th>\n",
       "      <td>5163</td>\n",
       "    </tr>\n",
       "    <tr>\n",
       "      <th>Yes</th>\n",
       "      <td>1869</td>\n",
       "    </tr>\n",
       "  </tbody>\n",
       "</table>\n",
       "</div>"
      ],
      "text/plain": [
       "     churn\n",
       "No    5163\n",
       "Yes   1869"
      ]
     },
     "execution_count": 47,
     "metadata": {},
     "output_type": "execute_result"
    }
   ],
   "source": [
    "churn_rate = df.churn.value_counts()\n",
    "basic_churn_df = pd.DataFrame(churn_rate) \n",
    "basic_churn_df"
   ]
  },
  {
   "cell_type": "code",
   "execution_count": 50,
   "metadata": {},
   "outputs": [
    {
     "name": "stdout",
     "output_type": "stream",
     "text": [
      "0.26578498293515357\n"
     ]
    }
   ],
   "source": [
    "churn_rate_base = 1869/7032\n",
    "print(churn_rate_base)"
   ]
  },
  {
   "cell_type": "markdown",
   "metadata": {},
   "source": [
    "**Takeaway:** If I was to guess that no customers would not churn, I would be right about 73% of the time."
   ]
  },
  {
   "cell_type": "markdown",
   "metadata": {},
   "source": [
    "### Baseline Model: Decision Tree\n",
    "- This baseline model will use three numeric features: tenure, monthy charges and total charges. I chose these features at random since they are already numeric values to get a baseline.\n",
    "- In order to predict churn, I will need to first make 'churn' a numeric value as well by encoding the column.\n",
    "- I will use a Decision Tree model because it is a relatively simple model to create."
   ]
  },
  {
   "cell_type": "code",
   "execution_count": 6,
   "metadata": {},
   "outputs": [
    {
     "data": {
      "text/plain": [
       "0    0\n",
       "1    0\n",
       "2    0\n",
       "3    1\n",
       "4    1\n",
       "Name: churn, dtype: int64"
      ]
     },
     "execution_count": 6,
     "metadata": {},
     "output_type": "execute_result"
    }
   ],
   "source": [
    "base_encoder = LabelEncoder()\n",
    "df.churn = base_encoder.fit_transform(df.churn)\n",
    "df.churn.head()"
   ]
  },
  {
   "cell_type": "code",
   "execution_count": 7,
   "metadata": {},
   "outputs": [],
   "source": [
    "X = df[['tenure', 'monthly_charges', 'total_charges']]\n",
    "y = df[['churn']]"
   ]
  },
  {
   "cell_type": "code",
   "execution_count": 8,
   "metadata": {},
   "outputs": [],
   "source": [
    "X_train, X_test, y_train, y_test = train_test_split(X, y, train_size=.7, random_state=123)"
   ]
  },
  {
   "cell_type": "code",
   "execution_count": 9,
   "metadata": {},
   "outputs": [
    {
     "data": {
      "text/plain": [
       "DecisionTreeClassifier(class_weight=None, criterion='entropy', max_depth=4,\n",
       "                       max_features=None, max_leaf_nodes=None,\n",
       "                       min_impurity_decrease=0.0, min_impurity_split=None,\n",
       "                       min_samples_leaf=1, min_samples_split=2,\n",
       "                       min_weight_fraction_leaf=0.0, presort=False,\n",
       "                       random_state=123, splitter='best')"
      ]
     },
     "execution_count": 9,
     "metadata": {},
     "output_type": "execute_result"
    }
   ],
   "source": [
    "clf = DecisionTreeClassifier(criterion='entropy', max_depth=4, random_state=123)\n",
    "clf.fit(X_train, y_train)"
   ]
  },
  {
   "cell_type": "code",
   "execution_count": 10,
   "metadata": {},
   "outputs": [
    {
     "data": {
      "text/plain": [
       "array([1, 0, 0, ..., 0, 0, 1])"
      ]
     },
     "execution_count": 10,
     "metadata": {},
     "output_type": "execute_result"
    }
   ],
   "source": [
    "y_pred = clf.predict(X_train)\n",
    "y_pred"
   ]
  },
  {
   "cell_type": "code",
   "execution_count": 11,
   "metadata": {},
   "outputs": [
    {
     "data": {
      "text/plain": [
       "array([[0.36346516, 0.63653484],\n",
       "       [0.91964286, 0.08035714],\n",
       "       [0.87067395, 0.12932605],\n",
       "       ...,\n",
       "       [0.87067395, 0.12932605],\n",
       "       [0.63268156, 0.36731844],\n",
       "       [0.36346516, 0.63653484]])"
      ]
     },
     "execution_count": 11,
     "metadata": {},
     "output_type": "execute_result"
    }
   ],
   "source": [
    "y_pred_proba = clf.predict_proba(X_train)\n",
    "y_pred_proba"
   ]
  },
  {
   "cell_type": "markdown",
   "metadata": {},
   "source": [
    "#### Evaluate Baseline Model"
   ]
  },
  {
   "cell_type": "code",
   "execution_count": 12,
   "metadata": {},
   "outputs": [
    {
     "name": "stdout",
     "output_type": "stream",
     "text": [
      "Accuracy of Decision Tree classifier on training set: 0.79\n"
     ]
    }
   ],
   "source": [
    "print('Accuracy of Decision Tree classifier on training set: {:.2f}'\n",
    "     .format(clf.score(X_train, y_train)))"
   ]
  },
  {
   "cell_type": "code",
   "execution_count": 13,
   "metadata": {},
   "outputs": [
    {
     "data": {
      "text/plain": [
       "array([[3298,  327],\n",
       "       [ 684,  613]])"
      ]
     },
     "execution_count": 13,
     "metadata": {},
     "output_type": "execute_result"
    }
   ],
   "source": [
    "confusion_matrix(y_train, y_pred)"
   ]
  },
  {
   "cell_type": "code",
   "execution_count": 14,
   "metadata": {},
   "outputs": [
    {
     "name": "stdout",
     "output_type": "stream",
     "text": [
      "              precision    recall  f1-score   support\n",
      "\n",
      "           0       0.83      0.91      0.87      3625\n",
      "           1       0.65      0.47      0.55      1297\n",
      "\n",
      "    accuracy                           0.79      4922\n",
      "   macro avg       0.74      0.69      0.71      4922\n",
      "weighted avg       0.78      0.79      0.78      4922\n",
      "\n"
     ]
    }
   ],
   "source": [
    "print(classification_report(y_train, y_pred))"
   ]
  },
  {
   "cell_type": "markdown",
   "metadata": {},
   "source": [
    "**Takeaways:** The accuracy score for this baseline model is at about 79%. We must also look at the precision, recall and f1-score for those who have churned when comparing models moving forward. This baseline model performs better than the 60% "
   ]
  },
  {
   "cell_type": "markdown",
   "metadata": {},
   "source": [
    "### Explore"
   ]
  },
  {
   "cell_type": "markdown",
   "metadata": {},
   "source": [
    "- Using the encoded data, I will now look at the correlation between all features to then find the best features to use in my predictive model.\n",
    "\n",
    "- I will begin by looking at the distribution of churn."
   ]
  },
  {
   "cell_type": "code",
   "execution_count": 82,
   "metadata": {
    "scrolled": false
   },
   "outputs": [
    {
     "data": {
      "image/png": "[encoded data removed]",
      "text/plain": [
       "<Figure size 648x432 with 1 Axes>"
      ]
     },
     "metadata": {
      "needs_background": "light"
     },
     "output_type": "display_data"
    }
   ],
   "source": [
    "plt.figure(figsize=(9,6))\n",
    "y_train.churn.value_counts().sort_index().plot(kind = \"bar\", alpha = .5)\n",
    "plt.title(\"Distirbution of Churn\")\n",
    "plt.grid(b = True , which = \"major\")"
   ]
  },
  {
   "cell_type": "markdown",
   "metadata": {},
   "source": [
    "**Takeaway:** Significantly less people have churned (1) vs. people who have not churned (0) in our data."
   ]
  },
  {
   "cell_type": "code",
   "execution_count": 56,
   "metadata": {},
   "outputs": [
    {
     "data": {
      "text/plain": [
       "Text(0.5, 1.0, 'Churn Rate vs. Tenure in Months')"
      ]
     },
     "execution_count": 56,
     "metadata": {},
     "output_type": "execute_result"
    },
    {
     "data": {
      "image/png": "[encoded data removed]",
      "text/plain": [
       "<Figure size 720x432 with 1 Axes>"
      ]
     },
     "metadata": {
      "needs_background": "light"
     },
     "output_type": "display_data"
    }
   ],
   "source": [
    "plt.figure(figsize=(10,6))\n",
    "sns.lineplot(x='tenure', y='churn', data=train_encode)\n",
    "plt.title(\"Churn Rate vs. Tenure in Months\")"
   ]
  },
  {
   "cell_type": "markdown",
   "metadata": {},
   "source": [
    "**Takeaway:** More people churned in the early months of their tenure. This could be due to different contract types, or service experiences within those first few months of tenure."
   ]
  },
  {
   "cell_type": "code",
   "execution_count": 83,
   "metadata": {},
   "outputs": [
    {
     "data": {
      "text/html": [
       "<style  type=\"text/css\" >\n",
       "    #T_24d1deb6_fad4_11e9_b6d0_acde48001122row0_col0 {\n",
       "            background-color:  #f7fbff;\n",
       "            color:  #000000;\n",
       "        }    #T_24d1deb6_fad4_11e9_b6d0_acde48001122row0_col1 {\n",
       "            background-color:  #f3f8fe;\n",
       "            color:  #000000;\n",
       "        }    #T_24d1deb6_fad4_11e9_b6d0_acde48001122row0_col2 {\n",
       "            background-color:  #c7dcef;\n",
       "            color:  #000000;\n",
       "        }    #T_24d1deb6_fad4_11e9_b6d0_acde48001122row0_col3 {\n",
       "            background-color:  #eef5fc;\n",
       "            color:  #000000;\n",
       "        }    #T_24d1deb6_fad4_11e9_b6d0_acde48001122row0_col4 {\n",
       "            background-color:  #eaf3fb;\n",
       "            color:  #000000;\n",
       "        }    #T_24d1deb6_fad4_11e9_b6d0_acde48001122row0_col5 {\n",
       "            background-color:  #79b5d9;\n",
       "            color:  #000000;\n",
       "        }    #T_24d1deb6_fad4_11e9_b6d0_acde48001122row0_col6 {\n",
       "            background-color:  #9cc9e1;\n",
       "            color:  #000000;\n",
       "        }    #T_24d1deb6_fad4_11e9_b6d0_acde48001122row0_col7 {\n",
       "            background-color:  #5aa2cf;\n",
       "            color:  #000000;\n",
       "        }    #T_24d1deb6_fad4_11e9_b6d0_acde48001122row0_col8 {\n",
       "            background-color:  #97c6df;\n",
       "            color:  #000000;\n",
       "        }    #T_24d1deb6_fad4_11e9_b6d0_acde48001122row0_col9 {\n",
       "            background-color:  #b4d3e9;\n",
       "            color:  #000000;\n",
       "        }    #T_24d1deb6_fad4_11e9_b6d0_acde48001122row0_col10 {\n",
       "            background-color:  #5aa2cf;\n",
       "            color:  #000000;\n",
       "        }    #T_24d1deb6_fad4_11e9_b6d0_acde48001122row0_col11 {\n",
       "            background-color:  #72b2d8;\n",
       "            color:  #000000;\n",
       "        }    #T_24d1deb6_fad4_11e9_b6d0_acde48001122row0_col12 {\n",
       "            background-color:  #8abfdd;\n",
       "            color:  #000000;\n",
       "        }    #T_24d1deb6_fad4_11e9_b6d0_acde48001122row0_col13 {\n",
       "            background-color:  #4f9bcb;\n",
       "            color:  #000000;\n",
       "        }    #T_24d1deb6_fad4_11e9_b6d0_acde48001122row0_col14 {\n",
       "            background-color:  #6aaed6;\n",
       "            color:  #000000;\n",
       "        }    #T_24d1deb6_fad4_11e9_b6d0_acde48001122row0_col15 {\n",
       "            background-color:  #3e8ec4;\n",
       "            color:  #000000;\n",
       "        }    #T_24d1deb6_fad4_11e9_b6d0_acde48001122row0_col16 {\n",
       "            background-color:  #3989c1;\n",
       "            color:  #000000;\n",
       "        }    #T_24d1deb6_fad4_11e9_b6d0_acde48001122row0_col17 {\n",
       "            background-color:  #3585bf;\n",
       "            color:  #000000;\n",
       "        }    #T_24d1deb6_fad4_11e9_b6d0_acde48001122row0_col18 {\n",
       "            background-color:  #4e9acb;\n",
       "            color:  #000000;\n",
       "        }    #T_24d1deb6_fad4_11e9_b6d0_acde48001122row0_col19 {\n",
       "            background-color:  #3989c1;\n",
       "            color:  #000000;\n",
       "        }    #T_24d1deb6_fad4_11e9_b6d0_acde48001122row0_col20 {\n",
       "            background-color:  #519ccc;\n",
       "            color:  #000000;\n",
       "        }    #T_24d1deb6_fad4_11e9_b6d0_acde48001122row0_col21 {\n",
       "            background-color:  #3e8ec4;\n",
       "            color:  #000000;\n",
       "        }    #T_24d1deb6_fad4_11e9_b6d0_acde48001122row0_col22 {\n",
       "            background-color:  #0b559f;\n",
       "            color:  #f1f1f1;\n",
       "        }    #T_24d1deb6_fad4_11e9_b6d0_acde48001122row0_col23 {\n",
       "            background-color:  #3b8bc2;\n",
       "            color:  #000000;\n",
       "        }    #T_24d1deb6_fad4_11e9_b6d0_acde48001122row0_col24 {\n",
       "            background-color:  #3787c0;\n",
       "            color:  #000000;\n",
       "        }    #T_24d1deb6_fad4_11e9_b6d0_acde48001122row0_col25 {\n",
       "            background-color:  #1c6bb0;\n",
       "            color:  #f1f1f1;\n",
       "        }    #T_24d1deb6_fad4_11e9_b6d0_acde48001122row0_col26 {\n",
       "            background-color:  #105ba4;\n",
       "            color:  #f1f1f1;\n",
       "        }    #T_24d1deb6_fad4_11e9_b6d0_acde48001122row0_col27 {\n",
       "            background-color:  #2777b8;\n",
       "            color:  #000000;\n",
       "        }    #T_24d1deb6_fad4_11e9_b6d0_acde48001122row0_col28 {\n",
       "            background-color:  #2f7fbc;\n",
       "            color:  #000000;\n",
       "        }    #T_24d1deb6_fad4_11e9_b6d0_acde48001122row0_col29 {\n",
       "            background-color:  #3181bd;\n",
       "            color:  #000000;\n",
       "        }    #T_24d1deb6_fad4_11e9_b6d0_acde48001122row0_col30 {\n",
       "            background-color:  #3787c0;\n",
       "            color:  #000000;\n",
       "        }    #T_24d1deb6_fad4_11e9_b6d0_acde48001122row0_col31 {\n",
       "            background-color:  #4896c8;\n",
       "            color:  #000000;\n",
       "        }    #T_24d1deb6_fad4_11e9_b6d0_acde48001122row0_col32 {\n",
       "            background-color:  #1d6cb1;\n",
       "            color:  #f1f1f1;\n",
       "        }    #T_24d1deb6_fad4_11e9_b6d0_acde48001122row0_col33 {\n",
       "            background-color:  #1966ad;\n",
       "            color:  #f1f1f1;\n",
       "        }    #T_24d1deb6_fad4_11e9_b6d0_acde48001122row0_col34 {\n",
       "            background-color:  #1865ac;\n",
       "            color:  #f1f1f1;\n",
       "        }    #T_24d1deb6_fad4_11e9_b6d0_acde48001122row0_col35 {\n",
       "            background-color:  #3787c0;\n",
       "            color:  #000000;\n",
       "        }    #T_24d1deb6_fad4_11e9_b6d0_acde48001122row0_col36 {\n",
       "            background-color:  #1966ad;\n",
       "            color:  #f1f1f1;\n",
       "        }    #T_24d1deb6_fad4_11e9_b6d0_acde48001122row0_col37 {\n",
       "            background-color:  #2f7fbc;\n",
       "            color:  #000000;\n",
       "        }    #T_24d1deb6_fad4_11e9_b6d0_acde48001122row0_col38 {\n",
       "            background-color:  #4896c8;\n",
       "            color:  #000000;\n",
       "        }    #T_24d1deb6_fad4_11e9_b6d0_acde48001122row0_col39 {\n",
       "            background-color:  #2272b6;\n",
       "            color:  #f1f1f1;\n",
       "        }    #T_24d1deb6_fad4_11e9_b6d0_acde48001122row0_col40 {\n",
       "            background-color:  #1967ad;\n",
       "            color:  #f1f1f1;\n",
       "        }    #T_24d1deb6_fad4_11e9_b6d0_acde48001122row0_col41 {\n",
       "            background-color:  #2979b9;\n",
       "            color:  #000000;\n",
       "        }    #T_24d1deb6_fad4_11e9_b6d0_acde48001122row0_col42 {\n",
       "            background-color:  #3f8fc5;\n",
       "            color:  #000000;\n",
       "        }    #T_24d1deb6_fad4_11e9_b6d0_acde48001122row0_col43 {\n",
       "            background-color:  #0a549e;\n",
       "            color:  #f1f1f1;\n",
       "        }    #T_24d1deb6_fad4_11e9_b6d0_acde48001122row0_col44 {\n",
       "            background-color:  #084f99;\n",
       "            color:  #f1f1f1;\n",
       "        }    #T_24d1deb6_fad4_11e9_b6d0_acde48001122row0_col45 {\n",
       "            background-color:  #1e6db2;\n",
       "            color:  #f1f1f1;\n",
       "        }    #T_24d1deb6_fad4_11e9_b6d0_acde48001122row0_col46 {\n",
       "            background-color:  #2a7ab9;\n",
       "            color:  #000000;\n",
       "        }    #T_24d1deb6_fad4_11e9_b6d0_acde48001122row0_col47 {\n",
       "            background-color:  #0e59a2;\n",
       "            color:  #f1f1f1;\n",
       "        }    #T_24d1deb6_fad4_11e9_b6d0_acde48001122row0_col48 {\n",
       "            background-color:  #3989c1;\n",
       "            color:  #000000;\n",
       "        }    #T_24d1deb6_fad4_11e9_b6d0_acde48001122row0_col49 {\n",
       "            background-color:  #0f5aa3;\n",
       "            color:  #f1f1f1;\n",
       "        }    #T_24d1deb6_fad4_11e9_b6d0_acde48001122row0_col50 {\n",
       "            background-color:  #1764ab;\n",
       "            color:  #f1f1f1;\n",
       "        }    #T_24d1deb6_fad4_11e9_b6d0_acde48001122row0_col51 {\n",
       "            background-color:  #084d96;\n",
       "            color:  #f1f1f1;\n",
       "        }    #T_24d1deb6_fad4_11e9_b6d0_acde48001122row0_col52 {\n",
       "            background-color:  #1967ad;\n",
       "            color:  #f1f1f1;\n",
       "        }    #T_24d1deb6_fad4_11e9_b6d0_acde48001122row0_col53 {\n",
       "            background-color:  #206fb4;\n",
       "            color:  #f1f1f1;\n",
       "        }    #T_24d1deb6_fad4_11e9_b6d0_acde48001122row0_col54 {\n",
       "            background-color:  #0f5aa3;\n",
       "            color:  #f1f1f1;\n",
       "        }    #T_24d1deb6_fad4_11e9_b6d0_acde48001122row0_col55 {\n",
       "            background-color:  #084f99;\n",
       "            color:  #f1f1f1;\n",
       "        }    #T_24d1deb6_fad4_11e9_b6d0_acde48001122row0_col56 {\n",
       "            background-color:  #08519c;\n",
       "            color:  #f1f1f1;\n",
       "        }    #T_24d1deb6_fad4_11e9_b6d0_acde48001122row0_col57 {\n",
       "            background-color:  #2575b7;\n",
       "            color:  #000000;\n",
       "        }    #T_24d1deb6_fad4_11e9_b6d0_acde48001122row0_col58 {\n",
       "            background-color:  #115ca5;\n",
       "            color:  #f1f1f1;\n",
       "        }    #T_24d1deb6_fad4_11e9_b6d0_acde48001122row0_col59 {\n",
       "            background-color:  #08468b;\n",
       "            color:  #f1f1f1;\n",
       "        }    #T_24d1deb6_fad4_11e9_b6d0_acde48001122row0_col60 {\n",
       "            background-color:  #0a539e;\n",
       "            color:  #f1f1f1;\n",
       "        }    #T_24d1deb6_fad4_11e9_b6d0_acde48001122row0_col61 {\n",
       "            background-color:  #084082;\n",
       "            color:  #f1f1f1;\n",
       "        }    #T_24d1deb6_fad4_11e9_b6d0_acde48001122row0_col62 {\n",
       "            background-color:  #084b93;\n",
       "            color:  #f1f1f1;\n",
       "        }    #T_24d1deb6_fad4_11e9_b6d0_acde48001122row0_col63 {\n",
       "            background-color:  #084082;\n",
       "            color:  #f1f1f1;\n",
       "        }    #T_24d1deb6_fad4_11e9_b6d0_acde48001122row0_col64 {\n",
       "            background-color:  #084990;\n",
       "            color:  #f1f1f1;\n",
       "        }    #T_24d1deb6_fad4_11e9_b6d0_acde48001122row0_col65 {\n",
       "            background-color:  #0e58a2;\n",
       "            color:  #f1f1f1;\n",
       "        }    #T_24d1deb6_fad4_11e9_b6d0_acde48001122row0_col66 {\n",
       "            background-color:  #0c56a0;\n",
       "            color:  #f1f1f1;\n",
       "        }    #T_24d1deb6_fad4_11e9_b6d0_acde48001122row0_col67 {\n",
       "            background-color:  #084c95;\n",
       "            color:  #f1f1f1;\n",
       "        }    #T_24d1deb6_fad4_11e9_b6d0_acde48001122row0_col68 {\n",
       "            background-color:  #084082;\n",
       "            color:  #f1f1f1;\n",
       "        }    #T_24d1deb6_fad4_11e9_b6d0_acde48001122row0_col69 {\n",
       "            background-color:  #084b93;\n",
       "            color:  #f1f1f1;\n",
       "        }    #T_24d1deb6_fad4_11e9_b6d0_acde48001122row0_col70 {\n",
       "            background-color:  #083877;\n",
       "            color:  #f1f1f1;\n",
       "        }    #T_24d1deb6_fad4_11e9_b6d0_acde48001122row0_col71 {\n",
       "            background-color:  #083370;\n",
       "            color:  #f1f1f1;\n",
       "        }    #T_24d1deb6_fad4_11e9_b6d0_acde48001122row0_col72 {\n",
       "            background-color:  #3d8dc4;\n",
       "            color:  #000000;\n",
       "        }    #T_24d1deb6_fad4_11e9_b6d0_acde48001122row1_col0 {\n",
       "            background-color:  #7db8da;\n",
       "            color:  #000000;\n",
       "        }    #T_24d1deb6_fad4_11e9_b6d0_acde48001122row1_col1 {\n",
       "            background-color:  #f7fbff;\n",
       "            color:  #000000;\n",
       "        }    #T_24d1deb6_fad4_11e9_b6d0_acde48001122row1_col2 {\n",
       "            background-color:  #f7fbff;\n",
       "            color:  #000000;\n",
       "        }    #T_24d1deb6_fad4_11e9_b6d0_acde48001122row1_col3 {\n",
       "            background-color:  #f7fbff;\n",
       "            color:  #000000;\n",
       "        }    #T_24d1deb6_fad4_11e9_b6d0_acde48001122row1_col4 {\n",
       "            background-color:  #f7fbff;\n",
       "            color:  #000000;\n",
       "        }    #T_24d1deb6_fad4_11e9_b6d0_acde48001122row1_col5 {\n",
       "            background-color:  #f7fbff;\n",
       "            color:  #000000;\n",
       "        }    #T_24d1deb6_fad4_11e9_b6d0_acde48001122row1_col6 {\n",
       "            background-color:  #f7fbff;\n",
       "            color:  #000000;\n",
       "        }    #T_24d1deb6_fad4_11e9_b6d0_acde48001122row1_col7 {\n",
       "            background-color:  #f7fbff;\n",
       "            color:  #000000;\n",
       "        }    #T_24d1deb6_fad4_11e9_b6d0_acde48001122row1_col8 {\n",
       "            background-color:  #f7fbff;\n",
       "            color:  #000000;\n",
       "        }    #T_24d1deb6_fad4_11e9_b6d0_acde48001122row1_col9 {\n",
       "            background-color:  #f7fbff;\n",
       "            color:  #000000;\n",
       "        }    #T_24d1deb6_fad4_11e9_b6d0_acde48001122row1_col10 {\n",
       "            background-color:  #f7fbff;\n",
       "            color:  #000000;\n",
       "        }    #T_24d1deb6_fad4_11e9_b6d0_acde48001122row1_col11 {\n",
       "            background-color:  #f7fbff;\n",
       "            color:  #000000;\n",
       "        }    #T_24d1deb6_fad4_11e9_b6d0_acde48001122row1_col12 {\n",
       "            background-color:  #f7fbff;\n",
       "            color:  #000000;\n",
       "        }    #T_24d1deb6_fad4_11e9_b6d0_acde48001122row1_col13 {\n",
       "            background-color:  #f7fbff;\n",
       "            color:  #000000;\n",
       "        }    #T_24d1deb6_fad4_11e9_b6d0_acde48001122row1_col14 {\n",
       "            background-color:  #f7fbff;\n",
       "            color:  #000000;\n",
       "        }    #T_24d1deb6_fad4_11e9_b6d0_acde48001122row1_col15 {\n",
       "            background-color:  #f7fbff;\n",
       "            color:  #000000;\n",
       "        }    #T_24d1deb6_fad4_11e9_b6d0_acde48001122row1_col16 {\n",
       "            background-color:  #f7fbff;\n",
       "            color:  #000000;\n",
       "        }    #T_24d1deb6_fad4_11e9_b6d0_acde48001122row1_col17 {\n",
       "            background-color:  #f7fbff;\n",
       "            color:  #000000;\n",
       "        }    #T_24d1deb6_fad4_11e9_b6d0_acde48001122row1_col18 {\n",
       "            background-color:  #f7fbff;\n",
       "            color:  #000000;\n",
       "        }    #T_24d1deb6_fad4_11e9_b6d0_acde48001122row1_col19 {\n",
       "            background-color:  #f7fbff;\n",
       "            color:  #000000;\n",
       "        }    #T_24d1deb6_fad4_11e9_b6d0_acde48001122row1_col20 {\n",
       "            background-color:  #f7fbff;\n",
       "            color:  #000000;\n",
       "        }    #T_24d1deb6_fad4_11e9_b6d0_acde48001122row1_col21 {\n",
       "            background-color:  #f7fbff;\n",
       "            color:  #000000;\n",
       "        }    #T_24d1deb6_fad4_11e9_b6d0_acde48001122row1_col22 {\n",
       "            background-color:  #f7fbff;\n",
       "            color:  #000000;\n",
       "        }    #T_24d1deb6_fad4_11e9_b6d0_acde48001122row1_col23 {\n",
       "            background-color:  #f7fbff;\n",
       "            color:  #000000;\n",
       "        }    #T_24d1deb6_fad4_11e9_b6d0_acde48001122row1_col24 {\n",
       "            background-color:  #f7fbff;\n",
       "            color:  #000000;\n",
       "        }    #T_24d1deb6_fad4_11e9_b6d0_acde48001122row1_col25 {\n",
       "            background-color:  #f7fbff;\n",
       "            color:  #000000;\n",
       "        }    #T_24d1deb6_fad4_11e9_b6d0_acde48001122row1_col26 {\n",
       "            background-color:  #f7fbff;\n",
       "            color:  #000000;\n",
       "        }    #T_24d1deb6_fad4_11e9_b6d0_acde48001122row1_col27 {\n",
       "            background-color:  #f7fbff;\n",
       "            color:  #000000;\n",
       "        }    #T_24d1deb6_fad4_11e9_b6d0_acde48001122row1_col28 {\n",
       "            background-color:  #f7fbff;\n",
       "            color:  #000000;\n",
       "        }    #T_24d1deb6_fad4_11e9_b6d0_acde48001122row1_col29 {\n",
       "            background-color:  #f7fbff;\n",
       "            color:  #000000;\n",
       "        }    #T_24d1deb6_fad4_11e9_b6d0_acde48001122row1_col30 {\n",
       "            background-color:  #f7fbff;\n",
       "            color:  #000000;\n",
       "        }    #T_24d1deb6_fad4_11e9_b6d0_acde48001122row1_col31 {\n",
       "            background-color:  #f7fbff;\n",
       "            color:  #000000;\n",
       "        }    #T_24d1deb6_fad4_11e9_b6d0_acde48001122row1_col32 {\n",
       "            background-color:  #f7fbff;\n",
       "            color:  #000000;\n",
       "        }    #T_24d1deb6_fad4_11e9_b6d0_acde48001122row1_col33 {\n",
       "            background-color:  #f7fbff;\n",
       "            color:  #000000;\n",
       "        }    #T_24d1deb6_fad4_11e9_b6d0_acde48001122row1_col34 {\n",
       "            background-color:  #f7fbff;\n",
       "            color:  #000000;\n",
       "        }    #T_24d1deb6_fad4_11e9_b6d0_acde48001122row1_col35 {\n",
       "            background-color:  #f7fbff;\n",
       "            color:  #000000;\n",
       "        }    #T_24d1deb6_fad4_11e9_b6d0_acde48001122row1_col36 {\n",
       "            background-color:  #f7fbff;\n",
       "            color:  #000000;\n",
       "        }    #T_24d1deb6_fad4_11e9_b6d0_acde48001122row1_col37 {\n",
       "            background-color:  #f7fbff;\n",
       "            color:  #000000;\n",
       "        }    #T_24d1deb6_fad4_11e9_b6d0_acde48001122row1_col38 {\n",
       "            background-color:  #f7fbff;\n",
       "            color:  #000000;\n",
       "        }    #T_24d1deb6_fad4_11e9_b6d0_acde48001122row1_col39 {\n",
       "            background-color:  #f7fbff;\n",
       "            color:  #000000;\n",
       "        }    #T_24d1deb6_fad4_11e9_b6d0_acde48001122row1_col40 {\n",
       "            background-color:  #f7fbff;\n",
       "            color:  #000000;\n",
       "        }    #T_24d1deb6_fad4_11e9_b6d0_acde48001122row1_col41 {\n",
       "            background-color:  #f7fbff;\n",
       "            color:  #000000;\n",
       "        }    #T_24d1deb6_fad4_11e9_b6d0_acde48001122row1_col42 {\n",
       "            background-color:  #f7fbff;\n",
       "            color:  #000000;\n",
       "        }    #T_24d1deb6_fad4_11e9_b6d0_acde48001122row1_col43 {\n",
       "            background-color:  #f7fbff;\n",
       "            color:  #000000;\n",
       "        }    #T_24d1deb6_fad4_11e9_b6d0_acde48001122row1_col44 {\n",
       "            background-color:  #f7fbff;\n",
       "            color:  #000000;\n",
       "        }    #T_24d1deb6_fad4_11e9_b6d0_acde48001122row1_col45 {\n",
       "            background-color:  #f7fbff;\n",
       "            color:  #000000;\n",
       "        }    #T_24d1deb6_fad4_11e9_b6d0_acde48001122row1_col46 {\n",
       "            background-color:  #f7fbff;\n",
       "            color:  #000000;\n",
       "        }    #T_24d1deb6_fad4_11e9_b6d0_acde48001122row1_col47 {\n",
       "            background-color:  #f7fbff;\n",
       "            color:  #000000;\n",
       "        }    #T_24d1deb6_fad4_11e9_b6d0_acde48001122row1_col48 {\n",
       "            background-color:  #f7fbff;\n",
       "            color:  #000000;\n",
       "        }    #T_24d1deb6_fad4_11e9_b6d0_acde48001122row1_col49 {\n",
       "            background-color:  #f7fbff;\n",
       "            color:  #000000;\n",
       "        }    #T_24d1deb6_fad4_11e9_b6d0_acde48001122row1_col50 {\n",
       "            background-color:  #f7fbff;\n",
       "            color:  #000000;\n",
       "        }    #T_24d1deb6_fad4_11e9_b6d0_acde48001122row1_col51 {\n",
       "            background-color:  #f7fbff;\n",
       "            color:  #000000;\n",
       "        }    #T_24d1deb6_fad4_11e9_b6d0_acde48001122row1_col52 {\n",
       "            background-color:  #f7fbff;\n",
       "            color:  #000000;\n",
       "        }    #T_24d1deb6_fad4_11e9_b6d0_acde48001122row1_col53 {\n",
       "            background-color:  #f7fbff;\n",
       "            color:  #000000;\n",
       "        }    #T_24d1deb6_fad4_11e9_b6d0_acde48001122row1_col54 {\n",
       "            background-color:  #f7fbff;\n",
       "            color:  #000000;\n",
       "        }    #T_24d1deb6_fad4_11e9_b6d0_acde48001122row1_col55 {\n",
       "            background-color:  #f7fbff;\n",
       "            color:  #000000;\n",
       "        }    #T_24d1deb6_fad4_11e9_b6d0_acde48001122row1_col56 {\n",
       "            background-color:  #f7fbff;\n",
       "            color:  #000000;\n",
       "        }    #T_24d1deb6_fad4_11e9_b6d0_acde48001122row1_col57 {\n",
       "            background-color:  #f7fbff;\n",
       "            color:  #000000;\n",
       "        }    #T_24d1deb6_fad4_11e9_b6d0_acde48001122row1_col58 {\n",
       "            background-color:  #f7fbff;\n",
       "            color:  #000000;\n",
       "        }    #T_24d1deb6_fad4_11e9_b6d0_acde48001122row1_col59 {\n",
       "            background-color:  #f7fbff;\n",
       "            color:  #000000;\n",
       "        }    #T_24d1deb6_fad4_11e9_b6d0_acde48001122row1_col60 {\n",
       "            background-color:  #f7fbff;\n",
       "            color:  #000000;\n",
       "        }    #T_24d1deb6_fad4_11e9_b6d0_acde48001122row1_col61 {\n",
       "            background-color:  #f7fbff;\n",
       "            color:  #000000;\n",
       "        }    #T_24d1deb6_fad4_11e9_b6d0_acde48001122row1_col62 {\n",
       "            background-color:  #f7fbff;\n",
       "            color:  #000000;\n",
       "        }    #T_24d1deb6_fad4_11e9_b6d0_acde48001122row1_col63 {\n",
       "            background-color:  #f7fbff;\n",
       "            color:  #000000;\n",
       "        }    #T_24d1deb6_fad4_11e9_b6d0_acde48001122row1_col64 {\n",
       "            background-color:  #f7fbff;\n",
       "            color:  #000000;\n",
       "        }    #T_24d1deb6_fad4_11e9_b6d0_acde48001122row1_col65 {\n",
       "            background-color:  #f7fbff;\n",
       "            color:  #000000;\n",
       "        }    #T_24d1deb6_fad4_11e9_b6d0_acde48001122row1_col66 {\n",
       "            background-color:  #f7fbff;\n",
       "            color:  #000000;\n",
       "        }    #T_24d1deb6_fad4_11e9_b6d0_acde48001122row1_col67 {\n",
       "            background-color:  #f7fbff;\n",
       "            color:  #000000;\n",
       "        }    #T_24d1deb6_fad4_11e9_b6d0_acde48001122row1_col68 {\n",
       "            background-color:  #f7fbff;\n",
       "            color:  #000000;\n",
       "        }    #T_24d1deb6_fad4_11e9_b6d0_acde48001122row1_col69 {\n",
       "            background-color:  #f7fbff;\n",
       "            color:  #000000;\n",
       "        }    #T_24d1deb6_fad4_11e9_b6d0_acde48001122row1_col70 {\n",
       "            background-color:  #f7fbff;\n",
       "            color:  #000000;\n",
       "        }    #T_24d1deb6_fad4_11e9_b6d0_acde48001122row1_col71 {\n",
       "            background-color:  #f7fbff;\n",
       "            color:  #000000;\n",
       "        }    #T_24d1deb6_fad4_11e9_b6d0_acde48001122row1_col72 {\n",
       "            background-color:  #f7fbff;\n",
       "            color:  #000000;\n",
       "        }    #T_24d1deb6_fad4_11e9_b6d0_acde48001122row2_col0 {\n",
       "            background-color:  #08306b;\n",
       "            color:  #f1f1f1;\n",
       "        }    #T_24d1deb6_fad4_11e9_b6d0_acde48001122row2_col1 {\n",
       "            background-color:  #08306b;\n",
       "            color:  #f1f1f1;\n",
       "        }    #T_24d1deb6_fad4_11e9_b6d0_acde48001122row2_col2 {\n",
       "            background-color:  #08306b;\n",
       "            color:  #f1f1f1;\n",
       "        }    #T_24d1deb6_fad4_11e9_b6d0_acde48001122row2_col3 {\n",
       "            background-color:  #08306b;\n",
       "            color:  #f1f1f1;\n",
       "        }    #T_24d1deb6_fad4_11e9_b6d0_acde48001122row2_col4 {\n",
       "            background-color:  #08306b;\n",
       "            color:  #f1f1f1;\n",
       "        }    #T_24d1deb6_fad4_11e9_b6d0_acde48001122row2_col5 {\n",
       "            background-color:  #08306b;\n",
       "            color:  #f1f1f1;\n",
       "        }    #T_24d1deb6_fad4_11e9_b6d0_acde48001122row2_col6 {\n",
       "            background-color:  #08306b;\n",
       "            color:  #f1f1f1;\n",
       "        }    #T_24d1deb6_fad4_11e9_b6d0_acde48001122row2_col7 {\n",
       "            background-color:  #08306b;\n",
       "            color:  #f1f1f1;\n",
       "        }    #T_24d1deb6_fad4_11e9_b6d0_acde48001122row2_col8 {\n",
       "            background-color:  #08306b;\n",
       "            color:  #f1f1f1;\n",
       "        }    #T_24d1deb6_fad4_11e9_b6d0_acde48001122row2_col9 {\n",
       "            background-color:  #08306b;\n",
       "            color:  #f1f1f1;\n",
       "        }    #T_24d1deb6_fad4_11e9_b6d0_acde48001122row2_col10 {\n",
       "            background-color:  #08306b;\n",
       "            color:  #f1f1f1;\n",
       "        }    #T_24d1deb6_fad4_11e9_b6d0_acde48001122row2_col11 {\n",
       "            background-color:  #08306b;\n",
       "            color:  #f1f1f1;\n",
       "        }    #T_24d1deb6_fad4_11e9_b6d0_acde48001122row2_col12 {\n",
       "            background-color:  #08306b;\n",
       "            color:  #f1f1f1;\n",
       "        }    #T_24d1deb6_fad4_11e9_b6d0_acde48001122row2_col13 {\n",
       "            background-color:  #08306b;\n",
       "            color:  #f1f1f1;\n",
       "        }    #T_24d1deb6_fad4_11e9_b6d0_acde48001122row2_col14 {\n",
       "            background-color:  #08306b;\n",
       "            color:  #f1f1f1;\n",
       "        }    #T_24d1deb6_fad4_11e9_b6d0_acde48001122row2_col15 {\n",
       "            background-color:  #08306b;\n",
       "            color:  #f1f1f1;\n",
       "        }    #T_24d1deb6_fad4_11e9_b6d0_acde48001122row2_col16 {\n",
       "            background-color:  #08306b;\n",
       "            color:  #f1f1f1;\n",
       "        }    #T_24d1deb6_fad4_11e9_b6d0_acde48001122row2_col17 {\n",
       "            background-color:  #08306b;\n",
       "            color:  #f1f1f1;\n",
       "        }    #T_24d1deb6_fad4_11e9_b6d0_acde48001122row2_col18 {\n",
       "            background-color:  #08306b;\n",
       "            color:  #f1f1f1;\n",
       "        }    #T_24d1deb6_fad4_11e9_b6d0_acde48001122row2_col19 {\n",
       "            background-color:  #08306b;\n",
       "            color:  #f1f1f1;\n",
       "        }    #T_24d1deb6_fad4_11e9_b6d0_acde48001122row2_col20 {\n",
       "            background-color:  #08306b;\n",
       "            color:  #f1f1f1;\n",
       "        }    #T_24d1deb6_fad4_11e9_b6d0_acde48001122row2_col21 {\n",
       "            background-color:  #08306b;\n",
       "            color:  #f1f1f1;\n",
       "        }    #T_24d1deb6_fad4_11e9_b6d0_acde48001122row2_col22 {\n",
       "            background-color:  #08306b;\n",
       "            color:  #f1f1f1;\n",
       "        }    #T_24d1deb6_fad4_11e9_b6d0_acde48001122row2_col23 {\n",
       "            background-color:  #08306b;\n",
       "            color:  #f1f1f1;\n",
       "        }    #T_24d1deb6_fad4_11e9_b6d0_acde48001122row2_col24 {\n",
       "            background-color:  #08306b;\n",
       "            color:  #f1f1f1;\n",
       "        }    #T_24d1deb6_fad4_11e9_b6d0_acde48001122row2_col25 {\n",
       "            background-color:  #08306b;\n",
       "            color:  #f1f1f1;\n",
       "        }    #T_24d1deb6_fad4_11e9_b6d0_acde48001122row2_col26 {\n",
       "            background-color:  #08306b;\n",
       "            color:  #f1f1f1;\n",
       "        }    #T_24d1deb6_fad4_11e9_b6d0_acde48001122row2_col27 {\n",
       "            background-color:  #08306b;\n",
       "            color:  #f1f1f1;\n",
       "        }    #T_24d1deb6_fad4_11e9_b6d0_acde48001122row2_col28 {\n",
       "            background-color:  #08306b;\n",
       "            color:  #f1f1f1;\n",
       "        }    #T_24d1deb6_fad4_11e9_b6d0_acde48001122row2_col29 {\n",
       "            background-color:  #08306b;\n",
       "            color:  #f1f1f1;\n",
       "        }    #T_24d1deb6_fad4_11e9_b6d0_acde48001122row2_col30 {\n",
       "            background-color:  #08306b;\n",
       "            color:  #f1f1f1;\n",
       "        }    #T_24d1deb6_fad4_11e9_b6d0_acde48001122row2_col31 {\n",
       "            background-color:  #08306b;\n",
       "            color:  #f1f1f1;\n",
       "        }    #T_24d1deb6_fad4_11e9_b6d0_acde48001122row2_col32 {\n",
       "            background-color:  #08306b;\n",
       "            color:  #f1f1f1;\n",
       "        }    #T_24d1deb6_fad4_11e9_b6d0_acde48001122row2_col33 {\n",
       "            background-color:  #08306b;\n",
       "            color:  #f1f1f1;\n",
       "        }    #T_24d1deb6_fad4_11e9_b6d0_acde48001122row2_col34 {\n",
       "            background-color:  #08306b;\n",
       "            color:  #f1f1f1;\n",
       "        }    #T_24d1deb6_fad4_11e9_b6d0_acde48001122row2_col35 {\n",
       "            background-color:  #08306b;\n",
       "            color:  #f1f1f1;\n",
       "        }    #T_24d1deb6_fad4_11e9_b6d0_acde48001122row2_col36 {\n",
       "            background-color:  #08306b;\n",
       "            color:  #f1f1f1;\n",
       "        }    #T_24d1deb6_fad4_11e9_b6d0_acde48001122row2_col37 {\n",
       "            background-color:  #08306b;\n",
       "            color:  #f1f1f1;\n",
       "        }    #T_24d1deb6_fad4_11e9_b6d0_acde48001122row2_col38 {\n",
       "            background-color:  #08306b;\n",
       "            color:  #f1f1f1;\n",
       "        }    #T_24d1deb6_fad4_11e9_b6d0_acde48001122row2_col39 {\n",
       "            background-color:  #08306b;\n",
       "            color:  #f1f1f1;\n",
       "        }    #T_24d1deb6_fad4_11e9_b6d0_acde48001122row2_col40 {\n",
       "            background-color:  #08306b;\n",
       "            color:  #f1f1f1;\n",
       "        }    #T_24d1deb6_fad4_11e9_b6d0_acde48001122row2_col41 {\n",
       "            background-color:  #08306b;\n",
       "            color:  #f1f1f1;\n",
       "        }    #T_24d1deb6_fad4_11e9_b6d0_acde48001122row2_col42 {\n",
       "            background-color:  #08306b;\n",
       "            color:  #f1f1f1;\n",
       "        }    #T_24d1deb6_fad4_11e9_b6d0_acde48001122row2_col43 {\n",
       "            background-color:  #08306b;\n",
       "            color:  #f1f1f1;\n",
       "        }    #T_24d1deb6_fad4_11e9_b6d0_acde48001122row2_col44 {\n",
       "            background-color:  #08306b;\n",
       "            color:  #f1f1f1;\n",
       "        }    #T_24d1deb6_fad4_11e9_b6d0_acde48001122row2_col45 {\n",
       "            background-color:  #08306b;\n",
       "            color:  #f1f1f1;\n",
       "        }    #T_24d1deb6_fad4_11e9_b6d0_acde48001122row2_col46 {\n",
       "            background-color:  #08306b;\n",
       "            color:  #f1f1f1;\n",
       "        }    #T_24d1deb6_fad4_11e9_b6d0_acde48001122row2_col47 {\n",
       "            background-color:  #08306b;\n",
       "            color:  #f1f1f1;\n",
       "        }    #T_24d1deb6_fad4_11e9_b6d0_acde48001122row2_col48 {\n",
       "            background-color:  #08306b;\n",
       "            color:  #f1f1f1;\n",
       "        }    #T_24d1deb6_fad4_11e9_b6d0_acde48001122row2_col49 {\n",
       "            background-color:  #08306b;\n",
       "            color:  #f1f1f1;\n",
       "        }    #T_24d1deb6_fad4_11e9_b6d0_acde48001122row2_col50 {\n",
       "            background-color:  #08306b;\n",
       "            color:  #f1f1f1;\n",
       "        }    #T_24d1deb6_fad4_11e9_b6d0_acde48001122row2_col51 {\n",
       "            background-color:  #08306b;\n",
       "            color:  #f1f1f1;\n",
       "        }    #T_24d1deb6_fad4_11e9_b6d0_acde48001122row2_col52 {\n",
       "            background-color:  #08306b;\n",
       "            color:  #f1f1f1;\n",
       "        }    #T_24d1deb6_fad4_11e9_b6d0_acde48001122row2_col53 {\n",
       "            background-color:  #08306b;\n",
       "            color:  #f1f1f1;\n",
       "        }    #T_24d1deb6_fad4_11e9_b6d0_acde48001122row2_col54 {\n",
       "            background-color:  #08306b;\n",
       "            color:  #f1f1f1;\n",
       "        }    #T_24d1deb6_fad4_11e9_b6d0_acde48001122row2_col55 {\n",
       "            background-color:  #08306b;\n",
       "            color:  #f1f1f1;\n",
       "        }    #T_24d1deb6_fad4_11e9_b6d0_acde48001122row2_col56 {\n",
       "            background-color:  #08306b;\n",
       "            color:  #f1f1f1;\n",
       "        }    #T_24d1deb6_fad4_11e9_b6d0_acde48001122row2_col57 {\n",
       "            background-color:  #08306b;\n",
       "            color:  #f1f1f1;\n",
       "        }    #T_24d1deb6_fad4_11e9_b6d0_acde48001122row2_col58 {\n",
       "            background-color:  #08306b;\n",
       "            color:  #f1f1f1;\n",
       "        }    #T_24d1deb6_fad4_11e9_b6d0_acde48001122row2_col59 {\n",
       "            background-color:  #08306b;\n",
       "            color:  #f1f1f1;\n",
       "        }    #T_24d1deb6_fad4_11e9_b6d0_acde48001122row2_col60 {\n",
       "            background-color:  #08306b;\n",
       "            color:  #f1f1f1;\n",
       "        }    #T_24d1deb6_fad4_11e9_b6d0_acde48001122row2_col61 {\n",
       "            background-color:  #08306b;\n",
       "            color:  #f1f1f1;\n",
       "        }    #T_24d1deb6_fad4_11e9_b6d0_acde48001122row2_col62 {\n",
       "            background-color:  #08306b;\n",
       "            color:  #f1f1f1;\n",
       "        }    #T_24d1deb6_fad4_11e9_b6d0_acde48001122row2_col63 {\n",
       "            background-color:  #08306b;\n",
       "            color:  #f1f1f1;\n",
       "        }    #T_24d1deb6_fad4_11e9_b6d0_acde48001122row2_col64 {\n",
       "            background-color:  #08306b;\n",
       "            color:  #f1f1f1;\n",
       "        }    #T_24d1deb6_fad4_11e9_b6d0_acde48001122row2_col65 {\n",
       "            background-color:  #08306b;\n",
       "            color:  #f1f1f1;\n",
       "        }    #T_24d1deb6_fad4_11e9_b6d0_acde48001122row2_col66 {\n",
       "            background-color:  #08306b;\n",
       "            color:  #f1f1f1;\n",
       "        }    #T_24d1deb6_fad4_11e9_b6d0_acde48001122row2_col67 {\n",
       "            background-color:  #08306b;\n",
       "            color:  #f1f1f1;\n",
       "        }    #T_24d1deb6_fad4_11e9_b6d0_acde48001122row2_col68 {\n",
       "            background-color:  #08306b;\n",
       "            color:  #f1f1f1;\n",
       "        }    #T_24d1deb6_fad4_11e9_b6d0_acde48001122row2_col69 {\n",
       "            background-color:  #08306b;\n",
       "            color:  #f1f1f1;\n",
       "        }    #T_24d1deb6_fad4_11e9_b6d0_acde48001122row2_col70 {\n",
       "            background-color:  #08306b;\n",
       "            color:  #f1f1f1;\n",
       "        }    #T_24d1deb6_fad4_11e9_b6d0_acde48001122row2_col71 {\n",
       "            background-color:  #08306b;\n",
       "            color:  #f1f1f1;\n",
       "        }    #T_24d1deb6_fad4_11e9_b6d0_acde48001122row2_col72 {\n",
       "            background-color:  #08306b;\n",
       "            color:  #f1f1f1;\n",
       "        }</style><table id=\"T_24d1deb6_fad4_11e9_b6d0_acde48001122\" ><thead>    <tr>        <th class=\"index_name level0\" >tenure</th>        <th class=\"col_heading level0 col0\" >1</th>        <th class=\"col_heading level0 col1\" >2</th>        <th class=\"col_heading level0 col2\" >3</th>        <th class=\"col_heading level0 col3\" >4</th>        <th class=\"col_heading level0 col4\" >5</th>        <th class=\"col_heading level0 col5\" >6</th>        <th class=\"col_heading level0 col6\" >7</th>        <th class=\"col_heading level0 col7\" >8</th>        <th class=\"col_heading level0 col8\" >9</th>        <th class=\"col_heading level0 col9\" >10</th>        <th class=\"col_heading level0 col10\" >11</th>        <th class=\"col_heading level0 col11\" >12</th>        <th class=\"col_heading level0 col12\" >13</th>        <th class=\"col_heading level0 col13\" >14</th>        <th class=\"col_heading level0 col14\" >15</th>        <th class=\"col_heading level0 col15\" >16</th>        <th class=\"col_heading level0 col16\" >17</th>        <th class=\"col_heading level0 col17\" >18</th>        <th class=\"col_heading level0 col18\" >19</th>        <th class=\"col_heading level0 col19\" >20</th>        <th class=\"col_heading level0 col20\" >21</th>        <th class=\"col_heading level0 col21\" >22</th>        <th class=\"col_heading level0 col22\" >23</th>        <th class=\"col_heading level0 col23\" >24</th>        <th class=\"col_heading level0 col24\" >25</th>        <th class=\"col_heading level0 col25\" >26</th>        <th class=\"col_heading level0 col26\" >27</th>        <th class=\"col_heading level0 col27\" >28</th>        <th class=\"col_heading level0 col28\" >29</th>        <th class=\"col_heading level0 col29\" >30</th>        <th class=\"col_heading level0 col30\" >31</th>        <th class=\"col_heading level0 col31\" >32</th>        <th class=\"col_heading level0 col32\" >33</th>        <th class=\"col_heading level0 col33\" >34</th>        <th class=\"col_heading level0 col34\" >35</th>        <th class=\"col_heading level0 col35\" >36</th>        <th class=\"col_heading level0 col36\" >37</th>        <th class=\"col_heading level0 col37\" >38</th>        <th class=\"col_heading level0 col38\" >39</th>        <th class=\"col_heading level0 col39\" >40</th>        <th class=\"col_heading level0 col40\" >41</th>        <th class=\"col_heading level0 col41\" >42</th>        <th class=\"col_heading level0 col42\" >43</th>        <th class=\"col_heading level0 col43\" >44</th>        <th class=\"col_heading level0 col44\" >45</th>        <th class=\"col_heading level0 col45\" >46</th>        <th class=\"col_heading level0 col46\" >47</th>        <th class=\"col_heading level0 col47\" >48</th>        <th class=\"col_heading level0 col48\" >49</th>        <th class=\"col_heading level0 col49\" >50</th>        <th class=\"col_heading level0 col50\" >51</th>        <th class=\"col_heading level0 col51\" >52</th>        <th class=\"col_heading level0 col52\" >53</th>        <th class=\"col_heading level0 col53\" >54</th>        <th class=\"col_heading level0 col54\" >55</th>        <th class=\"col_heading level0 col55\" >56</th>        <th class=\"col_heading level0 col56\" >57</th>        <th class=\"col_heading level0 col57\" >58</th>        <th class=\"col_heading level0 col58\" >59</th>        <th class=\"col_heading level0 col59\" >60</th>        <th class=\"col_heading level0 col60\" >61</th>        <th class=\"col_heading level0 col61\" >62</th>        <th class=\"col_heading level0 col62\" >63</th>        <th class=\"col_heading level0 col63\" >64</th>        <th class=\"col_heading level0 col64\" >65</th>        <th class=\"col_heading level0 col65\" >66</th>        <th class=\"col_heading level0 col66\" >67</th>        <th class=\"col_heading level0 col67\" >68</th>        <th class=\"col_heading level0 col68\" >69</th>        <th class=\"col_heading level0 col69\" >70</th>        <th class=\"col_heading level0 col70\" >71</th>        <th class=\"col_heading level0 col71\" >72</th>        <th class=\"col_heading level0 col72\" >All</th>    </tr>    <tr>        <th class=\"index_name level0\" >churn</th>        <th class=\"blank\" ></th>        <th class=\"blank\" ></th>        <th class=\"blank\" ></th>        <th class=\"blank\" ></th>        <th class=\"blank\" ></th>        <th class=\"blank\" ></th>        <th class=\"blank\" ></th>        <th class=\"blank\" ></th>        <th class=\"blank\" ></th>        <th class=\"blank\" ></th>        <th class=\"blank\" ></th>        <th class=\"blank\" ></th>        <th class=\"blank\" ></th>        <th class=\"blank\" ></th>        <th class=\"blank\" ></th>        <th class=\"blank\" ></th>        <th class=\"blank\" ></th>        <th class=\"blank\" ></th>        <th class=\"blank\" ></th>        <th class=\"blank\" ></th>        <th class=\"blank\" ></th>        <th class=\"blank\" ></th>        <th class=\"blank\" ></th>        <th class=\"blank\" ></th>        <th class=\"blank\" ></th>        <th class=\"blank\" ></th>        <th class=\"blank\" ></th>        <th class=\"blank\" ></th>        <th class=\"blank\" ></th>        <th class=\"blank\" ></th>        <th class=\"blank\" ></th>        <th class=\"blank\" ></th>        <th class=\"blank\" ></th>        <th class=\"blank\" ></th>        <th class=\"blank\" ></th>        <th class=\"blank\" ></th>        <th class=\"blank\" ></th>        <th class=\"blank\" ></th>        <th class=\"blank\" ></th>        <th class=\"blank\" ></th>        <th class=\"blank\" ></th>        <th class=\"blank\" ></th>        <th class=\"blank\" ></th>        <th class=\"blank\" ></th>        <th class=\"blank\" ></th>        <th class=\"blank\" ></th>        <th class=\"blank\" ></th>        <th class=\"blank\" ></th>        <th class=\"blank\" ></th>        <th class=\"blank\" ></th>        <th class=\"blank\" ></th>        <th class=\"blank\" ></th>        <th class=\"blank\" ></th>        <th class=\"blank\" ></th>        <th class=\"blank\" ></th>        <th class=\"blank\" ></th>        <th class=\"blank\" ></th>        <th class=\"blank\" ></th>        <th class=\"blank\" ></th>        <th class=\"blank\" ></th>        <th class=\"blank\" ></th>        <th class=\"blank\" ></th>        <th class=\"blank\" ></th>        <th class=\"blank\" ></th>        <th class=\"blank\" ></th>        <th class=\"blank\" ></th>        <th class=\"blank\" ></th>        <th class=\"blank\" ></th>        <th class=\"blank\" ></th>        <th class=\"blank\" ></th>        <th class=\"blank\" ></th>        <th class=\"blank\" ></th>        <th class=\"blank\" ></th>    </tr></thead><tbody>\n",
       "                <tr>\n",
       "                        <th id=\"T_24d1deb6_fad4_11e9_b6d0_acde48001122level0_row0\" class=\"row_heading level0 row0\" >0</th>\n",
       "                        <td id=\"T_24d1deb6_fad4_11e9_b6d0_acde48001122row0_col0\" class=\"data row0 col0\" >146</td>\n",
       "                        <td id=\"T_24d1deb6_fad4_11e9_b6d0_acde48001122row0_col1\" class=\"data row0 col1\" >90</td>\n",
       "                        <td id=\"T_24d1deb6_fad4_11e9_b6d0_acde48001122row0_col2\" class=\"data row0 col2\" >78</td>\n",
       "                        <td id=\"T_24d1deb6_fad4_11e9_b6d0_acde48001122row0_col3\" class=\"data row0 col3\" >66</td>\n",
       "                        <td id=\"T_24d1deb6_fad4_11e9_b6d0_acde48001122row0_col4\" class=\"data row0 col4\" >47</td>\n",
       "                        <td id=\"T_24d1deb6_fad4_11e9_b6d0_acde48001122row0_col5\" class=\"data row0 col5\" >45</td>\n",
       "                        <td id=\"T_24d1deb6_fad4_11e9_b6d0_acde48001122row0_col6\" class=\"data row0 col6\" >55</td>\n",
       "                        <td id=\"T_24d1deb6_fad4_11e9_b6d0_acde48001122row0_col7\" class=\"data row0 col7\" >65</td>\n",
       "                        <td id=\"T_24d1deb6_fad4_11e9_b6d0_acde48001122row0_col8\" class=\"data row0 col8\" >46</td>\n",
       "                        <td id=\"T_24d1deb6_fad4_11e9_b6d0_acde48001122row0_col9\" class=\"data row0 col9\" >49</td>\n",
       "                        <td id=\"T_24d1deb6_fad4_11e9_b6d0_acde48001122row0_col10\" class=\"data row0 col10\" >49</td>\n",
       "                        <td id=\"T_24d1deb6_fad4_11e9_b6d0_acde48001122row0_col11\" class=\"data row0 col11\" >56</td>\n",
       "                        <td id=\"T_24d1deb6_fad4_11e9_b6d0_acde48001122row0_col12\" class=\"data row0 col12\" >45</td>\n",
       "                        <td id=\"T_24d1deb6_fad4_11e9_b6d0_acde48001122row0_col13\" class=\"data row0 col13\" >36</td>\n",
       "                        <td id=\"T_24d1deb6_fad4_11e9_b6d0_acde48001122row0_col14\" class=\"data row0 col14\" >46</td>\n",
       "                        <td id=\"T_24d1deb6_fad4_11e9_b6d0_acde48001122row0_col15\" class=\"data row0 col15\" >36</td>\n",
       "                        <td id=\"T_24d1deb6_fad4_11e9_b6d0_acde48001122row0_col16\" class=\"data row0 col16\" >44</td>\n",
       "                        <td id=\"T_24d1deb6_fad4_11e9_b6d0_acde48001122row0_col17\" class=\"data row0 col17\" >43</td>\n",
       "                        <td id=\"T_24d1deb6_fad4_11e9_b6d0_acde48001122row0_col18\" class=\"data row0 col18\" >34</td>\n",
       "                        <td id=\"T_24d1deb6_fad4_11e9_b6d0_acde48001122row0_col19\" class=\"data row0 col19\" >38</td>\n",
       "                        <td id=\"T_24d1deb6_fad4_11e9_b6d0_acde48001122row0_col20\" class=\"data row0 col20\" >31</td>\n",
       "                        <td id=\"T_24d1deb6_fad4_11e9_b6d0_acde48001122row0_col21\" class=\"data row0 col21\" >47</td>\n",
       "                        <td id=\"T_24d1deb6_fad4_11e9_b6d0_acde48001122row0_col22\" class=\"data row0 col22\" >49</td>\n",
       "                        <td id=\"T_24d1deb6_fad4_11e9_b6d0_acde48001122row0_col23\" class=\"data row0 col23\" >46</td>\n",
       "                        <td id=\"T_24d1deb6_fad4_11e9_b6d0_acde48001122row0_col24\" class=\"data row0 col24\" >48</td>\n",
       "                        <td id=\"T_24d1deb6_fad4_11e9_b6d0_acde48001122row0_col25\" class=\"data row0 col25\" >48</td>\n",
       "                        <td id=\"T_24d1deb6_fad4_11e9_b6d0_acde48001122row0_col26\" class=\"data row0 col26\" >42</td>\n",
       "                        <td id=\"T_24d1deb6_fad4_11e9_b6d0_acde48001122row0_col27\" class=\"data row0 col27\" >29</td>\n",
       "                        <td id=\"T_24d1deb6_fad4_11e9_b6d0_acde48001122row0_col28\" class=\"data row0 col28\" >43</td>\n",
       "                        <td id=\"T_24d1deb6_fad4_11e9_b6d0_acde48001122row0_col29\" class=\"data row0 col29\" >45</td>\n",
       "                        <td id=\"T_24d1deb6_fad4_11e9_b6d0_acde48001122row0_col30\" class=\"data row0 col30\" >36</td>\n",
       "                        <td id=\"T_24d1deb6_fad4_11e9_b6d0_acde48001122row0_col31\" class=\"data row0 col31\" >33</td>\n",
       "                        <td id=\"T_24d1deb6_fad4_11e9_b6d0_acde48001122row0_col32\" class=\"data row0 col32\" >39</td>\n",
       "                        <td id=\"T_24d1deb6_fad4_11e9_b6d0_acde48001122row0_col33\" class=\"data row0 col33\" >38</td>\n",
       "                        <td id=\"T_24d1deb6_fad4_11e9_b6d0_acde48001122row0_col34\" class=\"data row0 col34\" >59</td>\n",
       "                        <td id=\"T_24d1deb6_fad4_11e9_b6d0_acde48001122row0_col35\" class=\"data row0 col35\" >24</td>\n",
       "                        <td id=\"T_24d1deb6_fad4_11e9_b6d0_acde48001122row0_col36\" class=\"data row0 col36\" >38</td>\n",
       "                        <td id=\"T_24d1deb6_fad4_11e9_b6d0_acde48001122row0_col37\" class=\"data row0 col37\" >33</td>\n",
       "                        <td id=\"T_24d1deb6_fad4_11e9_b6d0_acde48001122row0_col38\" class=\"data row0 col38\" >23</td>\n",
       "                        <td id=\"T_24d1deb6_fad4_11e9_b6d0_acde48001122row0_col39\" class=\"data row0 col39\" >39</td>\n",
       "                        <td id=\"T_24d1deb6_fad4_11e9_b6d0_acde48001122row0_col40\" class=\"data row0 col40\" >42</td>\n",
       "                        <td id=\"T_24d1deb6_fad4_11e9_b6d0_acde48001122row0_col41\" class=\"data row0 col41\" >36</td>\n",
       "                        <td id=\"T_24d1deb6_fad4_11e9_b6d0_acde48001122row0_col42\" class=\"data row0 col42\" >33</td>\n",
       "                        <td id=\"T_24d1deb6_fad4_11e9_b6d0_acde48001122row0_col43\" class=\"data row0 col43\" >29</td>\n",
       "                        <td id=\"T_24d1deb6_fad4_11e9_b6d0_acde48001122row0_col44\" class=\"data row0 col44\" >42</td>\n",
       "                        <td id=\"T_24d1deb6_fad4_11e9_b6d0_acde48001122row0_col45\" class=\"data row0 col45\" >42</td>\n",
       "                        <td id=\"T_24d1deb6_fad4_11e9_b6d0_acde48001122row0_col46\" class=\"data row0 col46\" >39</td>\n",
       "                        <td id=\"T_24d1deb6_fad4_11e9_b6d0_acde48001122row0_col47\" class=\"data row0 col47\" >44</td>\n",
       "                        <td id=\"T_24d1deb6_fad4_11e9_b6d0_acde48001122row0_col48\" class=\"data row0 col48\" >38</td>\n",
       "                        <td id=\"T_24d1deb6_fad4_11e9_b6d0_acde48001122row0_col49\" class=\"data row0 col49\" >43</td>\n",
       "                        <td id=\"T_24d1deb6_fad4_11e9_b6d0_acde48001122row0_col50\" class=\"data row0 col50\" >40</td>\n",
       "                        <td id=\"T_24d1deb6_fad4_11e9_b6d0_acde48001122row0_col51\" class=\"data row0 col51\" >54</td>\n",
       "                        <td id=\"T_24d1deb6_fad4_11e9_b6d0_acde48001122row0_col52\" class=\"data row0 col52\" >42</td>\n",
       "                        <td id=\"T_24d1deb6_fad4_11e9_b6d0_acde48001122row0_col53\" class=\"data row0 col53\" >41</td>\n",
       "                        <td id=\"T_24d1deb6_fad4_11e9_b6d0_acde48001122row0_col54\" class=\"data row0 col54\" >37</td>\n",
       "                        <td id=\"T_24d1deb6_fad4_11e9_b6d0_acde48001122row0_col55\" class=\"data row0 col55\" >50</td>\n",
       "                        <td id=\"T_24d1deb6_fad4_11e9_b6d0_acde48001122row0_col56\" class=\"data row0 col56\" >39</td>\n",
       "                        <td id=\"T_24d1deb6_fad4_11e9_b6d0_acde48001122row0_col57\" class=\"data row0 col57\" >41</td>\n",
       "                        <td id=\"T_24d1deb6_fad4_11e9_b6d0_acde48001122row0_col58\" class=\"data row0 col58\" >35</td>\n",
       "                        <td id=\"T_24d1deb6_fad4_11e9_b6d0_acde48001122row0_col59\" class=\"data row0 col59\" >48</td>\n",
       "                        <td id=\"T_24d1deb6_fad4_11e9_b6d0_acde48001122row0_col60\" class=\"data row0 col60\" >44</td>\n",
       "                        <td id=\"T_24d1deb6_fad4_11e9_b6d0_acde48001122row0_col61\" class=\"data row0 col61\" >48</td>\n",
       "                        <td id=\"T_24d1deb6_fad4_11e9_b6d0_acde48001122row0_col62\" class=\"data row0 col62\" >38</td>\n",
       "                        <td id=\"T_24d1deb6_fad4_11e9_b6d0_acde48001122row0_col63\" class=\"data row0 col63\" >50</td>\n",
       "                        <td id=\"T_24d1deb6_fad4_11e9_b6d0_acde48001122row0_col64\" class=\"data row0 col64\" >42</td>\n",
       "                        <td id=\"T_24d1deb6_fad4_11e9_b6d0_acde48001122row0_col65\" class=\"data row0 col65\" >52</td>\n",
       "                        <td id=\"T_24d1deb6_fad4_11e9_b6d0_acde48001122row0_col66\" class=\"data row0 col66\" >62</td>\n",
       "                        <td id=\"T_24d1deb6_fad4_11e9_b6d0_acde48001122row0_col67\" class=\"data row0 col67\" >64</td>\n",
       "                        <td id=\"T_24d1deb6_fad4_11e9_b6d0_acde48001122row0_col68\" class=\"data row0 col68\" >64</td>\n",
       "                        <td id=\"T_24d1deb6_fad4_11e9_b6d0_acde48001122row0_col69\" class=\"data row0 col69\" >76</td>\n",
       "                        <td id=\"T_24d1deb6_fad4_11e9_b6d0_acde48001122row0_col70\" class=\"data row0 col70\" >116</td>\n",
       "                        <td id=\"T_24d1deb6_fad4_11e9_b6d0_acde48001122row0_col71\" class=\"data row0 col71\" >250</td>\n",
       "                        <td id=\"T_24d1deb6_fad4_11e9_b6d0_acde48001122row0_col72\" class=\"data row0 col72\" >3625</td>\n",
       "            </tr>\n",
       "            <tr>\n",
       "                        <th id=\"T_24d1deb6_fad4_11e9_b6d0_acde48001122level0_row1\" class=\"row_heading level0 row1\" >1</th>\n",
       "                        <td id=\"T_24d1deb6_fad4_11e9_b6d0_acde48001122row1_col0\" class=\"data row1 col0\" >267</td>\n",
       "                        <td id=\"T_24d1deb6_fad4_11e9_b6d0_acde48001122row1_col1\" class=\"data row1 col1\" >88</td>\n",
       "                        <td id=\"T_24d1deb6_fad4_11e9_b6d0_acde48001122row1_col2\" class=\"data row1 col2\" >59</td>\n",
       "                        <td id=\"T_24d1deb6_fad4_11e9_b6d0_acde48001122row1_col3\" class=\"data row1 col3\" >63</td>\n",
       "                        <td id=\"T_24d1deb6_fad4_11e9_b6d0_acde48001122row1_col4\" class=\"data row1 col4\" >44</td>\n",
       "                        <td id=\"T_24d1deb6_fad4_11e9_b6d0_acde48001122row1_col5\" class=\"data row1 col5\" >24</td>\n",
       "                        <td id=\"T_24d1deb6_fad4_11e9_b6d0_acde48001122row1_col6\" class=\"data row1 col6\" >34</td>\n",
       "                        <td id=\"T_24d1deb6_fad4_11e9_b6d0_acde48001122row1_col7\" class=\"data row1 col7\" >29</td>\n",
       "                        <td id=\"T_24d1deb6_fad4_11e9_b6d0_acde48001122row1_col8\" class=\"data row1 col8\" >28</td>\n",
       "                        <td id=\"T_24d1deb6_fad4_11e9_b6d0_acde48001122row1_col9\" class=\"data row1 col9\" >34</td>\n",
       "                        <td id=\"T_24d1deb6_fad4_11e9_b6d0_acde48001122row1_col10\" class=\"data row1 col10\" >22</td>\n",
       "                        <td id=\"T_24d1deb6_fad4_11e9_b6d0_acde48001122row1_col11\" class=\"data row1 col11\" >29</td>\n",
       "                        <td id=\"T_24d1deb6_fad4_11e9_b6d0_acde48001122row1_col12\" class=\"data row1 col12\" >26</td>\n",
       "                        <td id=\"T_24d1deb6_fad4_11e9_b6d0_acde48001122row1_col13\" class=\"data row1 col13\" >15</td>\n",
       "                        <td id=\"T_24d1deb6_fad4_11e9_b6d0_acde48001122row1_col14\" class=\"data row1 col14\" >23</td>\n",
       "                        <td id=\"T_24d1deb6_fad4_11e9_b6d0_acde48001122row1_col15\" class=\"data row1 col15\" >13</td>\n",
       "                        <td id=\"T_24d1deb6_fad4_11e9_b6d0_acde48001122row1_col16\" class=\"data row1 col16\" >15</td>\n",
       "                        <td id=\"T_24d1deb6_fad4_11e9_b6d0_acde48001122row1_col17\" class=\"data row1 col17\" >14</td>\n",
       "                        <td id=\"T_24d1deb6_fad4_11e9_b6d0_acde48001122row1_col18\" class=\"data row1 col18\" >14</td>\n",
       "                        <td id=\"T_24d1deb6_fad4_11e9_b6d0_acde48001122row1_col19\" class=\"data row1 col19\" >13</td>\n",
       "                        <td id=\"T_24d1deb6_fad4_11e9_b6d0_acde48001122row1_col20\" class=\"data row1 col20\" >13</td>\n",
       "                        <td id=\"T_24d1deb6_fad4_11e9_b6d0_acde48001122row1_col21\" class=\"data row1 col21\" >17</td>\n",
       "                        <td id=\"T_24d1deb6_fad4_11e9_b6d0_acde48001122row1_col22\" class=\"data row1 col22\" >7</td>\n",
       "                        <td id=\"T_24d1deb6_fad4_11e9_b6d0_acde48001122row1_col23\" class=\"data row1 col23\" >16</td>\n",
       "                        <td id=\"T_24d1deb6_fad4_11e9_b6d0_acde48001122row1_col24\" class=\"data row1 col24\" >16</td>\n",
       "                        <td id=\"T_24d1deb6_fad4_11e9_b6d0_acde48001122row1_col25\" class=\"data row1 col25\" >11</td>\n",
       "                        <td id=\"T_24d1deb6_fad4_11e9_b6d0_acde48001122row1_col26\" class=\"data row1 col26\" >7</td>\n",
       "                        <td id=\"T_24d1deb6_fad4_11e9_b6d0_acde48001122row1_col27\" class=\"data row1 col27\" >8</td>\n",
       "                        <td id=\"T_24d1deb6_fad4_11e9_b6d0_acde48001122row1_col28\" class=\"data row1 col28\" >13</td>\n",
       "                        <td id=\"T_24d1deb6_fad4_11e9_b6d0_acde48001122row1_col29\" class=\"data row1 col29\" >14</td>\n",
       "                        <td id=\"T_24d1deb6_fad4_11e9_b6d0_acde48001122row1_col30\" class=\"data row1 col30\" >12</td>\n",
       "                        <td id=\"T_24d1deb6_fad4_11e9_b6d0_acde48001122row1_col31\" class=\"data row1 col31\" >13</td>\n",
       "                        <td id=\"T_24d1deb6_fad4_11e9_b6d0_acde48001122row1_col32\" class=\"data row1 col32\" >9</td>\n",
       "                        <td id=\"T_24d1deb6_fad4_11e9_b6d0_acde48001122row1_col33\" class=\"data row1 col33\" >8</td>\n",
       "                        <td id=\"T_24d1deb6_fad4_11e9_b6d0_acde48001122row1_col34\" class=\"data row1 col34\" >12</td>\n",
       "                        <td id=\"T_24d1deb6_fad4_11e9_b6d0_acde48001122row1_col35\" class=\"data row1 col35\" >8</td>\n",
       "                        <td id=\"T_24d1deb6_fad4_11e9_b6d0_acde48001122row1_col36\" class=\"data row1 col36\" >8</td>\n",
       "                        <td id=\"T_24d1deb6_fad4_11e9_b6d0_acde48001122row1_col37\" class=\"data row1 col37\" >10</td>\n",
       "                        <td id=\"T_24d1deb6_fad4_11e9_b6d0_acde48001122row1_col38\" class=\"data row1 col38\" >9</td>\n",
       "                        <td id=\"T_24d1deb6_fad4_11e9_b6d0_acde48001122row1_col39\" class=\"data row1 col39\" >10</td>\n",
       "                        <td id=\"T_24d1deb6_fad4_11e9_b6d0_acde48001122row1_col40\" class=\"data row1 col40\" >9</td>\n",
       "                        <td id=\"T_24d1deb6_fad4_11e9_b6d0_acde48001122row1_col41\" class=\"data row1 col41\" >10</td>\n",
       "                        <td id=\"T_24d1deb6_fad4_11e9_b6d0_acde48001122row1_col42\" class=\"data row1 col42\" >12</td>\n",
       "                        <td id=\"T_24d1deb6_fad4_11e9_b6d0_acde48001122row1_col43\" class=\"data row1 col43\" >4</td>\n",
       "                        <td id=\"T_24d1deb6_fad4_11e9_b6d0_acde48001122row1_col44\" class=\"data row1 col44\" >5</td>\n",
       "                        <td id=\"T_24d1deb6_fad4_11e9_b6d0_acde48001122row1_col45\" class=\"data row1 col45\" >10</td>\n",
       "                        <td id=\"T_24d1deb6_fad4_11e9_b6d0_acde48001122row1_col46\" class=\"data row1 col46\" >11</td>\n",
       "                        <td id=\"T_24d1deb6_fad4_11e9_b6d0_acde48001122row1_col47\" class=\"data row1 col47\" >7</td>\n",
       "                        <td id=\"T_24d1deb6_fad4_11e9_b6d0_acde48001122row1_col48\" class=\"data row1 col48\" >13</td>\n",
       "                        <td id=\"T_24d1deb6_fad4_11e9_b6d0_acde48001122row1_col49\" class=\"data row1 col49\" >7</td>\n",
       "                        <td id=\"T_24d1deb6_fad4_11e9_b6d0_acde48001122row1_col50\" class=\"data row1 col50\" >8</td>\n",
       "                        <td id=\"T_24d1deb6_fad4_11e9_b6d0_acde48001122row1_col51\" class=\"data row1 col51\" >6</td>\n",
       "                        <td id=\"T_24d1deb6_fad4_11e9_b6d0_acde48001122row1_col52\" class=\"data row1 col52\" >9</td>\n",
       "                        <td id=\"T_24d1deb6_fad4_11e9_b6d0_acde48001122row1_col53\" class=\"data row1 col53\" >10</td>\n",
       "                        <td id=\"T_24d1deb6_fad4_11e9_b6d0_acde48001122row1_col54\" class=\"data row1 col54\" >6</td>\n",
       "                        <td id=\"T_24d1deb6_fad4_11e9_b6d0_acde48001122row1_col55\" class=\"data row1 col55\" >6</td>\n",
       "                        <td id=\"T_24d1deb6_fad4_11e9_b6d0_acde48001122row1_col56\" class=\"data row1 col56\" >5</td>\n",
       "                        <td id=\"T_24d1deb6_fad4_11e9_b6d0_acde48001122row1_col57\" class=\"data row1 col57\" >11</td>\n",
       "                        <td id=\"T_24d1deb6_fad4_11e9_b6d0_acde48001122row1_col58\" class=\"data row1 col58\" >6</td>\n",
       "                        <td id=\"T_24d1deb6_fad4_11e9_b6d0_acde48001122row1_col59\" class=\"data row1 col59\" >4</td>\n",
       "                        <td id=\"T_24d1deb6_fad4_11e9_b6d0_acde48001122row1_col60\" class=\"data row1 col60\" >6</td>\n",
       "                        <td id=\"T_24d1deb6_fad4_11e9_b6d0_acde48001122row1_col61\" class=\"data row1 col61\" >3</td>\n",
       "                        <td id=\"T_24d1deb6_fad4_11e9_b6d0_acde48001122row1_col62\" class=\"data row1 col62\" >4</td>\n",
       "                        <td id=\"T_24d1deb6_fad4_11e9_b6d0_acde48001122row1_col63\" class=\"data row1 col63\" >3</td>\n",
       "                        <td id=\"T_24d1deb6_fad4_11e9_b6d0_acde48001122row1_col64\" class=\"data row1 col64\" >4</td>\n",
       "                        <td id=\"T_24d1deb6_fad4_11e9_b6d0_acde48001122row1_col65\" class=\"data row1 col65\" >8</td>\n",
       "                        <td id=\"T_24d1deb6_fad4_11e9_b6d0_acde48001122row1_col66\" class=\"data row1 col66\" >9</td>\n",
       "                        <td id=\"T_24d1deb6_fad4_11e9_b6d0_acde48001122row1_col67\" class=\"data row1 col67\" >7</td>\n",
       "                        <td id=\"T_24d1deb6_fad4_11e9_b6d0_acde48001122row1_col68\" class=\"data row1 col68\" >4</td>\n",
       "                        <td id=\"T_24d1deb6_fad4_11e9_b6d0_acde48001122row1_col69\" class=\"data row1 col69\" >8</td>\n",
       "                        <td id=\"T_24d1deb6_fad4_11e9_b6d0_acde48001122row1_col70\" class=\"data row1 col70\" >4</td>\n",
       "                        <td id=\"T_24d1deb6_fad4_11e9_b6d0_acde48001122row1_col71\" class=\"data row1 col71\" >3</td>\n",
       "                        <td id=\"T_24d1deb6_fad4_11e9_b6d0_acde48001122row1_col72\" class=\"data row1 col72\" >1297</td>\n",
       "            </tr>\n",
       "            <tr>\n",
       "                        <th id=\"T_24d1deb6_fad4_11e9_b6d0_acde48001122level0_row2\" class=\"row_heading level0 row2\" >All</th>\n",
       "                        <td id=\"T_24d1deb6_fad4_11e9_b6d0_acde48001122row2_col0\" class=\"data row2 col0\" >413</td>\n",
       "                        <td id=\"T_24d1deb6_fad4_11e9_b6d0_acde48001122row2_col1\" class=\"data row2 col1\" >178</td>\n",
       "                        <td id=\"T_24d1deb6_fad4_11e9_b6d0_acde48001122row2_col2\" class=\"data row2 col2\" >137</td>\n",
       "                        <td id=\"T_24d1deb6_fad4_11e9_b6d0_acde48001122row2_col3\" class=\"data row2 col3\" >129</td>\n",
       "                        <td id=\"T_24d1deb6_fad4_11e9_b6d0_acde48001122row2_col4\" class=\"data row2 col4\" >91</td>\n",
       "                        <td id=\"T_24d1deb6_fad4_11e9_b6d0_acde48001122row2_col5\" class=\"data row2 col5\" >69</td>\n",
       "                        <td id=\"T_24d1deb6_fad4_11e9_b6d0_acde48001122row2_col6\" class=\"data row2 col6\" >89</td>\n",
       "                        <td id=\"T_24d1deb6_fad4_11e9_b6d0_acde48001122row2_col7\" class=\"data row2 col7\" >94</td>\n",
       "                        <td id=\"T_24d1deb6_fad4_11e9_b6d0_acde48001122row2_col8\" class=\"data row2 col8\" >74</td>\n",
       "                        <td id=\"T_24d1deb6_fad4_11e9_b6d0_acde48001122row2_col9\" class=\"data row2 col9\" >83</td>\n",
       "                        <td id=\"T_24d1deb6_fad4_11e9_b6d0_acde48001122row2_col10\" class=\"data row2 col10\" >71</td>\n",
       "                        <td id=\"T_24d1deb6_fad4_11e9_b6d0_acde48001122row2_col11\" class=\"data row2 col11\" >85</td>\n",
       "                        <td id=\"T_24d1deb6_fad4_11e9_b6d0_acde48001122row2_col12\" class=\"data row2 col12\" >71</td>\n",
       "                        <td id=\"T_24d1deb6_fad4_11e9_b6d0_acde48001122row2_col13\" class=\"data row2 col13\" >51</td>\n",
       "                        <td id=\"T_24d1deb6_fad4_11e9_b6d0_acde48001122row2_col14\" class=\"data row2 col14\" >69</td>\n",
       "                        <td id=\"T_24d1deb6_fad4_11e9_b6d0_acde48001122row2_col15\" class=\"data row2 col15\" >49</td>\n",
       "                        <td id=\"T_24d1deb6_fad4_11e9_b6d0_acde48001122row2_col16\" class=\"data row2 col16\" >59</td>\n",
       "                        <td id=\"T_24d1deb6_fad4_11e9_b6d0_acde48001122row2_col17\" class=\"data row2 col17\" >57</td>\n",
       "                        <td id=\"T_24d1deb6_fad4_11e9_b6d0_acde48001122row2_col18\" class=\"data row2 col18\" >48</td>\n",
       "                        <td id=\"T_24d1deb6_fad4_11e9_b6d0_acde48001122row2_col19\" class=\"data row2 col19\" >51</td>\n",
       "                        <td id=\"T_24d1deb6_fad4_11e9_b6d0_acde48001122row2_col20\" class=\"data row2 col20\" >44</td>\n",
       "                        <td id=\"T_24d1deb6_fad4_11e9_b6d0_acde48001122row2_col21\" class=\"data row2 col21\" >64</td>\n",
       "                        <td id=\"T_24d1deb6_fad4_11e9_b6d0_acde48001122row2_col22\" class=\"data row2 col22\" >56</td>\n",
       "                        <td id=\"T_24d1deb6_fad4_11e9_b6d0_acde48001122row2_col23\" class=\"data row2 col23\" >62</td>\n",
       "                        <td id=\"T_24d1deb6_fad4_11e9_b6d0_acde48001122row2_col24\" class=\"data row2 col24\" >64</td>\n",
       "                        <td id=\"T_24d1deb6_fad4_11e9_b6d0_acde48001122row2_col25\" class=\"data row2 col25\" >59</td>\n",
       "                        <td id=\"T_24d1deb6_fad4_11e9_b6d0_acde48001122row2_col26\" class=\"data row2 col26\" >49</td>\n",
       "                        <td id=\"T_24d1deb6_fad4_11e9_b6d0_acde48001122row2_col27\" class=\"data row2 col27\" >37</td>\n",
       "                        <td id=\"T_24d1deb6_fad4_11e9_b6d0_acde48001122row2_col28\" class=\"data row2 col28\" >56</td>\n",
       "                        <td id=\"T_24d1deb6_fad4_11e9_b6d0_acde48001122row2_col29\" class=\"data row2 col29\" >59</td>\n",
       "                        <td id=\"T_24d1deb6_fad4_11e9_b6d0_acde48001122row2_col30\" class=\"data row2 col30\" >48</td>\n",
       "                        <td id=\"T_24d1deb6_fad4_11e9_b6d0_acde48001122row2_col31\" class=\"data row2 col31\" >46</td>\n",
       "                        <td id=\"T_24d1deb6_fad4_11e9_b6d0_acde48001122row2_col32\" class=\"data row2 col32\" >48</td>\n",
       "                        <td id=\"T_24d1deb6_fad4_11e9_b6d0_acde48001122row2_col33\" class=\"data row2 col33\" >46</td>\n",
       "                        <td id=\"T_24d1deb6_fad4_11e9_b6d0_acde48001122row2_col34\" class=\"data row2 col34\" >71</td>\n",
       "                        <td id=\"T_24d1deb6_fad4_11e9_b6d0_acde48001122row2_col35\" class=\"data row2 col35\" >32</td>\n",
       "                        <td id=\"T_24d1deb6_fad4_11e9_b6d0_acde48001122row2_col36\" class=\"data row2 col36\" >46</td>\n",
       "                        <td id=\"T_24d1deb6_fad4_11e9_b6d0_acde48001122row2_col37\" class=\"data row2 col37\" >43</td>\n",
       "                        <td id=\"T_24d1deb6_fad4_11e9_b6d0_acde48001122row2_col38\" class=\"data row2 col38\" >32</td>\n",
       "                        <td id=\"T_24d1deb6_fad4_11e9_b6d0_acde48001122row2_col39\" class=\"data row2 col39\" >49</td>\n",
       "                        <td id=\"T_24d1deb6_fad4_11e9_b6d0_acde48001122row2_col40\" class=\"data row2 col40\" >51</td>\n",
       "                        <td id=\"T_24d1deb6_fad4_11e9_b6d0_acde48001122row2_col41\" class=\"data row2 col41\" >46</td>\n",
       "                        <td id=\"T_24d1deb6_fad4_11e9_b6d0_acde48001122row2_col42\" class=\"data row2 col42\" >45</td>\n",
       "                        <td id=\"T_24d1deb6_fad4_11e9_b6d0_acde48001122row2_col43\" class=\"data row2 col43\" >33</td>\n",
       "                        <td id=\"T_24d1deb6_fad4_11e9_b6d0_acde48001122row2_col44\" class=\"data row2 col44\" >47</td>\n",
       "                        <td id=\"T_24d1deb6_fad4_11e9_b6d0_acde48001122row2_col45\" class=\"data row2 col45\" >52</td>\n",
       "                        <td id=\"T_24d1deb6_fad4_11e9_b6d0_acde48001122row2_col46\" class=\"data row2 col46\" >50</td>\n",
       "                        <td id=\"T_24d1deb6_fad4_11e9_b6d0_acde48001122row2_col47\" class=\"data row2 col47\" >51</td>\n",
       "                        <td id=\"T_24d1deb6_fad4_11e9_b6d0_acde48001122row2_col48\" class=\"data row2 col48\" >51</td>\n",
       "                        <td id=\"T_24d1deb6_fad4_11e9_b6d0_acde48001122row2_col49\" class=\"data row2 col49\" >50</td>\n",
       "                        <td id=\"T_24d1deb6_fad4_11e9_b6d0_acde48001122row2_col50\" class=\"data row2 col50\" >48</td>\n",
       "                        <td id=\"T_24d1deb6_fad4_11e9_b6d0_acde48001122row2_col51\" class=\"data row2 col51\" >60</td>\n",
       "                        <td id=\"T_24d1deb6_fad4_11e9_b6d0_acde48001122row2_col52\" class=\"data row2 col52\" >51</td>\n",
       "                        <td id=\"T_24d1deb6_fad4_11e9_b6d0_acde48001122row2_col53\" class=\"data row2 col53\" >51</td>\n",
       "                        <td id=\"T_24d1deb6_fad4_11e9_b6d0_acde48001122row2_col54\" class=\"data row2 col54\" >43</td>\n",
       "                        <td id=\"T_24d1deb6_fad4_11e9_b6d0_acde48001122row2_col55\" class=\"data row2 col55\" >56</td>\n",
       "                        <td id=\"T_24d1deb6_fad4_11e9_b6d0_acde48001122row2_col56\" class=\"data row2 col56\" >44</td>\n",
       "                        <td id=\"T_24d1deb6_fad4_11e9_b6d0_acde48001122row2_col57\" class=\"data row2 col57\" >52</td>\n",
       "                        <td id=\"T_24d1deb6_fad4_11e9_b6d0_acde48001122row2_col58\" class=\"data row2 col58\" >41</td>\n",
       "                        <td id=\"T_24d1deb6_fad4_11e9_b6d0_acde48001122row2_col59\" class=\"data row2 col59\" >52</td>\n",
       "                        <td id=\"T_24d1deb6_fad4_11e9_b6d0_acde48001122row2_col60\" class=\"data row2 col60\" >50</td>\n",
       "                        <td id=\"T_24d1deb6_fad4_11e9_b6d0_acde48001122row2_col61\" class=\"data row2 col61\" >51</td>\n",
       "                        <td id=\"T_24d1deb6_fad4_11e9_b6d0_acde48001122row2_col62\" class=\"data row2 col62\" >42</td>\n",
       "                        <td id=\"T_24d1deb6_fad4_11e9_b6d0_acde48001122row2_col63\" class=\"data row2 col63\" >53</td>\n",
       "                        <td id=\"T_24d1deb6_fad4_11e9_b6d0_acde48001122row2_col64\" class=\"data row2 col64\" >46</td>\n",
       "                        <td id=\"T_24d1deb6_fad4_11e9_b6d0_acde48001122row2_col65\" class=\"data row2 col65\" >60</td>\n",
       "                        <td id=\"T_24d1deb6_fad4_11e9_b6d0_acde48001122row2_col66\" class=\"data row2 col66\" >71</td>\n",
       "                        <td id=\"T_24d1deb6_fad4_11e9_b6d0_acde48001122row2_col67\" class=\"data row2 col67\" >71</td>\n",
       "                        <td id=\"T_24d1deb6_fad4_11e9_b6d0_acde48001122row2_col68\" class=\"data row2 col68\" >68</td>\n",
       "                        <td id=\"T_24d1deb6_fad4_11e9_b6d0_acde48001122row2_col69\" class=\"data row2 col69\" >84</td>\n",
       "                        <td id=\"T_24d1deb6_fad4_11e9_b6d0_acde48001122row2_col70\" class=\"data row2 col70\" >120</td>\n",
       "                        <td id=\"T_24d1deb6_fad4_11e9_b6d0_acde48001122row2_col71\" class=\"data row2 col71\" >253</td>\n",
       "                        <td id=\"T_24d1deb6_fad4_11e9_b6d0_acde48001122row2_col72\" class=\"data row2 col72\" >4922</td>\n",
       "            </tr>\n",
       "    </tbody></table>"
      ],
      "text/plain": [
       "<pandas.io.formats.style.Styler at 0x11c53ccf8>"
      ]
     },
     "execution_count": 83,
     "metadata": {},
     "output_type": "execute_result"
    }
   ],
   "source": [
    "pd.crosstab(y_train.churn, X_train.tenure, margins=True).style.background_gradient(cmap='Blues')"
   ]
  },
  {
   "cell_type": "markdown",
   "metadata": {},
   "source": [
    "**Takeaway:** This crosstab graph shows a count of those who have churned and those who have not churned for each month of tenure. This shows a closer look at numbers as the graph above."
   ]
  },
  {
   "cell_type": "code",
   "execution_count": 60,
   "metadata": {},
   "outputs": [
    {
     "data": {
      "text/plain": [
       "<matplotlib.axes._subplots.AxesSubplot at 0x1c2389a780>"
      ]
     },
     "execution_count": 60,
     "metadata": {},
     "output_type": "execute_result"
    },
    {
     "data": {
      "image/png": "[encoded data removed]",
      "text/plain": [
       "<Figure size 1080x720 with 2 Axes>"
      ]
     },
     "metadata": {
      "needs_background": "light"
     },
     "output_type": "display_data"
    }
   ],
   "source": [
    "plt.figure(figsize=(15,10))\n",
    "sns.heatmap(train_encode.corr(), cmap='Blues', annot=True)"
   ]
  },
  {
   "cell_type": "markdown",
   "metadata": {},
   "source": [
    "**Takeaway:** Though nothing is extremely . highly correlated to churn, I am able to see that some correlations are much higher than others. Some features, such as gender, have no effect on churn, and will lead me to believe that that is a column I can drop later when running a model."
   ]
  },
  {
   "cell_type": "markdown",
   "metadata": {},
   "source": [
    "#### Question: Are there features that indicate a higher propensity to churn? Type of internet service?"
   ]
  },
  {
   "cell_type": "code",
   "execution_count": 64,
   "metadata": {},
   "outputs": [
    {
     "data": {
      "text/plain": [
       "Text(0, 0.5, 'Churn Rate')"
      ]
     },
     "execution_count": 64,
     "metadata": {},
     "output_type": "execute_result"
    },
    {
     "data": {
      "image/png": "[encoded data removed]",
      "text/plain": [
       "<Figure size 648x432 with 1 Axes>"
      ]
     },
     "metadata": {
      "needs_background": "light"
     },
     "output_type": "display_data"
    }
   ],
   "source": [
    "plt.figure(figsize=(9,6))\n",
    "ax = sns.barplot(x = \"internet_service_type_id\", y = \"churn\", data = train_encode)\n",
    "ax.set_xticklabels([\"DSL\", \"Fiber Optic\", \"None\"])\n",
    "plt.title(\"Churn Rate vs. Internet Service\")\n",
    "plt.xticks(rotation = -60)\n",
    "ax.set_ylabel(\"Churn Rate\")\n",
    "# clean up x_axis label"
   ]
  },
  {
   "cell_type": "markdown",
   "metadata": {},
   "source": [
    "#### Number of phone lines?"
   ]
  },
  {
   "cell_type": "code",
   "execution_count": 67,
   "metadata": {
    "scrolled": false
   },
   "outputs": [
    {
     "data": {
      "image/png": "[encoded data removed]",
      "text/plain": [
       "<Figure size 648x432 with 1 Axes>"
      ]
     },
     "metadata": {
      "needs_background": "light"
     },
     "output_type": "display_data"
    }
   ],
   "source": [
    "plt.figure(figsize=(9,6))\n",
    "ax = sns.barplot(x= \"multiple_lines\", y = \"churn\", data = train_encode)\n",
    "plt.xticks(rotation = -60)\n",
    "plt.title(\"Churn Rate vs. Phone Lines\")\n",
    "ax.set_xticklabels([\"One Line\", \"No Phone Service\", \"Multiple Lines\"])\n",
    "plt.xticks(rotation = -60)\n",
    "ax.set_ylabel(\"Churn Rate\")\n",
    "plt.show()"
   ]
  },
  {
   "cell_type": "markdown",
   "metadata": {},
   "source": [
    "#### Type of phone service?"
   ]
  },
  {
   "cell_type": "code",
   "execution_count": 71,
   "metadata": {
    "scrolled": false
   },
   "outputs": [
    {
     "data": {
      "image/png": "[encoded data removed]",
      "text/plain": [
       "<Figure size 648x432 with 1 Axes>"
      ]
     },
     "metadata": {
      "needs_background": "light"
     },
     "output_type": "display_data"
    }
   ],
   "source": [
    "plt.figure(figsize=(9,6))\n",
    "ax = sns.barplot(x= \"phone_service\", y = \"churn\", data = train_encode)\n",
    "plt.title(\"Churn Rate vs. Phone Service\")\n",
    "plt.xticks(rotation = -60)\n",
    "ax.set_xticklabels([\"No Phone Service\", \"Yes Phone Service\"])\n",
    "ax.set_ylabel(\"Churn Rate\")\n",
    "plt.show()"
   ]
  },
  {
   "cell_type": "markdown",
   "metadata": {},
   "source": [
    "#### Online security? "
   ]
  },
  {
   "cell_type": "code",
   "execution_count": 72,
   "metadata": {},
   "outputs": [
    {
     "data": {
      "image/png": "[encoded data removed]",
      "text/plain": [
       "<Figure size 648x432 with 1 Axes>"
      ]
     },
     "metadata": {
      "needs_background": "light"
     },
     "output_type": "display_data"
    }
   ],
   "source": [
    "plt.figure(figsize=(9,6))\n",
    "plt.title(\"Churn Rate vs. Online Security\")\n",
    "ax = sns.barplot(x = \"online_security\", y = \"churn\", data = train_encode)\n",
    "ax.set_xticklabels([\"No Online Security\",\"No Internet Service\",\"Yes Online Security\"])\n",
    "ax.set_xlabel(\"Online Security\")\n",
    "ax.set_ylabel(\"Churn Rate\")\n",
    "plt.xticks(rotation = -60)\n",
    "plt.show()"
   ]
  },
  {
   "cell_type": "markdown",
   "metadata": {},
   "source": [
    "#### Online backup?"
   ]
  },
  {
   "cell_type": "code",
   "execution_count": 75,
   "metadata": {},
   "outputs": [
    {
     "data": {
      "image/png": "[encoded data removed]",
      "text/plain": [
       "<Figure size 648x432 with 1 Axes>"
      ]
     },
     "metadata": {
      "needs_background": "light"
     },
     "output_type": "display_data"
    }
   ],
   "source": [
    "plt.figure(figsize=(9,6))\n",
    "plt.title(\"Churn Rate vs. Online Backup\")\n",
    "ax = sns.barplot(x = 'online_backup', y = 'churn', data=train_encode)\n",
    "ax.set_xticklabels([\"No Online Backup\",\"No Internet Service\",\"Yes Backup\"])\n",
    "ax.set_xlabel(\"Online Back Up\")\n",
    "ax.set_ylabel(\"Churn Rate\")\n",
    "plt.xticks(rotation = -60)\n",
    "plt.show()"
   ]
  },
  {
   "cell_type": "markdown",
   "metadata": {},
   "source": [
    "#### Is a senior citizen?"
   ]
  },
  {
   "cell_type": "code",
   "execution_count": 76,
   "metadata": {},
   "outputs": [
    {
     "data": {
      "image/png": "[encoded data removed]",
      "text/plain": [
       "<Figure size 648x432 with 1 Axes>"
      ]
     },
     "metadata": {
      "needs_background": "light"
     },
     "output_type": "display_data"
    }
   ],
   "source": [
    "plt.figure(figsize=(9,6))\n",
    "plt.title(\"Churn Rate vs. Senior Citizen\")\n",
    "ax = sns.barplot(x = 'senior_citizen', y ='churn', data = train_encode)\n",
    "ax.set_xticklabels([\"No\",\"Yes\"])\n",
    "ax.set_xlabel(\"Senior Citizen\")\n",
    "ax.set_ylabel(\"Churn Rate\")\n",
    "plt.xticks(rotation = -60)\n",
    "plt.show()"
   ]
  },
  {
   "cell_type": "markdown",
   "metadata": {},
   "source": [
    "#### Question: Is total charges driving churn?"
   ]
  },
  {
   "cell_type": "code",
   "execution_count": 88,
   "metadata": {},
   "outputs": [
    {
     "data": {
      "text/plain": [
       "<seaborn.axisgrid.FacetGrid at 0x1c28689c50>"
      ]
     },
     "execution_count": 88,
     "metadata": {},
     "output_type": "execute_result"
    },
    {
     "data": {
      "text/plain": [
       "<Figure size 864x576 with 0 Axes>"
      ]
     },
     "metadata": {},
     "output_type": "display_data"
    },
    {
     "data": {
      "image/png": "[encoded data removed]",
      "text/plain": [
       "<Figure size 424.75x360 with 1 Axes>"
      ]
     },
     "metadata": {
      "needs_background": "light"
     },
     "output_type": "display_data"
    }
   ],
   "source": [
    "plt.figure(figsize=(12,8))\n",
    "sns.relplot(x='tenure', y='total_charges', hue='churn', data=train_encode, alpha=.25)"
   ]
  },
  {
   "cell_type": "markdown",
   "metadata": {},
   "source": [
    "**Takeaway:** You can see from this graph that the customers who churned mostly cluster around the same area, in the earlier months of tenure, but they are scattered throughout all of the tenure months. This leads me to believe that it is not the total charges that is driving churn, there must be other features that are more of a factor."
   ]
  },
  {
   "cell_type": "markdown",
   "metadata": {},
   "source": [
    "### Model 2: Encoded Decision Tree\n",
    "- In order to run another model, I am going to recall the data for a fresh start to make adjustments for another model.\n",
    "- I will set the customer id as the index, since I do not want to get rid of it and the values in that column will not be encoded.\n",
    "- I will perform any necessary changes needed with functions I have already created.\n",
    "\n",
    "**Task:** Split and encode the data."
   ]
  },
  {
   "cell_type": "code",
   "execution_count": 46,
   "metadata": {},
   "outputs": [
    {
     "data": {
      "text/html": [
       "<div>\n",
       "<style scoped>\n",
       "    .dataframe tbody tr th:only-of-type {\n",
       "        vertical-align: middle;\n",
       "    }\n",
       "\n",
       "    .dataframe tbody tr th {\n",
       "        vertical-align: top;\n",
       "    }\n",
       "\n",
       "    .dataframe thead th {\n",
       "        text-align: right;\n",
       "    }\n",
       "</style>\n",
       "<table border=\"1\" class=\"dataframe\">\n",
       "  <thead>\n",
       "    <tr style=\"text-align: right;\">\n",
       "      <th></th>\n",
       "      <th>payment_type_id</th>\n",
       "      <th>internet_service_type_id</th>\n",
       "      <th>contract_type_id</th>\n",
       "      <th>gender</th>\n",
       "      <th>senior_citizen</th>\n",
       "      <th>tenure</th>\n",
       "      <th>phone_service</th>\n",
       "      <th>multiple_lines</th>\n",
       "      <th>online_security</th>\n",
       "      <th>online_backup</th>\n",
       "      <th>...</th>\n",
       "      <th>tech_support</th>\n",
       "      <th>paperless_billing</th>\n",
       "      <th>monthly_charges</th>\n",
       "      <th>total_charges</th>\n",
       "      <th>churn</th>\n",
       "      <th>contract_type</th>\n",
       "      <th>internet_service_type</th>\n",
       "      <th>payment_type</th>\n",
       "      <th>family</th>\n",
       "      <th>streaming_services</th>\n",
       "    </tr>\n",
       "    <tr>\n",
       "      <th>customer_id</th>\n",
       "      <th></th>\n",
       "      <th></th>\n",
       "      <th></th>\n",
       "      <th></th>\n",
       "      <th></th>\n",
       "      <th></th>\n",
       "      <th></th>\n",
       "      <th></th>\n",
       "      <th></th>\n",
       "      <th></th>\n",
       "      <th></th>\n",
       "      <th></th>\n",
       "      <th></th>\n",
       "      <th></th>\n",
       "      <th></th>\n",
       "      <th></th>\n",
       "      <th></th>\n",
       "      <th></th>\n",
       "      <th></th>\n",
       "      <th></th>\n",
       "      <th></th>\n",
       "    </tr>\n",
       "  </thead>\n",
       "  <tbody>\n",
       "    <tr>\n",
       "      <th>0003-MKNFE</th>\n",
       "      <td>2</td>\n",
       "      <td>1</td>\n",
       "      <td>1</td>\n",
       "      <td>Male</td>\n",
       "      <td>0</td>\n",
       "      <td>9</td>\n",
       "      <td>Yes</td>\n",
       "      <td>Yes</td>\n",
       "      <td>No</td>\n",
       "      <td>No</td>\n",
       "      <td>...</td>\n",
       "      <td>No</td>\n",
       "      <td>No</td>\n",
       "      <td>59.9</td>\n",
       "      <td>542.40</td>\n",
       "      <td>No</td>\n",
       "      <td>Month-to-month</td>\n",
       "      <td>DSL</td>\n",
       "      <td>Mailed check</td>\n",
       "      <td>False</td>\n",
       "      <td>True</td>\n",
       "    </tr>\n",
       "    <tr>\n",
       "      <th>0013-MHZWF</th>\n",
       "      <td>4</td>\n",
       "      <td>1</td>\n",
       "      <td>1</td>\n",
       "      <td>Female</td>\n",
       "      <td>0</td>\n",
       "      <td>9</td>\n",
       "      <td>Yes</td>\n",
       "      <td>No</td>\n",
       "      <td>No</td>\n",
       "      <td>No</td>\n",
       "      <td>...</td>\n",
       "      <td>Yes</td>\n",
       "      <td>Yes</td>\n",
       "      <td>69.4</td>\n",
       "      <td>571.45</td>\n",
       "      <td>No</td>\n",
       "      <td>Month-to-month</td>\n",
       "      <td>DSL</td>\n",
       "      <td>Credit card (automatic)</td>\n",
       "      <td>True</td>\n",
       "      <td>True</td>\n",
       "    </tr>\n",
       "    <tr>\n",
       "      <th>0015-UOCOJ</th>\n",
       "      <td>1</td>\n",
       "      <td>1</td>\n",
       "      <td>1</td>\n",
       "      <td>Female</td>\n",
       "      <td>1</td>\n",
       "      <td>7</td>\n",
       "      <td>Yes</td>\n",
       "      <td>No</td>\n",
       "      <td>Yes</td>\n",
       "      <td>No</td>\n",
       "      <td>...</td>\n",
       "      <td>No</td>\n",
       "      <td>Yes</td>\n",
       "      <td>48.2</td>\n",
       "      <td>340.35</td>\n",
       "      <td>No</td>\n",
       "      <td>Month-to-month</td>\n",
       "      <td>DSL</td>\n",
       "      <td>Electronic check</td>\n",
       "      <td>False</td>\n",
       "      <td>False</td>\n",
       "    </tr>\n",
       "    <tr>\n",
       "      <th>0023-HGHWL</th>\n",
       "      <td>1</td>\n",
       "      <td>1</td>\n",
       "      <td>1</td>\n",
       "      <td>Male</td>\n",
       "      <td>1</td>\n",
       "      <td>1</td>\n",
       "      <td>No</td>\n",
       "      <td>No phone service</td>\n",
       "      <td>No</td>\n",
       "      <td>No</td>\n",
       "      <td>...</td>\n",
       "      <td>No</td>\n",
       "      <td>Yes</td>\n",
       "      <td>25.1</td>\n",
       "      <td>25.10</td>\n",
       "      <td>Yes</td>\n",
       "      <td>Month-to-month</td>\n",
       "      <td>DSL</td>\n",
       "      <td>Electronic check</td>\n",
       "      <td>False</td>\n",
       "      <td>False</td>\n",
       "    </tr>\n",
       "    <tr>\n",
       "      <th>0032-PGELS</th>\n",
       "      <td>3</td>\n",
       "      <td>1</td>\n",
       "      <td>1</td>\n",
       "      <td>Female</td>\n",
       "      <td>0</td>\n",
       "      <td>1</td>\n",
       "      <td>No</td>\n",
       "      <td>No phone service</td>\n",
       "      <td>Yes</td>\n",
       "      <td>No</td>\n",
       "      <td>...</td>\n",
       "      <td>No</td>\n",
       "      <td>No</td>\n",
       "      <td>30.5</td>\n",
       "      <td>30.50</td>\n",
       "      <td>Yes</td>\n",
       "      <td>Month-to-month</td>\n",
       "      <td>DSL</td>\n",
       "      <td>Bank transfer (automatic)</td>\n",
       "      <td>True</td>\n",
       "      <td>False</td>\n",
       "    </tr>\n",
       "  </tbody>\n",
       "</table>\n",
       "<p>5 rows × 21 columns</p>\n",
       "</div>"
      ],
      "text/plain": [
       "             payment_type_id  internet_service_type_id  contract_type_id  \\\n",
       "customer_id                                                                \n",
       "0003-MKNFE                 2                         1                 1   \n",
       "0013-MHZWF                 4                         1                 1   \n",
       "0015-UOCOJ                 1                         1                 1   \n",
       "0023-HGHWL                 1                         1                 1   \n",
       "0032-PGELS                 3                         1                 1   \n",
       "\n",
       "             gender  senior_citizen  tenure phone_service    multiple_lines  \\\n",
       "customer_id                                                                   \n",
       "0003-MKNFE     Male               0       9           Yes               Yes   \n",
       "0013-MHZWF   Female               0       9           Yes                No   \n",
       "0015-UOCOJ   Female               1       7           Yes                No   \n",
       "0023-HGHWL     Male               1       1            No  No phone service   \n",
       "0032-PGELS   Female               0       1            No  No phone service   \n",
       "\n",
       "            online_security online_backup  ... tech_support paperless_billing  \\\n",
       "customer_id                                ...                                  \n",
       "0003-MKNFE               No            No  ...           No                No   \n",
       "0013-MHZWF               No            No  ...          Yes               Yes   \n",
       "0015-UOCOJ              Yes            No  ...           No               Yes   \n",
       "0023-HGHWL               No            No  ...           No               Yes   \n",
       "0032-PGELS              Yes            No  ...           No                No   \n",
       "\n",
       "            monthly_charges  total_charges  churn   contract_type  \\\n",
       "customer_id                                                         \n",
       "0003-MKNFE             59.9         542.40     No  Month-to-month   \n",
       "0013-MHZWF             69.4         571.45     No  Month-to-month   \n",
       "0015-UOCOJ             48.2         340.35     No  Month-to-month   \n",
       "0023-HGHWL             25.1          25.10    Yes  Month-to-month   \n",
       "0032-PGELS             30.5          30.50    Yes  Month-to-month   \n",
       "\n",
       "            internet_service_type               payment_type family  \\\n",
       "customer_id                                                           \n",
       "0003-MKNFE                    DSL               Mailed check  False   \n",
       "0013-MHZWF                    DSL    Credit card (automatic)   True   \n",
       "0015-UOCOJ                    DSL           Electronic check  False   \n",
       "0023-HGHWL                    DSL           Electronic check  False   \n",
       "0032-PGELS                    DSL  Bank transfer (automatic)   True   \n",
       "\n",
       "             streaming_services  \n",
       "customer_id                      \n",
       "0003-MKNFE                 True  \n",
       "0013-MHZWF                 True  \n",
       "0015-UOCOJ                False  \n",
       "0023-HGHWL                False  \n",
       "0032-PGELS                False  \n",
       "\n",
       "[5 rows x 21 columns]"
      ]
     },
     "execution_count": 46,
     "metadata": {},
     "output_type": "execute_result"
    }
   ],
   "source": [
    "df = acquire.acquire_telco()\n",
    "df.set_index('customer_id', inplace=True)\n",
    "df.head()"
   ]
  },
  {
   "cell_type": "code",
   "execution_count": 16,
   "metadata": {},
   "outputs": [
    {
     "data": {
      "text/plain": [
       "(2110, 21)"
      ]
     },
     "execution_count": 16,
     "metadata": {},
     "output_type": "execute_result"
    }
   ],
   "source": [
    "train, test = split_scale.split_my_data(df)\n",
    "train.shape\n",
    "test.shape"
   ]
  },
  {
   "cell_type": "code",
   "execution_count": 45,
   "metadata": {},
   "outputs": [
    {
     "data": {
      "text/html": [
       "<div>\n",
       "<style scoped>\n",
       "    .dataframe tbody tr th:only-of-type {\n",
       "        vertical-align: middle;\n",
       "    }\n",
       "\n",
       "    .dataframe tbody tr th {\n",
       "        vertical-align: top;\n",
       "    }\n",
       "\n",
       "    .dataframe thead th {\n",
       "        text-align: right;\n",
       "    }\n",
       "</style>\n",
       "<table border=\"1\" class=\"dataframe\">\n",
       "  <thead>\n",
       "    <tr style=\"text-align: right;\">\n",
       "      <th></th>\n",
       "      <th>payment_type_id</th>\n",
       "      <th>internet_service_type_id</th>\n",
       "      <th>contract_type_id</th>\n",
       "      <th>gender</th>\n",
       "      <th>senior_citizen</th>\n",
       "      <th>tenure</th>\n",
       "      <th>phone_service</th>\n",
       "      <th>multiple_lines</th>\n",
       "      <th>online_security</th>\n",
       "      <th>online_backup</th>\n",
       "      <th>device_protection</th>\n",
       "      <th>tech_support</th>\n",
       "      <th>paperless_billing</th>\n",
       "      <th>monthly_charges</th>\n",
       "      <th>total_charges</th>\n",
       "      <th>churn</th>\n",
       "      <th>family</th>\n",
       "      <th>streaming_services</th>\n",
       "    </tr>\n",
       "    <tr>\n",
       "      <th>customer_id</th>\n",
       "      <th></th>\n",
       "      <th></th>\n",
       "      <th></th>\n",
       "      <th></th>\n",
       "      <th></th>\n",
       "      <th></th>\n",
       "      <th></th>\n",
       "      <th></th>\n",
       "      <th></th>\n",
       "      <th></th>\n",
       "      <th></th>\n",
       "      <th></th>\n",
       "      <th></th>\n",
       "      <th></th>\n",
       "      <th></th>\n",
       "      <th></th>\n",
       "      <th></th>\n",
       "      <th></th>\n",
       "    </tr>\n",
       "  </thead>\n",
       "  <tbody>\n",
       "    <tr>\n",
       "      <th>3866-MDTUB</th>\n",
       "      <td>1</td>\n",
       "      <td>1</td>\n",
       "      <td>1</td>\n",
       "      <td>0</td>\n",
       "      <td>0</td>\n",
       "      <td>2</td>\n",
       "      <td>1</td>\n",
       "      <td>0</td>\n",
       "      <td>2</td>\n",
       "      <td>0</td>\n",
       "      <td>0</td>\n",
       "      <td>0</td>\n",
       "      <td>1</td>\n",
       "      <td>70.75</td>\n",
       "      <td>146.90</td>\n",
       "      <td>1</td>\n",
       "      <td>0</td>\n",
       "      <td>1</td>\n",
       "    </tr>\n",
       "    <tr>\n",
       "      <th>5555-RNPGT</th>\n",
       "      <td>4</td>\n",
       "      <td>3</td>\n",
       "      <td>1</td>\n",
       "      <td>1</td>\n",
       "      <td>0</td>\n",
       "      <td>10</td>\n",
       "      <td>1</td>\n",
       "      <td>2</td>\n",
       "      <td>1</td>\n",
       "      <td>1</td>\n",
       "      <td>1</td>\n",
       "      <td>1</td>\n",
       "      <td>0</td>\n",
       "      <td>24.80</td>\n",
       "      <td>223.90</td>\n",
       "      <td>0</td>\n",
       "      <td>1</td>\n",
       "      <td>0</td>\n",
       "    </tr>\n",
       "    <tr>\n",
       "      <th>3727-OWVYD</th>\n",
       "      <td>2</td>\n",
       "      <td>1</td>\n",
       "      <td>2</td>\n",
       "      <td>1</td>\n",
       "      <td>0</td>\n",
       "      <td>35</td>\n",
       "      <td>1</td>\n",
       "      <td>0</td>\n",
       "      <td>2</td>\n",
       "      <td>2</td>\n",
       "      <td>2</td>\n",
       "      <td>0</td>\n",
       "      <td>0</td>\n",
       "      <td>61.20</td>\n",
       "      <td>2021.20</td>\n",
       "      <td>0</td>\n",
       "      <td>0</td>\n",
       "      <td>0</td>\n",
       "    </tr>\n",
       "    <tr>\n",
       "      <th>2270-CHBFN</th>\n",
       "      <td>4</td>\n",
       "      <td>2</td>\n",
       "      <td>1</td>\n",
       "      <td>0</td>\n",
       "      <td>0</td>\n",
       "      <td>44</td>\n",
       "      <td>1</td>\n",
       "      <td>2</td>\n",
       "      <td>2</td>\n",
       "      <td>2</td>\n",
       "      <td>2</td>\n",
       "      <td>2</td>\n",
       "      <td>1</td>\n",
       "      <td>95.10</td>\n",
       "      <td>4060.55</td>\n",
       "      <td>0</td>\n",
       "      <td>1</td>\n",
       "      <td>0</td>\n",
       "    </tr>\n",
       "    <tr>\n",
       "      <th>6892-XPFPU</th>\n",
       "      <td>1</td>\n",
       "      <td>2</td>\n",
       "      <td>1</td>\n",
       "      <td>1</td>\n",
       "      <td>1</td>\n",
       "      <td>24</td>\n",
       "      <td>1</td>\n",
       "      <td>2</td>\n",
       "      <td>0</td>\n",
       "      <td>2</td>\n",
       "      <td>2</td>\n",
       "      <td>0</td>\n",
       "      <td>1</td>\n",
       "      <td>104.25</td>\n",
       "      <td>2433.90</td>\n",
       "      <td>1</td>\n",
       "      <td>1</td>\n",
       "      <td>1</td>\n",
       "    </tr>\n",
       "  </tbody>\n",
       "</table>\n",
       "</div>"
      ],
      "text/plain": [
       "             payment_type_id  internet_service_type_id  contract_type_id  \\\n",
       "customer_id                                                                \n",
       "3866-MDTUB                 1                         1                 1   \n",
       "5555-RNPGT                 4                         3                 1   \n",
       "3727-OWVYD                 2                         1                 2   \n",
       "2270-CHBFN                 4                         2                 1   \n",
       "6892-XPFPU                 1                         2                 1   \n",
       "\n",
       "             gender  senior_citizen  tenure  phone_service  multiple_lines  \\\n",
       "customer_id                                                                  \n",
       "3866-MDTUB        0               0       2              1               0   \n",
       "5555-RNPGT        1               0      10              1               2   \n",
       "3727-OWVYD        1               0      35              1               0   \n",
       "2270-CHBFN        0               0      44              1               2   \n",
       "6892-XPFPU        1               1      24              1               2   \n",
       "\n",
       "             online_security  online_backup  device_protection  tech_support  \\\n",
       "customer_id                                                                    \n",
       "3866-MDTUB                 2              0                  0             0   \n",
       "5555-RNPGT                 1              1                  1             1   \n",
       "3727-OWVYD                 2              2                  2             0   \n",
       "2270-CHBFN                 2              2                  2             2   \n",
       "6892-XPFPU                 0              2                  2             0   \n",
       "\n",
       "             paperless_billing  monthly_charges  total_charges  churn  family  \\\n",
       "customer_id                                                                     \n",
       "3866-MDTUB                   1            70.75         146.90      1       0   \n",
       "5555-RNPGT                   0            24.80         223.90      0       1   \n",
       "3727-OWVYD                   0            61.20        2021.20      0       0   \n",
       "2270-CHBFN                   1            95.10        4060.55      0       1   \n",
       "6892-XPFPU                   1           104.25        2433.90      1       1   \n",
       "\n",
       "             streaming_services  \n",
       "customer_id                      \n",
       "3866-MDTUB                    1  \n",
       "5555-RNPGT                    0  \n",
       "3727-OWVYD                    0  \n",
       "2270-CHBFN                    0  \n",
       "6892-XPFPU                    1  "
      ]
     },
     "execution_count": 45,
     "metadata": {},
     "output_type": "execute_result"
    }
   ],
   "source": [
    "train_encode, test_encode = prepare.encode(train, test)\n",
    "train_encode.head()"
   ]
  },
  {
   "cell_type": "code",
   "execution_count": 18,
   "metadata": {},
   "outputs": [],
   "source": [
    "X_train = train_encode.drop(['churn'],axis=1)\n",
    "y_train = train_encode[['churn']]\n",
    "X_test = test_encode.drop(['churn'],axis=1)\n",
    "y_test = test_encode[['churn']]"
   ]
  },
  {
   "cell_type": "markdown",
   "metadata": {},
   "source": [
    "- After tidying up the data, I will not plug it into a decision tree to test if more features will get better results than just the three features previously chosen."
   ]
  },
  {
   "cell_type": "code",
   "execution_count": 19,
   "metadata": {},
   "outputs": [
    {
     "data": {
      "text/plain": [
       "DecisionTreeClassifier(class_weight=None, criterion='gini', max_depth=4,\n",
       "                       max_features=None, max_leaf_nodes=None,\n",
       "                       min_impurity_decrease=0.0, min_impurity_split=None,\n",
       "                       min_samples_leaf=1, min_samples_split=2,\n",
       "                       min_weight_fraction_leaf=0.0, presort=False,\n",
       "                       random_state=123, splitter='best')"
      ]
     },
     "execution_count": 19,
     "metadata": {},
     "output_type": "execute_result"
    }
   ],
   "source": [
    "clf = DecisionTreeClassifier(criterion='gini', max_depth=4, random_state=123)\n",
    "clf.fit(X_train, y_train)"
   ]
  },
  {
   "cell_type": "code",
   "execution_count": 20,
   "metadata": {},
   "outputs": [
    {
     "data": {
      "text/plain": [
       "array([0, 0, 0, ..., 0, 0, 0])"
      ]
     },
     "execution_count": 20,
     "metadata": {},
     "output_type": "execute_result"
    }
   ],
   "source": [
    "y_pred = clf.predict(X_train)\n",
    "y_pred"
   ]
  },
  {
   "cell_type": "code",
   "execution_count": 21,
   "metadata": {},
   "outputs": [
    {
     "data": {
      "text/plain": [
       "array([[0.82075472, 0.17924528],\n",
       "       [0.82075472, 0.17924528],\n",
       "       [0.95263158, 0.04736842],\n",
       "       ...,\n",
       "       [0.95263158, 0.04736842],\n",
       "       [0.82075472, 0.17924528],\n",
       "       [0.51969504, 0.48030496]])"
      ]
     },
     "execution_count": 21,
     "metadata": {},
     "output_type": "execute_result"
    }
   ],
   "source": [
    "y_pred_proba = clf.predict_proba(X_train)\n",
    "y_pred_proba"
   ]
  },
  {
   "cell_type": "markdown",
   "metadata": {},
   "source": [
    "Evaluate Model 2"
   ]
  },
  {
   "cell_type": "code",
   "execution_count": 22,
   "metadata": {},
   "outputs": [
    {
     "name": "stdout",
     "output_type": "stream",
     "text": [
      "Accuracy of Decision Tree classifier on training set: 0.79\n"
     ]
    }
   ],
   "source": [
    "print('Accuracy of Decision Tree classifier on training set: {:.2f}'\n",
    "     .format(clf.score(X_train, y_train)))"
   ]
  },
  {
   "cell_type": "code",
   "execution_count": 23,
   "metadata": {},
   "outputs": [
    {
     "name": "stdout",
     "output_type": "stream",
     "text": [
      "[[3368  257]\n",
      " [ 775  522]]\n"
     ]
    }
   ],
   "source": [
    "print(confusion_matrix(y_train, y_pred))"
   ]
  },
  {
   "cell_type": "code",
   "execution_count": 24,
   "metadata": {},
   "outputs": [
    {
     "name": "stdout",
     "output_type": "stream",
     "text": [
      "              precision    recall  f1-score   support\n",
      "\n",
      "           0       0.81      0.93      0.87      3625\n",
      "           1       0.67      0.40      0.50      1297\n",
      "\n",
      "    accuracy                           0.79      4922\n",
      "   macro avg       0.74      0.67      0.69      4922\n",
      "weighted avg       0.78      0.79      0.77      4922\n",
      "\n"
     ]
    }
   ],
   "source": [
    "print(classification_report(y_train, y_pred))"
   ]
  },
  {
   "cell_type": "markdown",
   "metadata": {},
   "source": [
    "**Takeaways:** The accuracy of the model is the same, though the precision, recall and f1-scores vary a little bit."
   ]
  },
  {
   "cell_type": "markdown",
   "metadata": {},
   "source": [
    "### Model 3: Random Forest\n",
    "- I will now create another model using Random Forest and perform feature engineering, Select K Best, to pick the top ten features to predict churn."
   ]
  },
  {
   "cell_type": "code",
   "execution_count": 25,
   "metadata": {},
   "outputs": [
    {
     "data": {
      "text/plain": [
       "['payment_type_id',\n",
       " 'contract_type_id',\n",
       " 'tenure',\n",
       " 'online_security',\n",
       " 'online_backup',\n",
       " 'device_protection',\n",
       " 'tech_support',\n",
       " 'paperless_billing',\n",
       " 'monthly_charges',\n",
       " 'total_charges']"
      ]
     },
     "execution_count": 25,
     "metadata": {},
     "output_type": "execute_result"
    }
   ],
   "source": [
    "feature_selection.select_kbest_fregression(X_train, y_train, k=10)"
   ]
  },
  {
   "cell_type": "code",
   "execution_count": 26,
   "metadata": {},
   "outputs": [],
   "source": [
    "X_kb_train = train_encode[['payment_type_id', 'contract_type_id', 'tenure', 'online_security', 'online_backup', 'device_protection', 'tech_support', 'paperless_billing', 'monthly_charges', 'total_charges']]\n",
    "y_kb_train = train_encode[['churn']]\n",
    "X_kb_test = test_encode[['payment_type_id', 'contract_type_id', 'tenure', 'online_security', 'online_backup', 'device_protection', 'tech_support', 'paperless_billing', 'monthly_charges', 'total_charges']]\n",
    "y_kb_test = test_encode[['churn']]"
   ]
  },
  {
   "cell_type": "code",
   "execution_count": 27,
   "metadata": {},
   "outputs": [],
   "source": [
    "rf = RandomForestClassifier(bootstrap=True, \n",
    "                            class_weight=None, \n",
    "                            criterion='entropy',\n",
    "                            min_samples_leaf=3,\n",
    "                            n_estimators=100,\n",
    "                            max_depth=3, \n",
    "                            random_state=123)"
   ]
  },
  {
   "cell_type": "code",
   "execution_count": 28,
   "metadata": {},
   "outputs": [
    {
     "data": {
      "text/plain": [
       "RandomForestClassifier(bootstrap=True, class_weight=None, criterion='entropy',\n",
       "                       max_depth=3, max_features='auto', max_leaf_nodes=None,\n",
       "                       min_impurity_decrease=0.0, min_impurity_split=None,\n",
       "                       min_samples_leaf=3, min_samples_split=2,\n",
       "                       min_weight_fraction_leaf=0.0, n_estimators=100,\n",
       "                       n_jobs=None, oob_score=False, random_state=123,\n",
       "                       verbose=0, warm_start=False)"
      ]
     },
     "execution_count": 28,
     "metadata": {},
     "output_type": "execute_result"
    }
   ],
   "source": [
    "rf.fit(X_kb_train, y_kb_train)"
   ]
  },
  {
   "cell_type": "code",
   "execution_count": 29,
   "metadata": {},
   "outputs": [
    {
     "name": "stdout",
     "output_type": "stream",
     "text": [
      "[0.05228845 0.31427964 0.15631197 0.16219534 0.02492809 0.01098677\n",
      " 0.15930342 0.00504035 0.07491582 0.03975014]\n"
     ]
    }
   ],
   "source": [
    "print(rf.feature_importances_)"
   ]
  },
  {
   "cell_type": "code",
   "execution_count": 30,
   "metadata": {},
   "outputs": [
    {
     "data": {
      "text/plain": [
       "array([0, 0, 0, ..., 0, 0, 1])"
      ]
     },
     "execution_count": 30,
     "metadata": {},
     "output_type": "execute_result"
    }
   ],
   "source": [
    "y_pred = rf.predict(X_kb_train)\n",
    "y_pred"
   ]
  },
  {
   "cell_type": "code",
   "execution_count": 31,
   "metadata": {},
   "outputs": [
    {
     "data": {
      "text/plain": [
       "array([[0.51707647, 0.48292353],\n",
       "       [0.81120727, 0.18879273],\n",
       "       [0.90012536, 0.09987464],\n",
       "       ...,\n",
       "       [0.92918792, 0.07081208],\n",
       "       [0.64024965, 0.35975035],\n",
       "       [0.47380523, 0.52619477]])"
      ]
     },
     "execution_count": 31,
     "metadata": {},
     "output_type": "execute_result"
    }
   ],
   "source": [
    "y_pred_proba = rf.predict_proba(X_kb_train)\n",
    "y_pred_proba"
   ]
  },
  {
   "cell_type": "code",
   "execution_count": 32,
   "metadata": {},
   "outputs": [
    {
     "data": {
      "text/plain": [
       "'0.7956115400243803'"
      ]
     },
     "execution_count": 32,
     "metadata": {},
     "output_type": "execute_result"
    }
   ],
   "source": [
    "format(rf.score(X_kb_train, y_kb_train))"
   ]
  },
  {
   "cell_type": "code",
   "execution_count": 33,
   "metadata": {},
   "outputs": [
    {
     "name": "stdout",
     "output_type": "stream",
     "text": [
      "[[3416  209]\n",
      " [ 797  500]]\n"
     ]
    }
   ],
   "source": [
    "print(confusion_matrix(y_train, y_pred))"
   ]
  },
  {
   "cell_type": "code",
   "execution_count": 34,
   "metadata": {},
   "outputs": [
    {
     "name": "stdout",
     "output_type": "stream",
     "text": [
      "              precision    recall  f1-score   support\n",
      "\n",
      "           0       0.81      0.94      0.87      3625\n",
      "           1       0.71      0.39      0.50      1297\n",
      "\n",
      "    accuracy                           0.80      4922\n",
      "   macro avg       0.76      0.66      0.69      4922\n",
      "weighted avg       0.78      0.80      0.77      4922\n",
      "\n"
     ]
    }
   ],
   "source": [
    "print(classification_report(y_kb_train, y_pred))"
   ]
  },
  {
   "cell_type": "markdown",
   "metadata": {},
   "source": [
    "**Takeaway:** This model performed better than the baseline model, with an accuracy of 80% and precision at 71%."
   ]
  },
  {
   "cell_type": "markdown",
   "metadata": {},
   "source": [
    "### Model 3 Edit: Random Forest with ALL encoded features\n",
    "- I am going to add back in all of the 17 features to get a sense if using all features in Random Forest will give us better results than the Select K Best features."
   ]
  },
  {
   "cell_type": "code",
   "execution_count": 35,
   "metadata": {},
   "outputs": [],
   "source": [
    "rf = RandomForestClassifier(bootstrap=True, \n",
    "                            class_weight=None, \n",
    "                            criterion='gini',\n",
    "                            min_samples_leaf=3,\n",
    "                            n_estimators=100,\n",
    "                            max_depth=3, \n",
    "                            random_state=123)"
   ]
  },
  {
   "cell_type": "code",
   "execution_count": 36,
   "metadata": {},
   "outputs": [
    {
     "data": {
      "text/plain": [
       "RandomForestClassifier(bootstrap=True, class_weight=None, criterion='gini',\n",
       "                       max_depth=3, max_features='auto', max_leaf_nodes=None,\n",
       "                       min_impurity_decrease=0.0, min_impurity_split=None,\n",
       "                       min_samples_leaf=3, min_samples_split=2,\n",
       "                       min_weight_fraction_leaf=0.0, n_estimators=100,\n",
       "                       n_jobs=None, oob_score=False, random_state=123,\n",
       "                       verbose=0, warm_start=False)"
      ]
     },
     "execution_count": 36,
     "metadata": {},
     "output_type": "execute_result"
    }
   ],
   "source": [
    "rf.fit(X_train, y_train)"
   ]
  },
  {
   "cell_type": "code",
   "execution_count": 37,
   "metadata": {},
   "outputs": [
    {
     "name": "stdout",
     "output_type": "stream",
     "text": [
      "[5.30215503e-02 3.91552660e-02 2.72266595e-01 0.00000000e+00\n",
      " 1.00578423e-04 1.41018763e-01 3.30695801e-05 7.28924539e-04\n",
      " 1.43633746e-01 3.18300566e-02 2.66078150e-02 1.47093728e-01\n",
      " 1.09113389e-02 4.42741624e-02 8.16678711e-02 4.66756899e-03\n",
      " 2.98896700e-03]\n"
     ]
    }
   ],
   "source": [
    "print(rf.feature_importances_)"
   ]
  },
  {
   "cell_type": "code",
   "execution_count": 38,
   "metadata": {},
   "outputs": [
    {
     "data": {
      "text/plain": [
       "array([0, 0, 0, ..., 0, 0, 1])"
      ]
     },
     "execution_count": 38,
     "metadata": {},
     "output_type": "execute_result"
    }
   ],
   "source": [
    "y_pred = rf.predict(X_train)\n",
    "y_pred"
   ]
  },
  {
   "cell_type": "code",
   "execution_count": 39,
   "metadata": {},
   "outputs": [
    {
     "data": {
      "text/plain": [
       "array([[0.54836822, 0.45163178],\n",
       "       [0.84683168, 0.15316832],\n",
       "       [0.89147952, 0.10852048],\n",
       "       ...,\n",
       "       [0.91893359, 0.08106641],\n",
       "       [0.65776308, 0.34223692],\n",
       "       [0.48785617, 0.51214383]])"
      ]
     },
     "execution_count": 39,
     "metadata": {},
     "output_type": "execute_result"
    }
   ],
   "source": [
    "y_pred_proba = rf.predict_proba(X_train)\n",
    "y_pred_proba"
   ]
  },
  {
   "cell_type": "code",
   "execution_count": 40,
   "metadata": {},
   "outputs": [
    {
     "data": {
      "text/plain": [
       "'0.7947988622511174'"
      ]
     },
     "execution_count": 40,
     "metadata": {},
     "output_type": "execute_result"
    }
   ],
   "source": [
    "format(rf.score(X_train, y_train))"
   ]
  },
  {
   "cell_type": "code",
   "execution_count": 41,
   "metadata": {},
   "outputs": [
    {
     "name": "stdout",
     "output_type": "stream",
     "text": [
      "[[3439  186]\n",
      " [ 824  473]]\n"
     ]
    }
   ],
   "source": [
    "print(confusion_matrix(y_train, y_pred))"
   ]
  },
  {
   "cell_type": "code",
   "execution_count": 42,
   "metadata": {},
   "outputs": [
    {
     "name": "stdout",
     "output_type": "stream",
     "text": [
      "              precision    recall  f1-score   support\n",
      "\n",
      "           0       0.81      0.95      0.87      3625\n",
      "           1       0.72      0.36      0.48      1297\n",
      "\n",
      "    accuracy                           0.79      4922\n",
      "   macro avg       0.76      0.66      0.68      4922\n",
      "weighted avg       0.78      0.79      0.77      4922\n",
      "\n"
     ]
    }
   ],
   "source": [
    "print(classification_report(y_train, y_pred))"
   ]
  },
  {
   "cell_type": "markdown",
   "metadata": {},
   "source": [
    "**Takeaway:** This model edit performed slightly worse than the model with Select K Best features. I will move forward with my model 3 using feature engineering."
   ]
  },
  {
   "cell_type": "markdown",
   "metadata": {},
   "source": [
    "### Final MVP Model: Model 3 Random Forest"
   ]
  },
  {
   "cell_type": "code",
   "execution_count": null,
   "metadata": {},
   "outputs": [],
   "source": []
  }
 ],
 "metadata": {
  "kernelspec": {
   "display_name": "Python 3",
   "language": "python",
   "name": "python3"
  },
  "language_info": {
   "codemirror_mode": {
    "name": "ipython",
    "version": 3
   },
   "file_extension": ".py",
   "mimetype": "text/x-python",
   "name": "python",
   "nbconvert_exporter": "python",
   "pygments_lexer": "ipython3",
   "version": "3.7.3"
  }
 },
 "nbformat": 4,
 "nbformat_minor": 2
}
